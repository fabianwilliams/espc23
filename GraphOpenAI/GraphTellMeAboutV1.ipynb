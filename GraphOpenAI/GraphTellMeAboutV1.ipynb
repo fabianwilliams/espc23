{
 "cells": [
  {
   "cell_type": "markdown",
   "id": "b1fc3ba6-398a-4472-b3eb-fa107e143796",
   "metadata": {},
   "source": [
    "# Microsoft Graph Lexical Search Setup"
   ]
  },
  {
   "cell_type": "markdown",
   "id": "898afaae-a05d-4443-8fbe-11974d3d6971",
   "metadata": {},
   "source": [
    "## Import both Graph and Semantic Kernel Libraries"
   ]
  },
  {
   "cell_type": "code",
   "execution_count": null,
   "id": "d05e17c9-af36-452e-b604-25913f00708c",
   "metadata": {},
   "outputs": [],
   "source": []
  },
  {
   "cell_type": "code",
   "execution_count": 10,
   "id": "f6c84bd9-2830-4d8f-a1e8-1f3c21a9b4a3",
   "metadata": {},
   "outputs": [],
   "source": [
    "from dotenv import load_dotenv \n",
    "from azure.identity import DeviceCodeCredential\n",
    "#from msgraph import GraphServiceClient\n",
    "import os\n",
    "import asyncio \n",
    "import sys\n",
    "from typing import Tuple\n",
    "from semantic_kernel.skill_definition import sk_function\n",
    "import semantic_kernel as sk\n",
    "from semantic_kernel.connectors.ai.open_ai import OpenAIChatCompletion, OpenAITextEmbedding\n"
   ]
  },
  {
   "cell_type": "code",
   "execution_count": 3,
   "id": "6b59315c-61e3-4912-9b60-9d27446c4a4f",
   "metadata": {},
   "outputs": [
    {
     "data": {
      "text/plain": [
       "True"
      ]
     },
     "execution_count": 3,
     "metadata": {},
     "output_type": "execute_result"
    }
   ],
   "source": [
    "load_dotenv()"
   ]
  },
  {
   "cell_type": "markdown",
   "id": "6a81def3-90eb-4eba-9f75-0c49061a1795",
   "metadata": {},
   "source": [
    "## Functions and Variables for Graph Data"
   ]
  },
  {
   "cell_type": "code",
   "execution_count": 9,
   "id": "e9702ef1-7c10-4ff7-b556-f698a80c9ed8",
   "metadata": {},
   "outputs": [],
   "source": [
    "TENANT_ID = os.getenv(\"TENANT_ID\")\n",
    "CLIENT_ID = os.getenv(\"CLIENT_ID\")\n",
    "graphUserScopes = os.getenv(\"graphUserScopes\").split(' ')\n",
    "fabs = os.getenv(\"FABS\")\n",
    "adele = os.getenv(\"ADELEV\")"
   ]
  },
  {
   "cell_type": "code",
   "execution_count": 6,
   "id": "bb7aa705-f977-4981-8a59-c656a67278bf",
   "metadata": {},
   "outputs": [],
   "source": [
    "credential = DeviceCodeCredential(client_id=CLIENT_ID, tenant_id=TENANT_ID) \n",
    "scopes = graphUserScopes\n",
    "#client = GraphServiceClient(credentials=credential, scopes=scopes)"
   ]
  },
  {
   "cell_type": "code",
   "execution_count": 12,
   "id": "3892bdb9-15f9-4d17-817f-eaba4efb42fe",
   "metadata": {},
   "outputs": [],
   "source": [
    "kernel = sk.Kernel()"
   ]
  },
  {
   "cell_type": "code",
   "execution_count": 13,
   "id": "bfaa9a6b-b7e9-4d55-b13d-f1377b1c6452",
   "metadata": {},
   "outputs": [
    {
     "data": {
      "text/plain": [
       "{'recall': <semantic_kernel.orchestration.sk_function.SKFunction at 0x1132df2d0>,\n",
       " 'save': <semantic_kernel.orchestration.sk_function.SKFunction at 0x113306450>}"
      ]
     },
     "execution_count": 13,
     "metadata": {},
     "output_type": "execute_result"
    }
   ],
   "source": [
    "api_key, org_id = sk.openai_settings_from_dot_env()\n",
    "kernel.add_chat_service(\"chat-gpt\", OpenAIChatCompletion(\"gpt-3.5-turbo\", api_key, org_id))\n",
    "kernel.add_text_embedding_generation_service(\"ada\", OpenAITextEmbedding(\"text-embedding-ada-002\", api_key, org_id))\n",
    "\n",
    "kernel.register_memory_store(memory_store=sk.memory.VolatileMemoryStore())\n",
    "kernel.import_skill(sk.core_skills.TextMemorySkill())"
   ]
  },
  {
   "cell_type": "code",
   "execution_count": 14,
   "id": "9b1dff0b-5945-4606-aa36-bb4c50ffb385",
   "metadata": {},
   "outputs": [],
   "source": [
    "class MSGraphSearchSkill:\n",
    "    \"\"\"\n",
    "    Description: Search using the Microsoft Graph Endpoints for answers to the users questions.\n",
    "    \"\"\"\n",
    "\n",
    "    @sk_function(\n",
    "        description=\"Generate a random number between 3-x\",\n",
    "        name=\"GenerateNumberThreeOrHigher\"\n",
    "    )\n",
    "    def generate_number_three_or_higher(self, input: str) -> str:\n",
    "        \"\"\"\n",
    "        Generate a number between 3-<input>\n",
    "        Example:\n",
    "            \"8\" => rand(3,8)\n",
    "        Args:\n",
    "            input -- The upper limit for the random number generation\n",
    "        Returns:\n",
    "            int value\n",
    "        \"\"\"\n",
    "        try:\n",
    "            return str(random.randint(3, int(input))) \n",
    "        except ValueError as e:\n",
    "            print(f\"Invalid input {input}\")\n",
    "            raise e\n",
    "\n",
    "\n",
    "    @sk_function(\n",
    "        description=\"\",\n",
    "        name=\"LocateAllPertainingEmails\"\n",
    "    )\n",
    "    def skgraphsearch_mail(self, input: str) -> str:\n",
    "        \"\"\"\n",
    "        todo\n",
    "        \"\"\"\n",
    "        try:\n",
    "            return \"todo\"\n",
    "        except ValueError as e:\n",
    "            print(f\"Error thrown in response to {input} with {e.Message}\")\n",
    "            raise e\n",
    "\n",
    "\n",
    "    @sk_function(\n",
    "    description=\"\",\n",
    "    name=\"\"\n",
    "    )\n",
    "    def skgraphsearch_teams(self, input: str) -> str:\n",
    "        \"\"\"\n",
    "        todo\n",
    "        \"\"\"\n",
    "        try:\n",
    "            return \"todo\"\n",
    "        except ValueError as e:\n",
    "            print(f\"Error thrown in response to {input} with {e.Message}\")\n",
    "            raise e\n",
    "\n",
    "\n",
    "    @sk_function(\n",
    "    description=\"\",\n",
    "    name=\"\"\n",
    "    )\n",
    "    def skgraphsearch_files(self, input: str) -> str:\n",
    "        \"\"\"\n",
    "        todo\n",
    "        \"\"\"\n",
    "        try:\n",
    "            return \"todo\"\n",
    "        except ValueError as e:\n",
    "            print(f\"Error thrown in response to {input} with {e.Message}\")\n",
    "            raise e"
   ]
  },
  {
   "cell_type": "markdown",
   "id": "b7525898-8f70-4ca1-8839-40002468b5f2",
   "metadata": {},
   "source": [
    "### Call the SK Graph Function for Mail\n"
   ]
  },
  {
   "cell_type": "code",
   "execution_count": 16,
   "id": "7817a951-fd25-4226-9a34-4c0e83943316",
   "metadata": {},
   "outputs": [],
   "source": [
    "# Note that all 3 of these functions could be done as one using a StepWise Planner but you would not get to see the \n",
    "# engine as it runs"
   ]
  },
  {
   "cell_type": "code",
   "execution_count": null,
   "id": "9feb9d47-1e42-4609-a66e-24dbb8a6b4f3",
   "metadata": {},
   "outputs": [],
   "source": [
    "sk_prompt = \"\"\"\n",
    "Return the results a Microsoft Graph call to the Mail endpoint.\n",
    "The result must be:\n",
    "- Formatted in JSON\n",
    "- Must reference the {{$input}} in the response\n",
    "\"\"\"\n",
    "\n",
    "mail_payload = kernel.create_semantic_function(prompt_template=sk_prompt,\n",
    "                                              function_name=\"SKGraphMail\",\n",
    "                                              skill_name=\"GraphMailSkill\",\n",
    "                                              description=\"Return results from the Microsoft Graph Mail Endpoint\",\n",
    "                                              max_tokens=2000,\n",
    "                                              temperature=0.5,\n",
    "                                              top_p=0.5)\n",
    "\n",
    "msgraph_search_skill = kernel.import_skill(MSGraphSearchSkill())"
   ]
  },
  {
   "cell_type": "code",
   "execution_count": null,
   "id": "7ec2c237-fb04-4276-a414-60f34a1a5fc9",
   "metadata": {},
   "outputs": [],
   "source": [
    "# Run the MS Graph SK Email search skill\n",
    "skgraphsearch_mail = msgraph_search_skill[\"LocateAllPertainingEmails\"]\n",
    "mail_result = skgraphsearch_mail(\"REPLACE THIS WITH PROMPT OF USER\")\n",
    "print(mail_result)"
   ]
  }
 ],
 "metadata": {
  "kernelspec": {
   "display_name": "espc",
   "language": "python",
   "name": "espc"
  },
  "language_info": {
   "codemirror_mode": {
    "name": "ipython",
    "version": 3
   },
   "file_extension": ".py",
   "mimetype": "text/x-python",
   "name": "python",
   "nbconvert_exporter": "python",
   "pygments_lexer": "ipython3",
   "version": "3.11.5"
  }
 },
 "nbformat": 4,
 "nbformat_minor": 5
}
