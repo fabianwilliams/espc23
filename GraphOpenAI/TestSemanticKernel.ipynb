{
 "cells": [
  {
   "cell_type": "code",
   "execution_count": 1,
   "id": "2866f1b3-c94f-4f48-b378-746908d089d2",
   "metadata": {},
   "outputs": [],
   "source": [
    "import semantic_kernel as sk\n",
    "from semantic_kernel.connectors.ai.open_ai import AzureTextCompletion, OpenAITextCompletion"
   ]
  },
  {
   "cell_type": "code",
   "execution_count": 3,
   "id": "03f10899-839f-4c0d-a857-1848cd5b8ad6",
   "metadata": {},
   "outputs": [],
   "source": [
    "from dotenv import load_dotenv \n",
    "from azure.identity import DeviceCodeCredential\n",
    "import os\n",
    "import asyncio"
   ]
  },
  {
   "cell_type": "code",
   "execution_count": 4,
   "id": "0904bcd4-931a-42ed-88a5-0fc3166a039e",
   "metadata": {},
   "outputs": [],
   "source": [
    "kernel = sk.Kernel()"
   ]
  },
  {
   "cell_type": "code",
   "execution_count": 5,
   "id": "ee1d0d20-7575-40fb-9e2a-4b32914cbace",
   "metadata": {},
   "outputs": [
    {
     "data": {
      "text/plain": [
       "<semantic_kernel.kernel.Kernel at 0x11cb78410>"
      ]
     },
     "execution_count": 5,
     "metadata": {},
     "output_type": "execute_result"
    }
   ],
   "source": [
    "api_key, org_id = sk.openai_settings_from_dot_env()\n",
    "kernel.add_text_completion_service(\"dv\", OpenAITextCompletion(\"text-davinci-003\", api_key, org_id))"
   ]
  },
  {
   "cell_type": "code",
   "execution_count": 7,
   "id": "99daf3a4-d15b-4114-8f7f-a53fdfe2a46a",
   "metadata": {},
   "outputs": [],
   "source": [
    "#print(api_key)"
   ]
  },
  {
   "cell_type": "code",
   "execution_count": 8,
   "id": "c8f3ff29-acee-414a-8db1-4dbcd54fbd98",
   "metadata": {},
   "outputs": [],
   "source": [
    "prompt = \"\"\"{{$input}}\n",
    "Summarize the content above.\n",
    "\"\"\"\n",
    "\n",
    "summarize = kernel.create_semantic_function(prompt, max_tokens=2000, temperature=0.2, top_p=0.5)"
   ]
  },
  {
   "cell_type": "code",
   "execution_count": 9,
   "id": "1108a8b3-aae8-4c13-b15d-32cda083bbb3",
   "metadata": {},
   "outputs": [],
   "source": [
    "input_text = \"\"\"\n",
    "You’ll find content delivered by the world’s best Microsoft 365 and Azure experts, including many Microsoft leaders and employees from the product teams. In this pre-event guide, we list all the Microsoft-led sessions below so you can prepare for what awaits you alongside community and MVP expert sessions.\n",
    " \n",
    "The 101 on ESPC23\n",
    " \n",
    "\t•\tWhat: ESPC23 to learn more.\n",
    "\t•\tWhere: RAI Amsterdam Convention Centre | Europaplein 24, 1078 GZ Amsterdam, 1070 MS | Amsterdam, The Netherlands\n",
    "\t•\tWhen: November 27 – 30, 2023 (keynotes, AMA, sessions, tutorials (workshops), and more)\n",
    "\t•\tPresenters: 100+ sessions (35+ Microsoft-led), 115+ speakers (MVPs, RDs, Microsoft and community members)\n",
    "+ a unique page of all Microsoft speakers and activities during ESPC23\n",
    "\t•\tCost: €1195 - €2145 spanning 1-day to multi-day passes\n",
    "\t•\tUse the code ESPCMicrosoft to get a 10% discount on all tickets | Book now\n",
    "\t•\tPrimary X handle & official hashtag: #ESPC23 (join in) & follow @ESPC_Community\n",
    " \n",
    "Jeff Teper (President of Collaborative Apps and Platforms – Microsoft), Karuana Gatimu (Principal PM Manager – Customer Advocacy Group, Microsoft), Dona Sarkar (Principal Cloud Advocate – Microsoft Inclusive AI and Accessibility), and Rafal Lukawiecki (Data Scientist – Project Botticelli Ltd) will be leading four keynotes that span topics, plus Microsoft speakers delivering breakout sessions among thought leaders and members of the community from around the world.\n",
    " \n",
    "ESPC23 offers you affordable, world-class learning and networking at your fingertips. Join in over 100+ sessions covering SharePoint, Microsoft Viva, Microsoft Teams, Microsoft Syntex, Microsoft 365 adoption, Microsoft Search, AI, Governance, admin, Cloud operations, intranets, Power Platform, and more.\n",
    "\"\"\""
   ]
  },
  {
   "cell_type": "code",
   "execution_count": 10,
   "id": "565e7de4-180f-4b53-a990-e7cd495feb64",
   "metadata": {},
   "outputs": [
    {
     "name": "stdout",
     "output_type": "stream",
     "text": [
      "\n",
      "ESPC23 is a four-day event taking place in Amsterdam, The Netherlands from November 27-30, 2023. It will feature over 100+ sessions and 115+ speakers, including Microsoft leaders and product teams, MVPs, RDs, and community members. Jeff Teper, Karuana Gatimu, Dona Sarkar, and Rafal Lukawiecki will be leading four keynotes, and topics will include SharePoint, Microsoft Viva, Microsoft Teams, Microsoft Syntex, Microsoft 365 adoption, Microsoft Search, AI, Governance, admin, Cloud operations, intranets, and Power Platform. Tickets range from €1195-€2145 and a 10% discount is available with the code ESPCMicrosoft.\n"
     ]
    }
   ],
   "source": [
    "espc23_summary = summarize(input_text)\n",
    "\n",
    "print(espc23_summary)"
   ]
  },
  {
   "cell_type": "code",
   "execution_count": null,
   "id": "341e4ba1-4143-49bc-83b1-55bf483af8b6",
   "metadata": {},
   "outputs": [],
   "source": []
  }
 ],
 "metadata": {
  "kernelspec": {
   "display_name": "espc",
   "language": "python",
   "name": "espc"
  },
  "language_info": {
   "codemirror_mode": {
    "name": "ipython",
    "version": 3
   },
   "file_extension": ".py",
   "mimetype": "text/x-python",
   "name": "python",
   "nbconvert_exporter": "python",
   "pygments_lexer": "ipython3",
   "version": "3.11.5"
  }
 },
 "nbformat": 4,
 "nbformat_minor": 5
}
