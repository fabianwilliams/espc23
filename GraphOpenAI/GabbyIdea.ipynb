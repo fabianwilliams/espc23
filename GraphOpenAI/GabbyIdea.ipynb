{
 "cells": [
  {
   "cell_type": "code",
   "execution_count": 4,
   "id": "f9f28b6f",
   "metadata": {},
   "outputs": [],
   "source": [
    "from dotenv import load_dotenv \n",
    "import os\n",
    "import json\n",
    "import asyncio \n",
    "import uuid\n",
    "from typing import Tuple\n",
    "\n",
    "import semantic_kernel as sk\n",
    "from semantic_kernel.connectors.ai.open_ai import OpenAIChatCompletion, OpenAITextEmbedding"
   ]
  },
  {
   "cell_type": "code",
   "execution_count": 7,
   "id": "409aa757",
   "metadata": {},
   "outputs": [
    {
     "data": {
      "text/plain": [
       "{'recall': <semantic_kernel.orchestration.sk_function.SKFunction at 0x115fab550>,\n",
       " 'save': <semantic_kernel.orchestration.sk_function.SKFunction at 0x115fd4e10>}"
      ]
     },
     "execution_count": 7,
     "metadata": {},
     "output_type": "execute_result"
    }
   ],
   "source": [
    "kernel = sk.Kernel()\n",
    "# Configure AI service used by the kernel\n",
    "api_key, org_id = sk.openai_settings_from_dot_env()\n",
    "#kernel.add_chat_service(\"chat-gpt\", OpenAIChatCompletion(\"gpt-3.5-turbo\", api_key, org_id))\n",
    "kernel.add_chat_service(\"chat-gpt\", OpenAIChatCompletion(\"gpt-4\", api_key, org_id))\n",
    "kernel.add_text_embedding_generation_service(\"ada\", OpenAITextEmbedding(\"text-embedding-ada-002\", api_key, org_id))\n",
    "kernel.import_skill(sk.core_skills.TextMemorySkill())"
   ]
  },
  {
   "cell_type": "code",
   "execution_count": 8,
   "id": "11e4e4a7",
   "metadata": {},
   "outputs": [
    {
     "name": "stdout",
     "output_type": "stream",
     "text": [
      "Output: One could argue that Macbeth is not the villain in the play by focusing on the external forces that manipulate and influence his actions. The witches, for instance, plant the seed of ambition in Macbeth by prophesying that he will become king. This prophecy sets him on a path of murder and deceit. Additionally, Lady Macbeth, his wife, constantly goads him into committing heinous acts. She questions his manhood and courage, pushing him further into the abyss of guilt and paranoia. Therefore, one could argue that Macbeth is more of a tragic hero, a victim of manipulation and circumstances, rather than a villain.\n"
     ]
    }
   ],
   "source": [
    "sk_prompt = \"\"\"\n",
    "{{$input}}\n",
    "\n",
    "You are a friendly and very talkative ChatBot. \n",
    "Write a short paragraph based on what the user is asking\n",
    "\n",
    "\"\"\"\n",
    "\n",
    "text = \"\"\"\n",
    "How could it be argued that Macbeth is not the villan in the play?\n",
    "\n",
    "\"\"\"\n",
    "\n",
    "gabbyadvice_function = kernel.create_semantic_function(sk_prompt, max_tokens=2000, temperature=0, top_p=0.5)\n",
    "\n",
    "summary = gabbyadvice_function(text)\n",
    "\n",
    "print(f\"Output: {summary}\") # Output: Robots must not harm humans."
   ]
  },
  {
   "cell_type": "code",
   "execution_count": null,
   "id": "0b5f6c51",
   "metadata": {},
   "outputs": [],
   "source": []
  },
  {
   "cell_type": "code",
   "execution_count": null,
   "id": "98620855-9a50-4d8e-86e5-323a96168c56",
   "metadata": {},
   "outputs": [],
   "source": []
  }
 ],
 "metadata": {
  "kernelspec": {
   "display_name": "espc23",
   "language": "python",
   "name": "espc23"
  },
  "language_info": {
   "codemirror_mode": {
    "name": "ipython",
    "version": 3
   },
   "file_extension": ".py",
   "mimetype": "text/x-python",
   "name": "python",
   "nbconvert_exporter": "python",
   "pygments_lexer": "ipython3",
   "version": "3.11.5"
  }
 },
 "nbformat": 4,
 "nbformat_minor": 5
}
