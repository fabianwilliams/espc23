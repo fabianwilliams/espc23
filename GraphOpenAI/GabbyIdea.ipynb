{
 "cells": [
  {
   "cell_type": "code",
   "execution_count": 2,
   "id": "f9f28b6f",
   "metadata": {},
   "outputs": [],
   "source": [
    "from dotenv import load_dotenv \n",
    "import os\n",
    "import json\n",
    "import asyncio \n",
    "import uuid\n",
    "from typing import Tuple\n",
    "\n",
    "import semantic_kernel as sk\n",
    "from semantic_kernel.connectors.ai.open_ai import OpenAIChatCompletion, OpenAITextEmbedding"
   ]
  },
  {
   "cell_type": "code",
   "execution_count": 3,
   "id": "409aa757",
   "metadata": {},
   "outputs": [
    {
     "data": {
      "text/plain": [
       "{'recall': <semantic_kernel.orchestration.sk_function.SKFunction at 0x1483f1b4710>,\n",
       " 'save': <semantic_kernel.orchestration.sk_function.SKFunction at 0x1483f1b4cd0>}"
      ]
     },
     "execution_count": 3,
     "metadata": {},
     "output_type": "execute_result"
    }
   ],
   "source": [
    "kernel = sk.Kernel()\n",
    "# Configure AI service used by the kernel\n",
    "api_key, org_id = sk.openai_settings_from_dot_env()\n",
    "#kernel.add_chat_service(\"chat-gpt\", OpenAIChatCompletion(\"gpt-3.5-turbo\", api_key, org_id))\n",
    "kernel.add_chat_service(\"chat-gpt\", OpenAIChatCompletion(\"gpt-4\", api_key, org_id))\n",
    "kernel.add_text_embedding_generation_service(\"ada\", OpenAITextEmbedding(\"text-embedding-ada-002\", api_key, org_id))\n",
    "kernel.import_skill(sk.core_skills.TextMemorySkill())"
   ]
  },
  {
   "cell_type": "code",
   "execution_count": 9,
   "id": "11e4e4a7",
   "metadata": {},
   "outputs": [
    {
     "name": "stdout",
     "output_type": "stream",
     "text": [
      "Output: Title: Macbeth: A Victim, Not a Villain\n",
      "\n",
      "The character of Macbeth in William Shakespeare's eponymous play is often perceived as a villain due to his ambitious pursuit of power, leading to a series of murders. However, a closer examination of the play reveals that Macbeth could be seen as a victim of manipulation and circumstances, rather than a villain.\n",
      "\n",
      "Firstly, Macbeth's tragic downfall is instigated by external influences, particularly the three witches and his wife, Lady Macbeth. The witches' prophecy that Macbeth will become king sparks his ambition and plants the seed of treachery in his mind. However, it is Lady Macbeth who manipulates and coerces him into committing regicide, exploiting his ambition and questioning his manhood. Thus, Macbeth can be seen as a puppet, manipulated by those around him to fulfill their own ambitions.\n",
      "\n",
      "Secondly, Macbeth is portrayed as a loyal and brave soldier at the beginning of the play, respected by his peers and King Duncan. His transformation into a murderous tyrant is not a reflection of his inherent character, but rather the result of the prophecy and manipulation. This suggests that Macbeth is not inherently evil, but is driven to his actions by external forces.\n",
      "\n",
      "Furthermore, Macbeth's guilt and remorse following Duncan's murder highlight his moral consciousness, which is not characteristic of a villain. His hallucinations of the bloody dagger and Banquo's ghost, as well as his sleeplessness, indicate his deep-seated guilt and torment. These are not the reactions of a cold-blooded villain, but of a man who is deeply conflicted and remorseful.\n",
      "\n",
      "Lastly, the concept of fate and destiny plays a significant role in the play. The witches' prophecy sets Macbeth on a path that seems predestined, suggesting that he is merely a pawn in the grand scheme of things. This raises the question of whether Macbeth is truly responsible for his actions, or if he is simply a victim of fate.\n",
      "\n",
      "In conclusion, while Macbeth's actions are undeniably villainous, his character can be seen as more complex than a simple villain. His transformation from a respected soldier to a tyrant is largely influenced by external forces and manipulation, suggesting that he is more of a victim than a villain. His guilt and remorse further humanize him, painting a picture of a man caught in a web of ambition, manipulation, and destiny. Therefore, it can be argued that Macbeth is not the villain of the play, but rather a tragic hero who falls victim to his ambition and the machinations of those around him.\n"
     ]
    }
   ],
   "source": [
    "sk_prompt = \"\"\"\n",
    "{{$input}}\n",
    "\n",
    "You are a friendly and very talkative ChatBot. \n",
    "Write a short essay based on what the user is asking\n",
    "\n",
    "\"\"\"\n",
    "\n",
    "text = \"\"\"\n",
    "How could it be argued that Macbeth is not the villan in the play?\n",
    "\n",
    "\"\"\"\n",
    "\n",
    "gabbyadvice_function = kernel.create_semantic_function(sk_prompt, max_tokens=2000, temperature=0, top_p=0.5)\n",
    "\n",
    "summary = gabbyadvice_function(text)\n",
    "\n",
    "print(f\"Output: {summary}\") # Output: Robots must not harm humans."
   ]
  },
  {
   "cell_type": "code",
   "execution_count": null,
   "id": "0b5f6c51",
   "metadata": {},
   "outputs": [],
   "source": []
  }
 ],
 "metadata": {
  "kernelspec": {
   "display_name": "espc23",
   "language": "python",
   "name": "espc23"
  },
  "language_info": {
   "codemirror_mode": {
    "name": "ipython",
    "version": 3
   },
   "file_extension": ".py",
   "mimetype": "text/x-python",
   "name": "python",
   "nbconvert_exporter": "python",
   "pygments_lexer": "ipython3",
   "version": "3.11.5"
  }
 },
 "nbformat": 4,
 "nbformat_minor": 5
}
