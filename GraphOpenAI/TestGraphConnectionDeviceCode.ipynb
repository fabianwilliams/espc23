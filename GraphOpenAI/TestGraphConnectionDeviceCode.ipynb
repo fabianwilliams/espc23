{
 "cells": [
  {
   "cell_type": "code",
   "execution_count": 15,
   "id": "9939cb09",
   "metadata": {},
   "outputs": [],
   "source": [
    "from dotenv import load_dotenv\n",
    "import os\n",
    "import asyncio\n",
    "from azure.identity import DeviceCodeCredential\n",
    "from msgraph import GraphServiceClient"
   ]
  },
  {
   "cell_type": "code",
   "execution_count": 16,
   "id": "2fc30b76",
   "metadata": {},
   "outputs": [
    {
     "data": {
      "text/plain": [
       "True"
      ]
     },
     "execution_count": 16,
     "metadata": {},
     "output_type": "execute_result"
    }
   ],
   "source": [
    "load_dotenv()"
   ]
  },
  {
   "cell_type": "code",
   "execution_count": 22,
   "id": "191c4b8c",
   "metadata": {},
   "outputs": [],
   "source": [
    "TENANT_ID = os.getenv(\"TENANT_ID\")"
   ]
  },
  {
   "cell_type": "code",
   "execution_count": 23,
   "id": "39e9b30f",
   "metadata": {},
   "outputs": [],
   "source": [
    "CLIENT_ID = os.getenv(\"CLIENT_ID\")"
   ]
  },
  {
   "cell_type": "code",
   "execution_count": 25,
   "id": "575db229",
   "metadata": {},
   "outputs": [],
   "source": [
    "credential = DeviceCodeCredential(client_id=CLIENT_ID, tenant_id=TENANT_ID)\n",
    "scopes = ['User.Read', 'Mail.Read']\n",
    "client = GraphServiceClient(credentials=credential, scopes=scopes)"
   ]
  },
  {
   "cell_type": "code",
   "execution_count": null,
   "id": "ac56b782",
   "metadata": {},
   "outputs": [],
   "source": []
  },
  {
   "cell_type": "code",
   "execution_count": 28,
   "id": "04bdcab2",
   "metadata": {},
   "outputs": [],
   "source": [
    "async def get_user():\n",
    "    user = await client.users.by_user_id('adelev@fabster.onmicrosoft.com').get()\n",
    "    if user:\n",
    "        print(user.display_name)"
   ]
  },
  {
   "cell_type": "code",
   "execution_count": 29,
   "id": "1c529ecc",
   "metadata": {},
   "outputs": [
    {
     "name": "stdout",
     "output_type": "stream",
     "text": [
      "To sign in, use a web browser to open the page https://microsoft.com/devicelogin and enter the code AZGJSP4XT to authenticate.\n"
     ]
    },
    {
     "name": "stderr",
     "output_type": "stream",
     "text": [
      "DeviceCodeCredential.get_token failed: Authentication failed: AADSTS7000218: The request body must contain the following parameter: 'client_assertion' or 'client_secret'. Trace ID: 3540d8f6-cc8f-44ef-adcc-6d25f874c500 Correlation ID: f2ccb349-ac20-4de5-973b-77e0f8c6454a Timestamp: 2023-11-14 03:33:48Z\n",
      "Content: {\"error\":\"invalid_client\",\"error_description\":\"AADSTS7000218: The request body must contain the following parameter: 'client_assertion' or 'client_secret'. Trace ID: 3540d8f6-cc8f-44ef-adcc-6d25f874c500 Correlation ID: f2ccb349-ac20-4de5-973b-77e0f8c6454a Timestamp: 2023-11-14 03:33:48Z\",\"error_codes\":[7000218],\"timestamp\":\"2023-11-14 03:33:48Z\",\"trace_id\":\"3540d8f6-cc8f-44ef-adcc-6d25f874c500\",\"correlation_id\":\"f2ccb349-ac20-4de5-973b-77e0f8c6454a\",\"error_uri\":\"https://login.microsoftonline.com/error?code=7000218\"}\n"
     ]
    },
    {
     "ename": "ClientAuthenticationError",
     "evalue": "Authentication failed: AADSTS7000218: The request body must contain the following parameter: 'client_assertion' or 'client_secret'. Trace ID: 3540d8f6-cc8f-44ef-adcc-6d25f874c500 Correlation ID: f2ccb349-ac20-4de5-973b-77e0f8c6454a Timestamp: 2023-11-14 03:33:48Z\nContent: {\"error\":\"invalid_client\",\"error_description\":\"AADSTS7000218: The request body must contain the following parameter: 'client_assertion' or 'client_secret'. Trace ID: 3540d8f6-cc8f-44ef-adcc-6d25f874c500 Correlation ID: f2ccb349-ac20-4de5-973b-77e0f8c6454a Timestamp: 2023-11-14 03:33:48Z\",\"error_codes\":[7000218],\"timestamp\":\"2023-11-14 03:33:48Z\",\"trace_id\":\"3540d8f6-cc8f-44ef-adcc-6d25f874c500\",\"correlation_id\":\"f2ccb349-ac20-4de5-973b-77e0f8c6454a\",\"error_uri\":\"https://login.microsoftonline.com/error?code=7000218\"}",
     "output_type": "error",
     "traceback": [
      "\u001b[1;31m---------------------------------------------------------------------------\u001b[0m",
      "\u001b[1;31mClientAuthenticationError\u001b[0m                 Traceback (most recent call last)",
      "Cell \u001b[1;32mIn[29], line 1\u001b[0m\n\u001b[1;32m----> 1\u001b[0m \u001b[38;5;28;01mawait\u001b[39;00m (get_user())\n",
      "Cell \u001b[1;32mIn[28], line 2\u001b[0m, in \u001b[0;36mget_user\u001b[1;34m()\u001b[0m\n\u001b[0;32m      1\u001b[0m \u001b[38;5;28;01masync\u001b[39;00m \u001b[38;5;28;01mdef\u001b[39;00m \u001b[38;5;21mget_user\u001b[39m():\n\u001b[1;32m----> 2\u001b[0m     user \u001b[38;5;241m=\u001b[39m \u001b[38;5;28;01mawait\u001b[39;00m client\u001b[38;5;241m.\u001b[39musers\u001b[38;5;241m.\u001b[39mby_user_id(\u001b[38;5;124m'\u001b[39m\u001b[38;5;124madelev@fabster.onmicrosoft.com\u001b[39m\u001b[38;5;124m'\u001b[39m)\u001b[38;5;241m.\u001b[39mget()\n\u001b[0;32m      3\u001b[0m     \u001b[38;5;28;01mif\u001b[39;00m user:\n\u001b[0;32m      4\u001b[0m         \u001b[38;5;28mprint\u001b[39m(user\u001b[38;5;241m.\u001b[39mdisplay_name)\n",
      "File \u001b[1;32m~\\anaconda3\\envs\\espc\\Lib\\site-packages\\msgraph\\generated\\users\\item\\user_item_request_builder.py:155\u001b[0m, in \u001b[0;36mUserItemRequestBuilder.get\u001b[1;34m(self, request_configuration)\u001b[0m\n\u001b[0;32m    152\u001b[0m     \u001b[38;5;28;01mraise\u001b[39;00m \u001b[38;5;167;01mException\u001b[39;00m(\u001b[38;5;124m\"\u001b[39m\u001b[38;5;124mHttp core is null\u001b[39m\u001b[38;5;124m\"\u001b[39m) \n\u001b[0;32m    153\u001b[0m \u001b[38;5;28;01mfrom\u001b[39;00m \u001b[38;5;21;01m.\u001b[39;00m\u001b[38;5;21;01m.\u001b[39;00m\u001b[38;5;21;01m.\u001b[39;00m\u001b[38;5;21;01mmodels\u001b[39;00m\u001b[38;5;21;01m.\u001b[39;00m\u001b[38;5;21;01muser\u001b[39;00m \u001b[38;5;28;01mimport\u001b[39;00m User\n\u001b[1;32m--> 155\u001b[0m \u001b[38;5;28;01mreturn\u001b[39;00m \u001b[38;5;28;01mawait\u001b[39;00m \u001b[38;5;28mself\u001b[39m\u001b[38;5;241m.\u001b[39mrequest_adapter\u001b[38;5;241m.\u001b[39msend_async(request_info, User, error_mapping)\n",
      "File \u001b[1;32m~\\anaconda3\\envs\\espc\\Lib\\site-packages\\kiota_http\\httpx_request_adapter.py:166\u001b[0m, in \u001b[0;36mHttpxRequestAdapter.send_async\u001b[1;34m(self, request_info, parsable_factory, error_map)\u001b[0m\n\u001b[0;32m    163\u001b[0m     parent_span\u001b[38;5;241m.\u001b[39mrecord_exception(REQUEST_IS_NULL)\n\u001b[0;32m    164\u001b[0m     \u001b[38;5;28;01mraise\u001b[39;00m REQUEST_IS_NULL\n\u001b[1;32m--> 166\u001b[0m response \u001b[38;5;241m=\u001b[39m \u001b[38;5;28;01mawait\u001b[39;00m \u001b[38;5;28mself\u001b[39m\u001b[38;5;241m.\u001b[39mget_http_response_message(request_info, parent_span)\n\u001b[0;32m    168\u001b[0m response_handler \u001b[38;5;241m=\u001b[39m \u001b[38;5;28mself\u001b[39m\u001b[38;5;241m.\u001b[39mget_response_handler(request_info)\n\u001b[0;32m    169\u001b[0m \u001b[38;5;28;01mif\u001b[39;00m response_handler:\n",
      "File \u001b[1;32m~\\anaconda3\\envs\\espc\\Lib\\site-packages\\kiota_http\\httpx_request_adapter.py:501\u001b[0m, in \u001b[0;36mHttpxRequestAdapter.get_http_response_message\u001b[1;34m(self, request_info, parent_span, claims)\u001b[0m\n\u001b[0;32m    498\u001b[0m \u001b[38;5;28;01mif\u001b[39;00m claims:\n\u001b[0;32m    499\u001b[0m     additional_authentication_context[\u001b[38;5;28mself\u001b[39m\u001b[38;5;241m.\u001b[39mCLAIMS_KEY] \u001b[38;5;241m=\u001b[39m claims\n\u001b[1;32m--> 501\u001b[0m \u001b[38;5;28;01mawait\u001b[39;00m \u001b[38;5;28mself\u001b[39m\u001b[38;5;241m.\u001b[39m_authentication_provider\u001b[38;5;241m.\u001b[39mauthenticate_request(\n\u001b[0;32m    502\u001b[0m     request_info, additional_authentication_context\n\u001b[0;32m    503\u001b[0m )\n\u001b[0;32m    505\u001b[0m request \u001b[38;5;241m=\u001b[39m \u001b[38;5;28mself\u001b[39m\u001b[38;5;241m.\u001b[39mget_request_from_request_information(\n\u001b[0;32m    506\u001b[0m     request_info, _get_http_resp_span, parent_span\n\u001b[0;32m    507\u001b[0m )\n\u001b[0;32m    508\u001b[0m resp \u001b[38;5;241m=\u001b[39m \u001b[38;5;28;01mawait\u001b[39;00m \u001b[38;5;28mself\u001b[39m\u001b[38;5;241m.\u001b[39m_http_client\u001b[38;5;241m.\u001b[39msend(request)\n",
      "File \u001b[1;32m~\\anaconda3\\envs\\espc\\Lib\\site-packages\\kiota_abstractions\\authentication\\base_bearer_token_authentication_provider.py:48\u001b[0m, in \u001b[0;36mBaseBearerTokenAuthenticationProvider.authenticate_request\u001b[1;34m(self, request, additional_authentication_context)\u001b[0m\n\u001b[0;32m     45\u001b[0m     request\u001b[38;5;241m.\u001b[39mheaders \u001b[38;5;241m=\u001b[39m {}\n\u001b[0;32m     47\u001b[0m \u001b[38;5;28;01mif\u001b[39;00m \u001b[38;5;129;01mnot\u001b[39;00m \u001b[38;5;28mself\u001b[39m\u001b[38;5;241m.\u001b[39mAUTHORIZATION_HEADER \u001b[38;5;129;01min\u001b[39;00m request\u001b[38;5;241m.\u001b[39mheaders:\n\u001b[1;32m---> 48\u001b[0m     token \u001b[38;5;241m=\u001b[39m \u001b[38;5;28;01mawait\u001b[39;00m \u001b[38;5;28mself\u001b[39m\u001b[38;5;241m.\u001b[39maccess_token_provider\u001b[38;5;241m.\u001b[39mget_authorization_token(\n\u001b[0;32m     49\u001b[0m         request\u001b[38;5;241m.\u001b[39murl, additional_authentication_context\n\u001b[0;32m     50\u001b[0m     )\n\u001b[0;32m     51\u001b[0m     \u001b[38;5;28;01mif\u001b[39;00m token:\n\u001b[0;32m     52\u001b[0m         request\u001b[38;5;241m.\u001b[39madd_request_headers({\u001b[38;5;124mf\u001b[39m\u001b[38;5;124m'\u001b[39m\u001b[38;5;132;01m{\u001b[39;00m\u001b[38;5;28mself\u001b[39m\u001b[38;5;241m.\u001b[39mAUTHORIZATION_HEADER\u001b[38;5;132;01m}\u001b[39;00m\u001b[38;5;124m'\u001b[39m: \u001b[38;5;124mf\u001b[39m\u001b[38;5;124m'\u001b[39m\u001b[38;5;124mBearer \u001b[39m\u001b[38;5;132;01m{\u001b[39;00mtoken\u001b[38;5;132;01m}\u001b[39;00m\u001b[38;5;124m'\u001b[39m})\n",
      "File \u001b[1;32m~\\anaconda3\\envs\\espc\\Lib\\site-packages\\kiota_authentication_azure\\azure_identity_access_token_provider.py:100\u001b[0m, in \u001b[0;36mAzureIdentityAccessTokenProvider.get_authorization_token\u001b[1;34m(self, uri, additional_authentication_context)\u001b[0m\n\u001b[0;32m     96\u001b[0m     result \u001b[38;5;241m=\u001b[39m \u001b[38;5;28mself\u001b[39m\u001b[38;5;241m.\u001b[39m_credentials\u001b[38;5;241m.\u001b[39mget_token(\n\u001b[0;32m     97\u001b[0m         \u001b[38;5;241m*\u001b[39m\u001b[38;5;28mself\u001b[39m\u001b[38;5;241m.\u001b[39m_scopes, claims\u001b[38;5;241m=\u001b[39mdecoded_claim, \u001b[38;5;241m*\u001b[39m\u001b[38;5;241m*\u001b[39m\u001b[38;5;28mself\u001b[39m\u001b[38;5;241m.\u001b[39m_options\n\u001b[0;32m     98\u001b[0m     )\n\u001b[0;32m     99\u001b[0m \u001b[38;5;28;01melse\u001b[39;00m:\n\u001b[1;32m--> 100\u001b[0m     result \u001b[38;5;241m=\u001b[39m \u001b[38;5;28mself\u001b[39m\u001b[38;5;241m.\u001b[39m_credentials\u001b[38;5;241m.\u001b[39mget_token(\u001b[38;5;241m*\u001b[39m\u001b[38;5;28mself\u001b[39m\u001b[38;5;241m.\u001b[39m_scopes, claims\u001b[38;5;241m=\u001b[39mdecoded_claim)\n\u001b[0;32m    102\u001b[0m \u001b[38;5;28;01mif\u001b[39;00m inspect\u001b[38;5;241m.\u001b[39misawaitable(result):\n\u001b[0;32m    103\u001b[0m     result \u001b[38;5;241m=\u001b[39m \u001b[38;5;28;01mawait\u001b[39;00m result\n",
      "File \u001b[1;32m~\\anaconda3\\envs\\espc\\Lib\\site-packages\\azure\\identity\\_internal\\interactive.py:166\u001b[0m, in \u001b[0;36mInteractiveCredential.get_token\u001b[1;34m(self, claims, tenant_id, *scopes, **kwargs)\u001b[0m\n\u001b[0;32m    164\u001b[0m     message \u001b[38;5;241m=\u001b[39m \u001b[38;5;124m\"\u001b[39m\u001b[38;5;124mAuthentication failed: \u001b[39m\u001b[38;5;132;01m{}\u001b[39;00m\u001b[38;5;124m\"\u001b[39m\u001b[38;5;241m.\u001b[39mformat(result\u001b[38;5;241m.\u001b[39mget(\u001b[38;5;124m\"\u001b[39m\u001b[38;5;124merror_description\u001b[39m\u001b[38;5;124m\"\u001b[39m) \u001b[38;5;129;01mor\u001b[39;00m result\u001b[38;5;241m.\u001b[39mget(\u001b[38;5;124m\"\u001b[39m\u001b[38;5;124merror\u001b[39m\u001b[38;5;124m\"\u001b[39m))\n\u001b[0;32m    165\u001b[0m     response \u001b[38;5;241m=\u001b[39m \u001b[38;5;28mself\u001b[39m\u001b[38;5;241m.\u001b[39m_client\u001b[38;5;241m.\u001b[39mget_error_response(result)\n\u001b[1;32m--> 166\u001b[0m     \u001b[38;5;28;01mraise\u001b[39;00m ClientAuthenticationError(message\u001b[38;5;241m=\u001b[39mmessage, response\u001b[38;5;241m=\u001b[39mresponse)\n\u001b[0;32m    168\u001b[0m \u001b[38;5;66;03m# this may be the first authentication, or the user may have authenticated a different identity\u001b[39;00m\n\u001b[0;32m    169\u001b[0m \u001b[38;5;28mself\u001b[39m\u001b[38;5;241m.\u001b[39m_auth_record \u001b[38;5;241m=\u001b[39m _build_auth_record(result)\n",
      "\u001b[1;31mClientAuthenticationError\u001b[0m: Authentication failed: AADSTS7000218: The request body must contain the following parameter: 'client_assertion' or 'client_secret'. Trace ID: 3540d8f6-cc8f-44ef-adcc-6d25f874c500 Correlation ID: f2ccb349-ac20-4de5-973b-77e0f8c6454a Timestamp: 2023-11-14 03:33:48Z\nContent: {\"error\":\"invalid_client\",\"error_description\":\"AADSTS7000218: The request body must contain the following parameter: 'client_assertion' or 'client_secret'. Trace ID: 3540d8f6-cc8f-44ef-adcc-6d25f874c500 Correlation ID: f2ccb349-ac20-4de5-973b-77e0f8c6454a Timestamp: 2023-11-14 03:33:48Z\",\"error_codes\":[7000218],\"timestamp\":\"2023-11-14 03:33:48Z\",\"trace_id\":\"3540d8f6-cc8f-44ef-adcc-6d25f874c500\",\"correlation_id\":\"f2ccb349-ac20-4de5-973b-77e0f8c6454a\",\"error_uri\":\"https://login.microsoftonline.com/error?code=7000218\"}"
     ]
    }
   ],
   "source": [
    "await (get_user())"
   ]
  },
  {
   "cell_type": "code",
   "execution_count": null,
   "id": "5206b70d",
   "metadata": {},
   "outputs": [],
   "source": []
  }
 ],
 "metadata": {
  "kernelspec": {
   "display_name": "espc",
   "language": "python",
   "name": "espc"
  },
  "language_info": {
   "codemirror_mode": {
    "name": "ipython",
    "version": 3
   },
   "file_extension": ".py",
   "mimetype": "text/x-python",
   "name": "python",
   "nbconvert_exporter": "python",
   "pygments_lexer": "ipython3",
   "version": "3.11.5"
  }
 },
 "nbformat": 4,
 "nbformat_minor": 5
}
