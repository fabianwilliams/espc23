{
 "cells": [
  {
   "cell_type": "code",
   "execution_count": 1,
   "id": "9939cb09",
   "metadata": {},
   "outputs": [],
   "source": [
    "from dotenv import load_dotenv \n",
    "from azure.identity import DeviceCodeCredential\n",
    "from msgraph import GraphServiceClient\n",
    "from msgraph.generated.users.item.messages.messages_request_builder import MessagesRequestBuilder\n",
    "from msgraph.generated.search.query.query_post_request_body import QueryPostRequestBody\n",
    "from msgraph.generated.search.query.query_request_builder import QueryRequestBuilder\n",
    "from msgraph.generated.search.search_request_builder import SearchRequestBuilder\n",
    "from msgraph.generated.models.search_request import SearchRequest\n",
    "from msgraph.generated.models.entity_type import EntityType\n",
    "from msgraph.generated.models.search_query import SearchQuery\n",
    "from msgraph.generated.models.search_response import SearchResponse\n",
    "import os\n",
    "import json\n",
    "import asyncio \n",
    "import uuid"
   ]
  },
  {
   "cell_type": "code",
   "execution_count": 2,
   "id": "062da045-9a25-482d-979f-1c7a51f890da",
   "metadata": {},
   "outputs": [],
   "source": [
    "from typing import Tuple\n",
    "\n",
    "import semantic_kernel as sk\n",
    "from semantic_kernel.connectors.ai.open_ai import OpenAIChatCompletion, OpenAITextEmbedding"
   ]
  },
  {
   "cell_type": "code",
   "execution_count": 3,
   "id": "620ccb68-90d9-4ffc-8cbf-af0fe3830133",
   "metadata": {},
   "outputs": [
    {
     "data": {
      "text/plain": [
       "{'recall': <semantic_kernel.orchestration.sk_function.SKFunction at 0x10b210110>,\n",
       " 'save': <semantic_kernel.orchestration.sk_function.SKFunction at 0x10eedadd0>}"
      ]
     },
     "execution_count": 3,
     "metadata": {},
     "output_type": "execute_result"
    }
   ],
   "source": [
    "kernel = sk.Kernel()\n",
    "\n",
    "useAzureOpenAI = False\n",
    "\n",
    "# Configure AI service used by the kernel\n",
    "api_key, org_id = sk.openai_settings_from_dot_env()\n",
    "#kernel.add_chat_service(\"chat-gpt\", OpenAIChatCompletion(\"gpt-3.5-turbo\", api_key, org_id))\n",
    "kernel.add_chat_service(\"chat-gpt\", OpenAIChatCompletion(\"gpt-4\", api_key, org_id))\n",
    "kernel.add_text_embedding_generation_service(\"ada\", OpenAITextEmbedding(\"text-embedding-ada-002\", api_key, org_id))\n",
    "\n",
    "kernel.register_memory_store(memory_store=sk.memory.VolatileMemoryStore())\n",
    "kernel.import_skill(sk.core_skills.TextMemorySkill())"
   ]
  },
  {
   "cell_type": "code",
   "execution_count": 4,
   "id": "f18e1db1-c633-4aeb-882e-954b3ee4d546",
   "metadata": {},
   "outputs": [],
   "source": [
    "#print(org_id)"
   ]
  },
  {
   "cell_type": "code",
   "execution_count": 5,
   "id": "2fc30b76",
   "metadata": {},
   "outputs": [
    {
     "data": {
      "text/plain": [
       "True"
      ]
     },
     "execution_count": 5,
     "metadata": {},
     "output_type": "execute_result"
    }
   ],
   "source": [
    "load_dotenv()"
   ]
  },
  {
   "cell_type": "code",
   "execution_count": 6,
   "id": "191c4b8c",
   "metadata": {},
   "outputs": [],
   "source": [
    "TENANT_ID = os.getenv(\"TENANT_ID\")"
   ]
  },
  {
   "cell_type": "code",
   "execution_count": 7,
   "id": "39e9b30f",
   "metadata": {},
   "outputs": [],
   "source": [
    "CLIENT_ID = os.getenv(\"CLIENT_ID\")"
   ]
  },
  {
   "cell_type": "code",
   "execution_count": 8,
   "id": "232c7384-3c6a-4d70-a261-63c2cbe766a3",
   "metadata": {},
   "outputs": [],
   "source": [
    "graphUserScopes = os.getenv(\"graphUserScopes\").split(' ')"
   ]
  },
  {
   "cell_type": "code",
   "execution_count": 9,
   "id": "0761080e-8ae2-4bce-a2bd-48d1232ad72f",
   "metadata": {},
   "outputs": [],
   "source": [
    "#print(CLIENT_ID)"
   ]
  },
  {
   "cell_type": "code",
   "execution_count": 10,
   "id": "fac18b09-99be-4e04-a1f8-47da395dfa93",
   "metadata": {},
   "outputs": [],
   "source": [
    "gabby = '9c72876c-b0ec-41b3-8079-8ebe216daa34'"
   ]
  },
  {
   "cell_type": "code",
   "execution_count": 11,
   "id": "7714c8f0-acff-4355-bdc8-3b2dfb5227c8",
   "metadata": {},
   "outputs": [],
   "source": [
    "#fabs = 'fabian@fabster.onmicrosoft.com'"
   ]
  },
  {
   "cell_type": "code",
   "execution_count": 12,
   "id": "3d304a16-7dbc-4b0d-9b06-df920af112b4",
   "metadata": {},
   "outputs": [],
   "source": [
    "## ensure that you have turned on DefaultClientType to Yes in the App Registration"
   ]
  },
  {
   "cell_type": "code",
   "execution_count": 13,
   "id": "3a96b477-9d74-461c-91ad-dc77d7e5dd61",
   "metadata": {},
   "outputs": [
    {
     "name": "stdout",
     "output_type": "stream",
     "text": [
      "['User.Read', 'Mail.ReadWrite', 'Chat.ReadWrite', 'Calendars.Read', 'Files.Read.All', 'Sites.Read.All']\n"
     ]
    }
   ],
   "source": [
    "print(graphUserScopes)"
   ]
  },
  {
   "cell_type": "code",
   "execution_count": 14,
   "id": "87d1c165-7ec9-4cfe-a8eb-44940a3a81a5",
   "metadata": {},
   "outputs": [],
   "source": [
    "credential = DeviceCodeCredential(client_id=CLIENT_ID, tenant_id=TENANT_ID) \n",
    "scopes = graphUserScopes\n",
    "client = GraphServiceClient(credentials=credential, scopes=scopes)"
   ]
  },
  {
   "cell_type": "code",
   "execution_count": 16,
   "id": "e4be0a9d-ab67-47ce-ba1c-899e991e85b4",
   "metadata": {},
   "outputs": [],
   "source": [
    "result = await client.me.get()"
   ]
  },
  {
   "cell_type": "code",
   "execution_count": 17,
   "id": "64fdaf30-0b99-45a1-887c-96a80cf94b95",
   "metadata": {},
   "outputs": [
    {
     "name": "stdout",
     "output_type": "stream",
     "text": [
      "Gabby Gabgab\n"
     ]
    }
   ],
   "source": [
    "print(result.display_name)"
   ]
  },
  {
   "cell_type": "markdown",
   "id": "8ed5adac-29fd-4455-ae32-1f51f4733d6c",
   "metadata": {},
   "source": [
    "## Work with Teams(Chat) Search Query Endpoint"
   ]
  },
  {
   "cell_type": "code",
   "execution_count": null,
   "id": "70c16bdd-4c1a-4aa6-908d-6e44375c03be",
   "metadata": {},
   "outputs": [],
   "source": []
  },
  {
   "cell_type": "code",
   "execution_count": 18,
   "id": "9a3e21b7-fbf4-42ec-a251-e31b32bdfd90",
   "metadata": {},
   "outputs": [],
   "source": [
    "request_body = QueryPostRequestBody(\n",
    "\trequests = [\n",
    "\t\tSearchRequest(\n",
    "\t\t\tentity_types = [\n",
    "\t\t\t\tEntityType.ChatMessage\n",
    "\t\t\t],\n",
    "\t\t\tquery = SearchQuery(\n",
    "\t\t\t\tquery_string = \"GabbyG\",\n",
    "\t\t\t),\n",
    "\t\t),\n",
    "\t],\n",
    ")\n",
    "\n",
    "chat_result = await client.search.query.post(request_body)"
   ]
  },
  {
   "cell_type": "code",
   "execution_count": 19,
   "id": "836cd186-7f0a-4692-acd0-3ca014e9334c",
   "metadata": {},
   "outputs": [],
   "source": [
    "chat_data = chat_result.value"
   ]
  },
  {
   "cell_type": "code",
   "execution_count": 20,
   "id": "b04027d4-5772-4e1e-a7ef-0b0b26e1afdb",
   "metadata": {},
   "outputs": [
    {
     "name": "stdout",
     "output_type": "stream",
     "text": [
      "('fb1c1e64-a163-4e09-ac23-d89c98885406', 'I prefer dinner in thanksgiving dinner amsterdam this year over thanksgiving dinner in sweden last year...')\n",
      "('79b89d78-14dc-496e-972e-d5cdb791862d', \"I can't get over the thanksgiving dinner we had in amsterdam.\")\n",
      "('2a465f3a-3670-4117-8f0e-5f0bc90d3b42', '\"id\": \"9c72876c-b0ec-41b3-8079-8ebe216daa34\"')\n",
      "('4e094870-5e90-4205-a792-9bede7e8d7c8', 'Fabian Williams  lets practice the demo while we are in Antwerp  sounds like a plan')\n",
      "('b4b54850-9e1f-4491-a937-4d36c5e1b593', \"Fabian Williams  hello Gabby, are you prepared for the ChatGPT session with Python?  yes! i'm very excited.\")\n",
      "('ff7295ff-2b8b-4a5a-90b0-6d0a546b633d', 'lets practice the demo while we are in Antwerp...')\n",
      "('bc1073e4-b701-4de8-99ca-b35de5290ede', 'hello Gabby, are you prepared for the ChatGPT session with Python?')\n"
     ]
    }
   ],
   "source": [
    "##Testing with GUID\n",
    "search_response = chat_data[0]  # Assuming there's only one SearchResponse object in the list\n",
    "\n",
    "# Initialize an empty list to store summaries, chat IDs, and generated GUIDs\n",
    "summaries_chat_ids_and_guids = []\n",
    "\n",
    "# Iterate over hits_containers in the SearchResponse object\n",
    "for hits_container in search_response.hits_containers:\n",
    "    # Iterate over each hit in the container\n",
    "    for hit in hits_container.hits:\n",
    "        # Extract the summary\n",
    "        summary = hit.summary\n",
    "\n",
    "        # Extract the chatId from additional_data\n",
    "        chat_id = hit.resource.additional_data.get('chatId', 'Unknown')\n",
    "\n",
    "        # Generate a unique GUID for each hit\n",
    "        guid = str(uuid.uuid4())\n",
    "\n",
    "        # Append the chatId, summary, and GUID as a tuple to the list\n",
    "        summaries_chat_ids_and_guids.append((guid, summary))\n",
    "\n",
    "# Now 'summaries_chat_ids_and_guids' contains the chatId, summary, and a unique GUID for each search hit\n",
    "for item in summaries_chat_ids_and_guids:\n",
    "    await kernel.memory.save_information_async(\"ESPC23\", id=guid, text=summary)\n",
    "    print(item)\n",
    "\n",
    "                                            "
   ]
  },
  {
   "cell_type": "code",
   "execution_count": 21,
   "id": "1df3f1fe-a3e5-476a-81b7-80559735ec05",
   "metadata": {},
   "outputs": [],
   "source": [
    "#print(summaries_chat_ids_and_guids)"
   ]
  },
  {
   "cell_type": "markdown",
   "id": "9ce4e601-69a4-4875-93fc-91a1debbbadc",
   "metadata": {},
   "source": [
    "## Work with Drives(Files) Search Query Endpoint"
   ]
  },
  {
   "cell_type": "code",
   "execution_count": null,
   "id": "abf822fd-c39e-4a24-b090-d06896c664b8",
   "metadata": {},
   "outputs": [],
   "source": []
  },
  {
   "cell_type": "code",
   "execution_count": 24,
   "id": "9cf195b7-2e7f-4862-b363-85db4e6f1974",
   "metadata": {},
   "outputs": [],
   "source": [
    "request_body = QueryPostRequestBody(\n",
    "\trequests = [\n",
    "\t\tSearchRequest(\n",
    "\t\t\tentity_types = [\n",
    "\t\t\t\tEntityType.DriveItem\n",
    "\t\t\t],\n",
    "\t\t\tquery = SearchQuery(\n",
    "\t\t\t\tquery_string = \"GabbyG\",\n",
    "\t\t\t),\n",
    "\t\t),\n",
    "\t],\n",
    ")\n",
    "\n",
    "drive_result = await client.search.query.post(request_body)"
   ]
  },
  {
   "cell_type": "code",
   "execution_count": 25,
   "id": "c37d9da2-9668-4257-9efe-10cb4d9ef77f",
   "metadata": {},
   "outputs": [],
   "source": [
    "drive_data = drive_result.value\n",
    "#print(drive_data)"
   ]
  },
  {
   "cell_type": "code",
   "execution_count": 28,
   "id": "8dfba2c2-e11b-435c-9f66-8b3af4a2bcb4",
   "metadata": {},
   "outputs": [
    {
     "name": "stdout",
     "output_type": "stream",
     "text": [
      "('c4b21d35-5271-41b8-a91d-f372c152f9aa', 'CollabSummit2024_GabbySpeaking.docx')\n",
      "('809dfb5f-c1db-45b4-9607-829c555cbad6', 'Apps')\n"
     ]
    }
   ],
   "source": [
    "try:\n",
    "    drive_search_response = drive_data[0]  # Assuming there's only one SearchResponse object in the list\n",
    "\n",
    "    # Initialize an empty list to store summaries, from information, and generated GUIDs\n",
    "    drive_summary_from_and_guids = []\n",
    "    drive_narrative = []\n",
    "\n",
    "    if drive_search_response:\n",
    "        # Iterate over hits_containers in the SearchResponse object\n",
    "        for drive_hits_container in drive_search_response.hits_containers:\n",
    "            # Iterate over each hit in the container\n",
    "            for drive_hit in drive_hits_container.hits:\n",
    "                # Extract the summary\n",
    "                drive_summary = drive_hit.summary\n",
    "\n",
    "                # Extract the 'from' information from additional_data\n",
    "                from_data = drive_hit.resource.additional_data.get('from', {}).get('emailAddress', {})\n",
    "                from_name = from_data.get('name', 'Unknown')\n",
    "                from_email = from_data.get('address', 'Unknown')\n",
    "                file_name = getattr(drive_hit.resource, 'name', 'Unknown')\n",
    "                user_email = from_data.get('email', 'Unknown')\n",
    "\n",
    "                # Generate a unique GUID for each hit\n",
    "                drive_guid = str(uuid.uuid4())\n",
    "\n",
    "                # Append the summary, 'from' information, and GUID as a tuple to the list\n",
    "                drive_summary_from_and_guids.append((drive_guid, drive_summary, from_name, from_email))\n",
    "                drive_narrative.append((drive_guid, file_name))\n",
    "except Exception as e:\n",
    "    print(f\"An error occurred: {e}\")\n",
    "\n",
    "# Now 'drive_summary_from_and_guids' contains the summary, from information, and a unique GUID for each search hit\n",
    "for item in drive_narrative:\n",
    "    await kernel.memory.save_information_async(\"ESPC23\", id=drive_guid, text=file_name)\n",
    "    print(item)\n",
    "\n"
   ]
  },
  {
   "cell_type": "code",
   "execution_count": 29,
   "id": "d5aa2ab9-2669-49c7-b6b6-e3946e06d538",
   "metadata": {},
   "outputs": [
    {
     "name": "stdout",
     "output_type": "stream",
     "text": [
      "[('c4b21d35-5271-41b8-a91d-f372c152f9aa', 'CollabSummit2024_GabbySpeaking.docx'), ('809dfb5f-c1db-45b4-9607-829c555cbad6', 'Apps')]\n"
     ]
    }
   ],
   "source": [
    "print(drive_narrative)"
   ]
  },
  {
   "cell_type": "markdown",
   "id": "67855070-c562-4f8e-837a-214904ff14e2",
   "metadata": {},
   "source": [
    "## Work with Messages(Email) Search Query Endpoint"
   ]
  },
  {
   "cell_type": "code",
   "execution_count": 30,
   "id": "d0d1fa17-ee01-4347-9363-251cec125b35",
   "metadata": {},
   "outputs": [],
   "source": [
    "request_body = QueryPostRequestBody(\n",
    "\trequests = [\n",
    "\t\tSearchRequest(\n",
    "\t\t\tentity_types = [\n",
    "\t\t\t\tEntityType.Message\n",
    "\t\t\t],\n",
    "\t\t\tquery = SearchQuery(\n",
    "\t\t\t\tquery_string = \"GabbyG\",\n",
    "\t\t\t),\n",
    "\t\t),\n",
    "\t],\n",
    ")\n",
    "\n",
    "mail_result = await client.search.query.post(request_body)"
   ]
  },
  {
   "cell_type": "code",
   "execution_count": 31,
   "id": "f674c27b-fe6e-4c6b-9bd3-19ac88bfedad",
   "metadata": {},
   "outputs": [],
   "source": [
    "mail_data = mail_result.value"
   ]
  },
  {
   "cell_type": "code",
   "execution_count": 32,
   "id": "6fc38502-2c74-421a-987e-fd789457831c",
   "metadata": {},
   "outputs": [
    {
     "name": "stdout",
     "output_type": "stream",
     "text": [
      "('17a7a64c-743f-4d4b-8f4b-8b124cde08c6', \"Fabian Williams shared a file with you  Here's the document that Fabian Williams shared with you.   ProjectRoundtreeStatusReport   This link will work for anyone.  Open   Privacy...\", 'Unknown', 'Unknown')\n",
      "('798fb252-1e72-493b-86f4-63bf01e83768', \"Fabian Williams shared a file with you   Here's the document that Fabian Williams shared with you.   HowToGainAccessToStudyGroup  1 min to read this.   This link will work for...\", 'Unknown', 'Unknown')\n",
      "('8f691a53-0324-4b49-8add-d3233dd5ecee', 'From: Microsoft <microsoft-noreply@microsoft.com> Sent: Thursday, November 9, 2023 8:15 PM To: Fabian Williams <fabian@fabster.onmicrosoft.com> Subject: Your Microsoft invoice...', 'Unknown', 'Unknown')\n",
      "('a2b19147-ae6b-46ad-a9b4-8c4b4db2264e', '...email is intended for <c0>GabbyG</c0>@fabster.onmicrosoft.com For people in Canada This is a mandatory service communication. To set your contact preferences for other communications, visit...', 'Unknown', 'Unknown')\n",
      "('8e41a581-3296-44ae-9f7e-1d6dc310ab04', 'Hello Attendees in our Denmark Session!', 'Unknown', 'Unknown')\n",
      "('fee4a30a-e836-4e9f-8bdf-07d57eba659e', 'Hello Attendees in our Denmark Session!', 'Unknown', 'Unknown')\n",
      "('e60b1ebc-20e3-4232-8748-d29bfb6a0d34', \"here's a HAPPY MAIL :)...\", 'Unknown', 'Unknown')\n",
      "('e76c4f45-117a-445d-9847-f1943dceb38f', 'Hi, I‘m not yet sure if I am happy about the session at the moment. It is hard to think about being happy, if you do not know what to expect. Thinkibg about it this makes me angry...', 'Unknown', 'Unknown')\n",
      "('41289451-6378-40c9-84c5-d06d77d6ac1e', 'Hi This day will be a good day to learn new tech 😊 Best Martin...', 'Unknown', 'Unknown')\n",
      "('0e5a530e-0395-449e-a5ab-4384fb471b81', \"Hi Gabby, Why on earth you using Anaconda?! I'm angry! Lmao! 😋 Paul Sent from Outlook for iOS...\", 'Unknown', 'Unknown')\n",
      "('cdb2f7ab-00cc-4c4d-a0da-54b93341e19f', 'I am so happy that you can see how angry I am. Sendt fra min iPhone...', 'Unknown', 'Unknown')\n",
      "('11d17bfd-8c16-4ff9-b658-beac03e63309', 'But really eager to get to lunch! Best, Robert Få Outlook for Android...', 'Unknown', 'Unknown')\n",
      "('dbb12541-1007-4129-bcee-6a48aec204ab', 'Hi Gabby, Thank you for delivering an awesome session! Out of interest why Anaconda? Paul Sent from Outlook for iOS...', 'Unknown', 'Unknown')\n",
      "('62d744d1-722d-4ab9-ba15-f55306e01d22', 'Hello Attendees in our Denmark Session!', 'Unknown', 'Unknown')\n",
      "('55c44286-cc7c-4482-9637-ca6d4684de5d', 'Hello Attendees in our Denmark Session!', 'Unknown', 'Unknown')\n",
      "('4446f272-29ea-473a-97c9-24e7e893f73a', 'Ok, So make sure you know your lines, study your answers to the questions. Get your demo ready to go. MOST IMPORTANT: do all the sacrifices to the demo gods!!! Dad.', 'Unknown', 'Unknown')\n"
     ]
    }
   ],
   "source": [
    "try:\n",
    "    mail_search_response = mail_data[0]  # Assuming there's only one SearchResponse object in the list\n",
    "\n",
    "    # Initialize an empty list to store summaries, from information, and generated GUIDs\n",
    "    mail_summary_from_and_guids = []\n",
    "\n",
    "    if mail_search_response:\n",
    "        # Iterate over hits_containers in the SearchResponse object\n",
    "        for mail_hits_container in mail_search_response.hits_containers:\n",
    "            # Iterate over each hit in the container\n",
    "            for mail_hit in mail_hits_container.hits:\n",
    "                # Extract the summary\n",
    "                mail_summary = mail_hit.summary\n",
    "\n",
    "                # Extract the 'from' information from additional_data\n",
    "                from_data = mail_hit.resource.additional_data.get('from', {}).get('emailAddress', {})\n",
    "                from_name = from_data.get('name', 'Unknown')\n",
    "                from_email = from_data.get('address', 'Unknown')\n",
    "\n",
    "                # Generate a unique GUID for each hit\n",
    "                guid = str(uuid.uuid4())\n",
    "\n",
    "                # Append the summary, 'from' information, and GUID as a tuple to the list\n",
    "                mail_summary_from_and_guids.append((guid, mail_summary, from_name, from_email))\n",
    "                mailconstruct = mail_summary + \" from \" + from_name\n",
    "except Exception as e:\n",
    "    print(f\"An error occurred: {e}\")\n",
    "\n",
    "# Now 'mail_summary_from_and_guids' contains the summary, from information, and a unique GUID for each search hit\n",
    "for item in mail_summary_from_and_guids:\n",
    "    await kernel.memory.save_information_async(\"ESPC23\", id=guid, text=mailconstruct)\n",
    "    print(item)"
   ]
  },
  {
   "cell_type": "code",
   "execution_count": null,
   "id": "7b7b9ab6-acd8-411c-b831-337758494522",
   "metadata": {},
   "outputs": [],
   "source": [
    "print(mail_summary_from_and_guids)"
   ]
  },
  {
   "cell_type": "code",
   "execution_count": null,
   "id": "7c0fbd00-44ba-4d88-957e-4cb191685c72",
   "metadata": {},
   "outputs": [],
   "source": []
  },
  {
   "cell_type": "markdown",
   "id": "0bb0c3da-ed93-445b-87fa-76eb60e71743",
   "metadata": {},
   "source": [
    "## Query and Read All 3 Payloads from Semantic Memory ONLY"
   ]
  },
  {
   "cell_type": "code",
   "execution_count": 49,
   "id": "0d8ccb18-c337-4834-8cb2-34bc5f997410",
   "metadata": {},
   "outputs": [],
   "source": [
    "async def search_memory_examples(kernel: sk.Kernel) -> None:\n",
    "    questions = [\n",
    "        \"Whats going on with Gabby\",\n",
    "        \"What conferences are we doing\",\n",
    "    ]\n",
    "\n",
    "    for question in questions:\n",
    "        results = await kernel.memory.search_async(\"ESPC23\", question, limit=3)\n",
    "        for result in results:\n",
    "            print(f\"Question: {question}\")\n",
    "            print(f\"Answer: {result.text}\\nRelevance: {result.relevance}\\n\")"
   ]
  },
  {
   "cell_type": "code",
   "execution_count": 50,
   "id": "4172004c-2651-47cb-9dea-967f4db8ed0b",
   "metadata": {},
   "outputs": [
    {
     "name": "stdout",
     "output_type": "stream",
     "text": [
      "Question: Whats going on with Gabby\n",
      "Answer: hello Gabby, are you prepared for the ChatGPT session with Python?\n",
      "Relevance: 0.8014901065953683\n",
      "\n",
      "Question: Whats going on with Gabby\n",
      "Answer: Apps\n",
      "Relevance: 0.7280218217552771\n",
      "\n",
      "Question: Whats going on with Gabby\n",
      "Answer: Ok, So make sure you know your lines, study your answers to the questions. Get your demo ready to go. MOST IMPORTANT: do all the sacrifices to the demo gods!!! Dad. from Unknown\n",
      "Relevance: 0.7222264229726226\n",
      "\n",
      "Question: What conferences are we doing\n",
      "Answer: Apps\n",
      "Relevance: 0.748952142093939\n",
      "\n",
      "Question: What conferences are we doing\n",
      "Answer: hello Gabby, are you prepared for the ChatGPT session with Python?\n",
      "Relevance: 0.7329083577823825\n",
      "\n",
      "Question: What conferences are we doing\n",
      "Answer: Ok, So make sure you know your lines, study your answers to the questions. Get your demo ready to go. MOST IMPORTANT: do all the sacrifices to the demo gods!!! Dad. from Unknown\n",
      "Relevance: 0.7305096495158402\n",
      "\n"
     ]
    }
   ],
   "source": [
    "await search_memory_examples(kernel)"
   ]
  },
  {
   "cell_type": "code",
   "execution_count": null,
   "id": "67394375-f439-4cc6-9fa3-d0faed79096d",
   "metadata": {},
   "outputs": [],
   "source": []
  }
 ],
 "metadata": {
  "kernelspec": {
   "display_name": "espc23",
   "language": "python",
   "name": "espc23"
  },
  "language_info": {
   "codemirror_mode": {
    "name": "ipython",
    "version": 3
   },
   "file_extension": ".py",
   "mimetype": "text/x-python",
   "name": "python",
   "nbconvert_exporter": "python",
   "pygments_lexer": "ipython3",
   "version": "3.11.5"
  }
 },
 "nbformat": 4,
 "nbformat_minor": 5
}
