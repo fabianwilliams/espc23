{
 "cells": [
  {
   "cell_type": "code",
   "execution_count": 21,
   "id": "9939cb09",
   "metadata": {},
   "outputs": [],
   "source": [
    "from dotenv import load_dotenv \n",
    "from azure.identity import DeviceCodeCredential\n",
    "from msgraph import GraphServiceClient\n",
    "from msgraph.generated.users.item.messages.messages_request_builder import MessagesRequestBuilder\n",
    "from msgraph.generated.search.query.query_post_request_body import QueryPostRequestBody\n",
    "from msgraph.generated.search.query.query_request_builder import QueryRequestBuilder\n",
    "from msgraph.generated.search.search_request_builder import SearchRequestBuilder\n",
    "from msgraph.generated.models.search_request import SearchRequest\n",
    "from msgraph.generated.models.entity_type import EntityType\n",
    "from msgraph.generated.models.search_query import SearchQuery\n",
    "from msgraph.generated.models.search_response import SearchResponse\n",
    "import os\n",
    "import json\n",
    "import asyncio "
   ]
  },
  {
   "cell_type": "code",
   "execution_count": null,
   "id": "062da045-9a25-482d-979f-1c7a51f890da",
   "metadata": {},
   "outputs": [],
   "source": []
  },
  {
   "cell_type": "code",
   "execution_count": 2,
   "id": "2fc30b76",
   "metadata": {},
   "outputs": [
    {
     "data": {
      "text/plain": [
       "True"
      ]
     },
     "execution_count": 2,
     "metadata": {},
     "output_type": "execute_result"
    }
   ],
   "source": [
    "load_dotenv()"
   ]
  },
  {
   "cell_type": "code",
   "execution_count": 3,
   "id": "191c4b8c",
   "metadata": {},
   "outputs": [],
   "source": [
    "TENANT_ID = os.getenv(\"TENANT_ID\")"
   ]
  },
  {
   "cell_type": "code",
   "execution_count": 4,
   "id": "39e9b30f",
   "metadata": {},
   "outputs": [],
   "source": [
    "CLIENT_ID = os.getenv(\"CLIENT_ID\")"
   ]
  },
  {
   "cell_type": "code",
   "execution_count": 5,
   "id": "232c7384-3c6a-4d70-a261-63c2cbe766a3",
   "metadata": {},
   "outputs": [],
   "source": [
    "graphUserScopes = os.getenv(\"graphUserScopes\").split(' ')"
   ]
  },
  {
   "cell_type": "code",
   "execution_count": 6,
   "id": "0761080e-8ae2-4bce-a2bd-48d1232ad72f",
   "metadata": {},
   "outputs": [
    {
     "name": "stdout",
     "output_type": "stream",
     "text": [
      "48943d42-a075-43c5-8d93-3f2da879c1be\n"
     ]
    }
   ],
   "source": [
    "print(CLIENT_ID)"
   ]
  },
  {
   "cell_type": "code",
   "execution_count": 7,
   "id": "7714c8f0-acff-4355-bdc8-3b2dfb5227c8",
   "metadata": {},
   "outputs": [],
   "source": [
    "fabs = 'fabian@fabster.onmicrosoft.com'"
   ]
  },
  {
   "cell_type": "code",
   "execution_count": 8,
   "id": "17e20298-bf85-45bd-b0cf-d3862b779d89",
   "metadata": {},
   "outputs": [],
   "source": [
    "adele = 'adelev@fabster.onmicrosoft.com'"
   ]
  },
  {
   "cell_type": "code",
   "execution_count": 9,
   "id": "3d304a16-7dbc-4b0d-9b06-df920af112b4",
   "metadata": {},
   "outputs": [],
   "source": [
    "## ensure that you have turned on DefaultClientType to Yes in the App Registration"
   ]
  },
  {
   "cell_type": "code",
   "execution_count": 10,
   "id": "3a96b477-9d74-461c-91ad-dc77d7e5dd61",
   "metadata": {},
   "outputs": [
    {
     "name": "stdout",
     "output_type": "stream",
     "text": [
      "['User.Read', 'Mail.ReadWrite', 'Chat.ReadWrite', 'Calendars.Read', 'Files.Read.All', 'Sites.Read.All']\n"
     ]
    }
   ],
   "source": [
    "print(graphUserScopes)"
   ]
  },
  {
   "cell_type": "code",
   "execution_count": 11,
   "id": "87d1c165-7ec9-4cfe-a8eb-44940a3a81a5",
   "metadata": {},
   "outputs": [],
   "source": [
    "credential = DeviceCodeCredential(client_id=CLIENT_ID, tenant_id=TENANT_ID) \n",
    "scopes = graphUserScopes\n",
    "client = GraphServiceClient(credentials=credential, scopes=scopes)"
   ]
  },
  {
   "cell_type": "code",
   "execution_count": 13,
   "id": "e4be0a9d-ab67-47ce-ba1c-899e991e85b4",
   "metadata": {},
   "outputs": [],
   "source": [
    "result = await client.me.get()"
   ]
  },
  {
   "cell_type": "code",
   "execution_count": 14,
   "id": "64fdaf30-0b99-45a1-887c-96a80cf94b95",
   "metadata": {},
   "outputs": [
    {
     "name": "stdout",
     "output_type": "stream",
     "text": [
      "Adele Vance\n"
     ]
    }
   ],
   "source": [
    "print(result.display_name)"
   ]
  },
  {
   "cell_type": "code",
   "execution_count": null,
   "id": "33d49999-8580-4557-9b91-216ad6950b66",
   "metadata": {},
   "outputs": [],
   "source": [
    "async def get_user(currUser):\n",
    "    result = await client.users.by_user_id(currUser).get()\n",
    "    if result:\n",
    "        print(result.display_name)"
   ]
  },
  {
   "cell_type": "code",
   "execution_count": null,
   "id": "6b10058a-9894-4e91-989a-bb34b5a9a2ec",
   "metadata": {},
   "outputs": [],
   "source": [
    "await (get_user('adelev@fabster.onmicrosoft.com'))"
   ]
  },
  {
   "cell_type": "code",
   "execution_count": null,
   "id": "c0df725c-3dd8-4988-8327-ea0cc2f6aadf",
   "metadata": {},
   "outputs": [],
   "source": [
    "async def get_user_messages(currUser):\n",
    "    messages = await (client.users.by_user_id(currUser).messages.get())\n",
    "    if messages and messages.value:\n",
    "        for msg in messages.value:\n",
    "            print(msg.subject, msg.id, msg.from_, msg.body_preview)"
   ]
  },
  {
   "cell_type": "code",
   "execution_count": null,
   "id": "740b105a-2091-4310-9c6d-e3373a5a4a01",
   "metadata": {},
   "outputs": [],
   "source": [
    "await get_user_messages(adele)"
   ]
  },
  {
   "cell_type": "code",
   "execution_count": null,
   "id": "8bbe5c4a-b4b2-48f5-b11c-fd153a224ff4",
   "metadata": {},
   "outputs": [],
   "source": [
    "async def get_user_chats(currUser):\n",
    "    chats = await (client.users.by_user_id(currUser).chats.get())\n",
    "    if chats and chats.value:\n",
    "        for cht in chats.value:\n",
    "            print(cht.topic)"
   ]
  },
  {
   "cell_type": "code",
   "execution_count": null,
   "id": "30401a3e-da0f-4bb3-8529-ec0e16300fca",
   "metadata": {},
   "outputs": [],
   "source": [
    "await get_user_chats(adele)"
   ]
  },
  {
   "cell_type": "code",
   "execution_count": 52,
   "id": "9a3e21b7-fbf4-42ec-a251-e31b32bdfd90",
   "metadata": {},
   "outputs": [],
   "source": [
    "request_body = QueryPostRequestBody(\n",
    "\trequests = [\n",
    "\t\tSearchRequest(\n",
    "\t\t\tentity_types = [\n",
    "\t\t\t\tEntityType.ChatMessage\n",
    "\t\t\t],\n",
    "\t\t\tquery = SearchQuery(\n",
    "\t\t\t\tquery_string = \"Adele\",\n",
    "\t\t\t),\n",
    "\t\t),\n",
    "\t],\n",
    ")\n",
    "\n",
    "chat_result = await client.search.query.post(request_body)"
   ]
  },
  {
   "cell_type": "code",
   "execution_count": 53,
   "id": "836cd186-7f0a-4692-acd0-3ca014e9334c",
   "metadata": {},
   "outputs": [],
   "source": [
    "chat_data = chat_result.value"
   ]
  },
  {
   "cell_type": "code",
   "execution_count": 54,
   "id": "3acbddc0-23eb-4051-9124-bf4281fa835c",
   "metadata": {},
   "outputs": [
    {
     "data": {
      "text/plain": [
       "[SearchResponse(additional_data={}, hits_containers=[SearchHitsContainer(additional_data={}, aggregations=None, hits=[SearchHit(additional_data={}, content_source=None, hit_id='AQMkADQ1ZjQzNTE5LTRjNGItNDI1ZC1hNWY1LWNmZTEzNjBjMGY3MgBGAAADTsefQxogGUq/s09IsB8ApgcAR7eBlyFi6U2kmUMoQtaH+AAAAoIEAAAAR7eBlyFi6U2kmUMoQtaH+AACwsQOtAAAAA==', is_collapsed=None, odata_type=None, rank=1, resource=Entity(additional_data={'createdDateTime': DateTime(2023, 11, 23, 17, 52, 21, tzinfo=Timezone('UTC')), 'lastModifiedDateTime': DateTime(2023, 11, 23, 18, 0, 40, tzinfo=Timezone('UTC')), 'subject': '', 'importance': 'normal', 'webLink': 'https://teams.microsoft.com/l/message/19%3a28031fbd-75af-4b61-8afd-347aac675901_eb14fa25-43e5-45f8-973d-7ea79a346db6%40unq.gbl.spaces/1700761940682?context=%7B%22contextType%22:%22chat%22%7D', 'from': {'emailAddress': {'name': 'Adele Vance', 'address': 'AdeleV@fabster.onmicrosoft.com'}}, 'channelIdentity': {'channelId': '19:28031fbd-75af-4b61-8afd-347aac675901_eb14fa25-43e5-45f8-973d-7ea79a346db6@unq.gbl.spaces'}, 'etag': '1700761940682', 'chatId': '19:28031fbd-75af-4b61-8afd-347aac675901_eb14fa25-43e5-45f8-973d-7ea79a346db6@unq.gbl.spaces'}, id='1700761940682', odata_type='microsoft.graph.chatMessage'), result_template_id=None, summary='hmmm which one? the one closer to the book store by Rokin near the Yo boba store?'), SearchHit(additional_data={}, content_source=None, hit_id='AQMkADQ1ZjQzNTE5LTRjNGItNDI1ZC1hNWY1LWNmZTEzNjBjMGY3MgBGAAADTsefQxogGUq/s09IsB8ApgcAR7eBlyFi6U2kmUMoQtaH+AAAAoIEAAAAR7eBlyFi6U2kmUMoQtaH+AACwsQOswAAAA==', is_collapsed=None, odata_type=None, rank=2, resource=Entity(additional_data={'createdDateTime': DateTime(2023, 11, 23, 17, 49, 37, tzinfo=Timezone('UTC')), 'lastModifiedDateTime': DateTime(2023, 11, 23, 17, 49, 38, tzinfo=Timezone('UTC')), 'subject': '', 'importance': 'normal', 'webLink': 'https://teams.microsoft.com/l/message/19%3a28031fbd-75af-4b61-8afd-347aac675901_eb14fa25-43e5-45f8-973d-7ea79a346db6%40unq.gbl.spaces/1700761776384?context=%7B%22contextType%22:%22chat%22%7D', 'from': {'emailAddress': {'name': 'Fabian Williams', 'address': 'fabian@fabster.onmicrosoft.com'}}, 'channelIdentity': {'channelId': '19:28031fbd-75af-4b61-8afd-347aac675901_eb14fa25-43e5-45f8-973d-7ea79a346db6@unq.gbl.spaces'}, 'etag': '1700761776384', 'chatId': '19:28031fbd-75af-4b61-8afd-347aac675901_eb14fa25-43e5-45f8-973d-7ea79a346db6@unq.gbl.spaces'}, id='1700761776384', odata_type='microsoft.graph.chatMessage'), result_template_id=None, summary='hey Im in Amsterdam downtown lets get some Fries from that spot near Amsterdam Central next to the Uni Clo store'), SearchHit(additional_data={}, content_source=None, hit_id='AQMkADQ1ZjQzNTE5LTRjNGItNDI1ZC1hNWY1LWNmZTEzNjBjMGY3MgBGAAADTsefQxogGUq/s09IsB8ApgcAR7eBlyFi6U2kmUMoQtaH+AAAAoIEAAAAR7eBlyFi6U2kmUMoQtaH+AACftFKEgAAAA==', is_collapsed=None, odata_type=None, rank=3, resource=Entity(additional_data={'createdDateTime': DateTime(2023, 8, 12, 16, 57, 54, tzinfo=Timezone('UTC')), 'lastModifiedDateTime': DateTime(2023, 8, 12, 16, 58, 12, tzinfo=Timezone('UTC')), 'subject': '', 'importance': 'normal', 'webLink': 'https://teams.microsoft.com/l/message/19%3a28031fbd-75af-4b61-8afd-347aac675901_eb14fa25-43e5-45f8-973d-7ea79a346db6%40unq.gbl.spaces/1691859473586?context=%7B%22contextType%22:%22chat%22%7D', 'from': {'emailAddress': {'name': 'Fabian Williams', 'address': 'fabian@fabster.onmicrosoft.com'}}, 'channelIdentity': {'channelId': '19:28031fbd-75af-4b61-8afd-347aac675901_eb14fa25-43e5-45f8-973d-7ea79a346db6@unq.gbl.spaces'}, 'etag': '1691859473586', 'chatId': '19:28031fbd-75af-4b61-8afd-347aac675901_eb14fa25-43e5-45f8-973d-7ea79a346db6@unq.gbl.spaces'}, id='1691859473586', odata_type='microsoft.graph.chatMessage'), result_template_id=None, summary='I need to fix Kaleb Williams bicycle today What tools should i bring based on this document here https://fabster-my.sharepoint.com/:w:/g/personal/fabian_fabster_onmicrosoft_com/EfYFSS6IwSZNnyCyYPcK4IkBRiFeuXhA3cHn74Ha6Ag_Ow https://fabster-my.sharepoint.c'), SearchHit(additional_data={}, content_source=None, hit_id='AAMkADQ1ZjQzNTE5LTRjNGItNDI1ZC1hNWY1LWNmZTEzNjBjMGY3MgBGAAAAAABOx59DGiAZSr+zT0iwHwCmBwBHt4GXIWLpTaSZQyhC1of4AAAAAIIEAABHt4GXIWLpTaSZQyhC1of4AACz61nsAAA=', is_collapsed=None, odata_type=None, rank=4, resource=Entity(additional_data={'createdDateTime': DateTime(2021, 9, 13, 18, 24, 35, tzinfo=Timezone('UTC')), 'lastModifiedDateTime': DateTime(2021, 9, 13, 18, 24, 36, tzinfo=Timezone('UTC')), 'subject': '', 'importance': 'normal', 'webLink': 'https://teams.microsoft.com/l/message/19%3a28031fbd-75af-4b61-8afd-347aac675901_eb14fa25-43e5-45f8-973d-7ea79a346db6%40unq.gbl.spaces/1631557475292?context=%7B%22contextType%22:%22chat%22%7D', 'from': {'emailAddress': {'name': 'Fabian Williams', 'address': 'fabian@fabster.onmicrosoft.com'}}, 'channelIdentity': {'channelId': '19:28031fbd-75af-4b61-8afd-347aac675901_eb14fa25-43e5-45f8-973d-7ea79a346db6@unq.gbl.spaces'}, 'etag': '1631557475292', 'chatId': '19:28031fbd-75af-4b61-8afd-347aac675901_eb14fa25-43e5-45f8-973d-7ea79a346db6@unq.gbl.spaces'}, id='1631557475292', odata_type='microsoft.graph.chatMessage'), result_template_id=None, summary='how are you...'), SearchHit(additional_data={}, content_source=None, hit_id='AAMkADQ1ZjQzNTE5LTRjNGItNDI1ZC1hNWY1LWNmZTEzNjBjMGY3MgBGAAAAAABOx59DGiAZSr+zT0iwHwCmBwBHt4GXIWLpTaSZQyhC1of4AAAAAIIEAABHt4GXIWLpTaSZQyhC1of4AACz61nrAAA=', is_collapsed=None, odata_type=None, rank=5, resource=Entity(additional_data={'createdDateTime': DateTime(2021, 9, 13, 18, 24, 33, tzinfo=Timezone('UTC')), 'lastModifiedDateTime': DateTime(2021, 9, 13, 18, 24, 35, tzinfo=Timezone('UTC')), 'subject': '', 'importance': 'normal', 'webLink': 'https://teams.microsoft.com/l/message/19%3a28031fbd-75af-4b61-8afd-347aac675901_eb14fa25-43e5-45f8-973d-7ea79a346db6%40unq.gbl.spaces/1631557472669?context=%7B%22contextType%22:%22chat%22%7D', 'from': {'emailAddress': {'name': 'Fabian Williams', 'address': 'fabian@fabster.onmicrosoft.com'}}, 'channelIdentity': {'channelId': '19:28031fbd-75af-4b61-8afd-347aac675901_eb14fa25-43e5-45f8-973d-7ea79a346db6@unq.gbl.spaces'}, 'etag': '1631557472669', 'chatId': '19:28031fbd-75af-4b61-8afd-347aac675901_eb14fa25-43e5-45f8-973d-7ea79a346db6@unq.gbl.spaces'}, id='1631557472669', odata_type='microsoft.graph.chatMessage'), result_template_id=None, summary='hi adele long time'), SearchHit(additional_data={}, content_source=None, hit_id='AAMkADQ1ZjQzNTE5LTRjNGItNDI1ZC1hNWY1LWNmZTEzNjBjMGY3MgBGAAAAAABOx59DGiAZSr+zT0iwHwCmBwBHt4GXIWLpTaSZQyhC1of4AAAAAIIEAABHt4GXIWLpTaSZQyhC1of4AACAErvEAAA=', is_collapsed=None, odata_type=None, rank=6, resource=Entity(additional_data={'createdDateTime': DateTime(2021, 7, 6, 16, 11, 58, tzinfo=Timezone('UTC')), 'lastModifiedDateTime': DateTime(2021, 7, 6, 16, 11, 59, tzinfo=Timezone('UTC')), 'subject': '', 'importance': 'normal', 'webLink': 'https://teams.microsoft.com/l/message/19%3a28031fbd-75af-4b61-8afd-347aac675901_eb14fa25-43e5-45f8-973d-7ea79a346db6%40unq.gbl.spaces/1625587917602?context=%7B%22contextType%22:%22chat%22%7D', 'from': {'emailAddress': {'name': 'Fabian Williams', 'address': 'fabian@fabster.onmicrosoft.com'}}, 'channelIdentity': {'channelId': '19:28031fbd-75af-4b61-8afd-347aac675901_eb14fa25-43e5-45f8-973d-7ea79a346db6@unq.gbl.spaces'}, 'etag': '1625587917602', 'chatId': '19:28031fbd-75af-4b61-8afd-347aac675901_eb14fa25-43e5-45f8-973d-7ea79a346db6@unq.gbl.spaces'}, id='1625587917602', odata_type='microsoft.graph.chatMessage'), result_template_id=None, summary='u there...'), SearchHit(additional_data={}, content_source=None, hit_id='AAMkADQ1ZjQzNTE5LTRjNGItNDI1ZC1hNWY1LWNmZTEzNjBjMGY3MgBGAAAAAABOx59DGiAZSr+zT0iwHwCmBwBHt4GXIWLpTaSZQyhC1of4AAAAAIIEAABHt4GXIWLpTaSZQyhC1of4AACAErvDAAA=', is_collapsed=None, odata_type=None, rank=7, resource=Entity(additional_data={'createdDateTime': DateTime(2021, 7, 6, 15, 42, 5, tzinfo=Timezone('UTC')), 'lastModifiedDateTime': DateTime(2021, 7, 6, 15, 42, 6, tzinfo=Timezone('UTC')), 'subject': '', 'importance': 'normal', 'webLink': 'https://teams.microsoft.com/l/message/19%3a28031fbd-75af-4b61-8afd-347aac675901_eb14fa25-43e5-45f8-973d-7ea79a346db6%40unq.gbl.spaces/1625586124617?context=%7B%22contextType%22:%22chat%22%7D', 'from': {'emailAddress': {'name': 'Fabian Williams', 'address': 'fabian@fabster.onmicrosoft.com'}}, 'channelIdentity': {'channelId': '19:28031fbd-75af-4b61-8afd-347aac675901_eb14fa25-43e5-45f8-973d-7ea79a346db6@unq.gbl.spaces'}, 'etag': '1625586124617', 'chatId': '19:28031fbd-75af-4b61-8afd-347aac675901_eb14fa25-43e5-45f8-973d-7ea79a346db6@unq.gbl.spaces'}, id='1625586124617', odata_type='microsoft.graph.chatMessage'), result_template_id=None, summary='cool well i am going to test now on Postman...'), SearchHit(additional_data={}, content_source=None, hit_id='AAMkADQ1ZjQzNTE5LTRjNGItNDI1ZC1hNWY1LWNmZTEzNjBjMGY3MgBGAAAAAABOx59DGiAZSr+zT0iwHwCmBwBHt4GXIWLpTaSZQyhC1of4AAAAAIIEAABHt4GXIWLpTaSZQyhC1of4AACAErvCAAA=', is_collapsed=None, odata_type=None, rank=8, resource=Entity(additional_data={'createdDateTime': DateTime(2021, 7, 6, 15, 41, 34, tzinfo=Timezone('UTC')), 'lastModifiedDateTime': DateTime(2021, 7, 6, 15, 41, 38, tzinfo=Timezone('UTC')), 'subject': '', 'importance': 'normal', 'webLink': 'https://teams.microsoft.com/l/message/19%3a28031fbd-75af-4b61-8afd-347aac675901_eb14fa25-43e5-45f8-973d-7ea79a346db6%40unq.gbl.spaces/1625586094323?context=%7B%22contextType%22:%22chat%22%7D', 'from': {'emailAddress': {'name': 'Adele Vance', 'address': 'AdeleV@fabster.onmicrosoft.com'}}, 'channelIdentity': {'channelId': '19:28031fbd-75af-4b61-8afd-347aac675901_eb14fa25-43e5-45f8-973d-7ea79a346db6@unq.gbl.spaces'}, 'etag': '1625586094323', 'chatId': '19:28031fbd-75af-4b61-8afd-347aac675901_eb14fa25-43e5-45f8-973d-7ea79a346db6@unq.gbl.spaces'}, id='1625586094323', odata_type='microsoft.graph.chatMessage'), result_template_id=None, summary='i want to have a chat before my status change...'), SearchHit(additional_data={}, content_source=None, hit_id='AAMkAGExMWZhZTU1LWFhZTktNDk1Yi04OTM2LTUxMzViNzQ4NTM2MwBGAAAAAACdJ5av94SBR6v4JziJiMZJBwBMBKTDj1Z4SIEPK/D4ItVQAAAAAAErAABMBKTDj1Z4SIEPK/D4ItVQAAAAACiBAAA=', is_collapsed=None, odata_type=None, rank=9, resource=Entity(additional_data={'createdDateTime': DateTime(2021, 5, 25, 20, 9, 40, tzinfo=Timezone('UTC')), 'lastModifiedDateTime': DateTime(2021, 5, 25, 21, 11, 4, tzinfo=Timezone('UTC')), 'importance': 'normal', 'webLink': 'https://teams.microsoft.com/l/message/19%3alRyBO1hOwy6N1gPQMklLa_SlOsQMmCb8JxJiMW-5n4o1%40thread.tacv2/1621973380031', 'from': {'emailAddress': {'name': 'Fabian Williams', 'address': 'fabian@fabster.onmicrosoft.com'}}, 'channelIdentity': {'channelId': '19:lRyBO1hOwy6N1gPQMklLa_SlOsQMmCb8JxJiMW-5n4o1@thread.tacv2', 'teamId': UUID('22273e97-465d-4728-8b9f-881436d93ebc')}, 'etag': '1621973380031', 'chatId': '19:lRyBO1hOwy6N1gPQMklLa_SlOsQMmCb8JxJiMW-5n4o1@thread.tacv2'}, id='1621973380031', odata_type='microsoft.graph.chatMessage'), result_template_id=None, summary='...Hey Adele Vance and everyone else. Check out this file in a SharePoint Site that I am sharing HandlingExternalTypeAzureFunctionJSON1.txt<https://fabster.sharepoint.com/:t:/s/TAPProgram/ESMe2aDY9e9NkZZwkQqtFEoBqJgB6PWn-BBer9bIzecqtg?e=Gag258>'), SearchHit(additional_data={}, content_source=None, hit_id='AAMkADYwODIzNzY1LTRlNjUtNDkyMC1iM2FkLWY3NzcxODNlY2M5NwBGAAAAAAD35k5bVrdzSa127xm9vvzABwA/N3yVTQ3oQakJzGxgvLaKAAAAAAExAAA/N3yVTQ3oQakJzGxgvLaKAAAu9OyQAAA=', is_collapsed=None, odata_type=None, rank=10, resource=Entity(additional_data={'createdDateTime': DateTime(2021, 2, 22, 18, 13, 42, tzinfo=Timezone('UTC')), 'lastModifiedDateTime': DateTime(2021, 3, 24, 12, 53, 38, tzinfo=Timezone('UTC')), 'importance': 'normal', 'webLink': 'https://teams.microsoft.com/l/message/19%3a4ef30bf9922447c8ab970558d7e10896%40thread.tacv2/1614017621697', 'from': {'emailAddress': {'name': 'Adele Vance', 'address': 'AdeleV@fabster.onmicrosoft.com'}}, 'channelIdentity': {'channelId': '19:4ef30bf9922447c8ab970558d7e10896@thread.tacv2', 'teamId': UUID('d685a892-7e89-4a78-be7e-b0b0e41f85aa')}, 'etag': '1614017621697', 'chatId': '19:4ef30bf9922447c8ab970558d7e10896@thread.tacv2'}, id='1614017621697', odata_type='microsoft.graph.chatMessage'), result_template_id=None, summary='hello everyone'), SearchHit(additional_data={}, content_source=None, hit_id='AAMkADQ1ZjQzNTE5LTRjNGItNDI1ZC1hNWY1LWNmZTEzNjBjMGY3MgBGAAAAAABOx59DGiAZSr+zT0iwHwCmBwBHt4GXIWLpTaSZQyhC1of4AAAAAIIEAABHt4GXIWLpTaSZQyhC1of4AAABn9t2AAA=', is_collapsed=None, odata_type=None, rank=11, resource=Entity(additional_data={'createdDateTime': DateTime(2020, 12, 18, 14, 14, 1, tzinfo=Timezone('UTC')), 'lastModifiedDateTime': DateTime(2021, 3, 23, 23, 7, 57, tzinfo=Timezone('UTC')), 'subject': '', 'importance': 'normal', 'webLink': 'https://teams.microsoft.com/l/message/19%3aeb14fa25-43e5-45f8-973d-7ea79a346db6_fa2480cc-103b-4b53-8ba6-da9720c81c2d%40unq.gbl.spaces/1608300840455?context=%7B%22contextType%22:%22chat%22%7D', 'from': {'emailAddress': {'name': 'Diego Siciliani', 'address': 'DiegoS@fabster.onmicrosoft.com'}}, 'channelIdentity': {'channelId': '19:eb14fa25-43e5-45f8-973d-7ea79a346db6_fa2480cc-103b-4b53-8ba6-da9720c81c2d@unq.gbl.spaces'}, 'etag': '1608300840455', 'chatId': '19:eb14fa25-43e5-45f8-973d-7ea79a346db6_fa2480cc-103b-4b53-8ba6-da9720c81c2d@unq.gbl.spaces'}, id='1608300840455', odata_type='microsoft.graph.chatMessage'), result_template_id=None, summary='hi adele good morning. now my presence is open and available when you make a graph call')], more_results_available=False, odata_type=None, total=11)], odata_type=None, query_alteration_response=None, result_templates=None, search_terms=['adele'])]"
      ]
     },
     "execution_count": 54,
     "metadata": {},
     "output_type": "execute_result"
    }
   ],
   "source": [
    "chat_data"
   ]
  },
  {
   "cell_type": "code",
   "execution_count": 90,
   "id": "4411ed71-9a30-4164-99ee-84caa7e7cd74",
   "metadata": {},
   "outputs": [
    {
     "name": "stdout",
     "output_type": "stream",
     "text": [
      "('19:28031fbd-75af-4b61-8afd-347aac675901_eb14fa25-43e5-45f8-973d-7ea79a346db6@unq.gbl.spaces', 'hmmm which one? the one closer to the book store by Rokin near the Yo boba store?')\n",
      "('19:28031fbd-75af-4b61-8afd-347aac675901_eb14fa25-43e5-45f8-973d-7ea79a346db6@unq.gbl.spaces', 'hey Im in Amsterdam downtown lets get some Fries from that spot near Amsterdam Central next to the Uni Clo store')\n",
      "('19:28031fbd-75af-4b61-8afd-347aac675901_eb14fa25-43e5-45f8-973d-7ea79a346db6@unq.gbl.spaces', 'I need to fix Kaleb Williams bicycle today What tools should i bring based on this document here https://fabster-my.sharepoint.com/:w:/g/personal/fabian_fabster_onmicrosoft_com/EfYFSS6IwSZNnyCyYPcK4IkBRiFeuXhA3cHn74Ha6Ag_Ow https://fabster-my.sharepoint.c')\n",
      "('19:28031fbd-75af-4b61-8afd-347aac675901_eb14fa25-43e5-45f8-973d-7ea79a346db6@unq.gbl.spaces', 'how are you...')\n",
      "('19:28031fbd-75af-4b61-8afd-347aac675901_eb14fa25-43e5-45f8-973d-7ea79a346db6@unq.gbl.spaces', 'hi adele long time')\n",
      "('19:28031fbd-75af-4b61-8afd-347aac675901_eb14fa25-43e5-45f8-973d-7ea79a346db6@unq.gbl.spaces', 'u there...')\n",
      "('19:28031fbd-75af-4b61-8afd-347aac675901_eb14fa25-43e5-45f8-973d-7ea79a346db6@unq.gbl.spaces', 'cool well i am going to test now on Postman...')\n",
      "('19:28031fbd-75af-4b61-8afd-347aac675901_eb14fa25-43e5-45f8-973d-7ea79a346db6@unq.gbl.spaces', 'i want to have a chat before my status change...')\n",
      "('19:lRyBO1hOwy6N1gPQMklLa_SlOsQMmCb8JxJiMW-5n4o1@thread.tacv2', '...Hey Adele Vance and everyone else. Check out this file in a SharePoint Site that I am sharing HandlingExternalTypeAzureFunctionJSON1.txt<https://fabster.sharepoint.com/:t:/s/TAPProgram/ESMe2aDY9e9NkZZwkQqtFEoBqJgB6PWn-BBer9bIzecqtg?e=Gag258>')\n",
      "('19:4ef30bf9922447c8ab970558d7e10896@thread.tacv2', 'hello everyone')\n",
      "('19:eb14fa25-43e5-45f8-973d-7ea79a346db6_fa2480cc-103b-4b53-8ba6-da9720c81c2d@unq.gbl.spaces', 'hi adele good morning. now my presence is open and available when you make a graph call')\n"
     ]
    }
   ],
   "source": [
    "search_response = chat_data[0]  # Assuming there's only one SearchResponse object in the list\n",
    "\n",
    "# Initialize an empty list to store summaries and chat IDs\n",
    "summaries_and_chat_ids = []\n",
    "\n",
    "# Iterate over hits_containers in the SearchResponse object\n",
    "for hits_container in search_response.hits_containers:\n",
    "    # Iterate over each hit in the container\n",
    "    for hit in hits_container.hits:\n",
    "        # Extract the summary\n",
    "        summary = hit.summary\n",
    "\n",
    "        # Extract the chatId from additional_data\n",
    "        chat_id = hit.resource.additional_data.get('chatId', 'Unknown')\n",
    "\n",
    "        # Append the chatId and summary as a tuple to the list\n",
    "        summaries_and_chat_ids.append((chat_id, summary))\n",
    "\n",
    "# Now 'summaries_and_chat_ids' contains the chatId and summary of each search hit\n",
    "for item in summaries_and_chat_ids:\n",
    "    print(item)"
   ]
  },
  {
   "cell_type": "code",
   "execution_count": null,
   "id": "2bab141f-ea50-4d73-9161-05ebd25b1d0d",
   "metadata": {},
   "outputs": [],
   "source": [
    "print(chat_summary_and_ids)"
   ]
  },
  {
   "cell_type": "code",
   "execution_count": 76,
   "id": "c2081c40-547e-48d5-80ee-15eafa24b878",
   "metadata": {},
   "outputs": [
    {
     "data": {
      "text/plain": [
       "\"\\n# Now 'summary_and_from' contains the summary and from information of each search hit\\nfor item in chat_summary_and_from:\\n    print(item)\\n\""
      ]
     },
     "execution_count": 76,
     "metadata": {},
     "output_type": "execute_result"
    }
   ],
   "source": [
    "try:\n",
    "    chat_search_response = chat_data[0]  # Assuming there's only one SearchResponse object in the list\n",
    "\n",
    "    # Initialize an empty list to store summaries and from information\n",
    "    chat_summary_and_from = []\n",
    "\n",
    "    # Iterate over hits_containers in the SearchResponse object\n",
    "    for chat_hits_container in chat_search_response.hits_containers:\n",
    "        # Iterate over each hit in the container\n",
    "        for chat_hit in chat_hits_container.hits:\n",
    "            # Extract the summary\n",
    "            chat_summary = chat_hit.summary\n",
    "\n",
    "            # Extract the 'from' information from additional_data\n",
    "            from_data = chat_hit.resource.additional_data.get('from', {}).get('emailAddress', {})\n",
    "            from_name = from_data.get('name', 'Unknown')\n",
    "            from_email = from_data.get('address', 'Unknown')\n",
    "\n",
    "            # Append the summary and 'from' information as a tuple to the list\n",
    "            chat_summary_and_from.append((chat_summary, from_name, from_email))\n",
    "\n",
    "except Exception as e:\n",
    "    print(f\"An error occurred: {e}\")\n",
    "    # Optionally, you can exit the script or function here\n",
    "    # exit()\n",
    "\n",
    "'''\n",
    "# Now 'summary_and_from' contains the summary and from information of each search hit\n",
    "for item in chat_summary_and_from:\n",
    "    print(item)\n",
    "'''"
   ]
  },
  {
   "cell_type": "code",
   "execution_count": 77,
   "id": "5adea45b-3f47-41db-984c-217480880512",
   "metadata": {},
   "outputs": [
    {
     "name": "stdout",
     "output_type": "stream",
     "text": [
      "[('hmmm which one? the one closer to the book store by Rokin near the Yo boba store?', 'Adele Vance', 'AdeleV@fabster.onmicrosoft.com'), ('hey Im in Amsterdam downtown lets get some Fries from that spot near Amsterdam Central next to the Uni Clo store', 'Fabian Williams', 'fabian@fabster.onmicrosoft.com'), ('I need to fix Kaleb Williams bicycle today What tools should i bring based on this document here https://fabster-my.sharepoint.com/:w:/g/personal/fabian_fabster_onmicrosoft_com/EfYFSS6IwSZNnyCyYPcK4IkBRiFeuXhA3cHn74Ha6Ag_Ow https://fabster-my.sharepoint.c', 'Fabian Williams', 'fabian@fabster.onmicrosoft.com'), ('how are you...', 'Fabian Williams', 'fabian@fabster.onmicrosoft.com'), ('hi adele long time', 'Fabian Williams', 'fabian@fabster.onmicrosoft.com'), ('u there...', 'Fabian Williams', 'fabian@fabster.onmicrosoft.com'), ('cool well i am going to test now on Postman...', 'Fabian Williams', 'fabian@fabster.onmicrosoft.com'), ('i want to have a chat before my status change...', 'Adele Vance', 'AdeleV@fabster.onmicrosoft.com'), ('...Hey Adele Vance and everyone else. Check out this file in a SharePoint Site that I am sharing HandlingExternalTypeAzureFunctionJSON1.txt<https://fabster.sharepoint.com/:t:/s/TAPProgram/ESMe2aDY9e9NkZZwkQqtFEoBqJgB6PWn-BBer9bIzecqtg?e=Gag258>', 'Fabian Williams', 'fabian@fabster.onmicrosoft.com'), ('hello everyone', 'Adele Vance', 'AdeleV@fabster.onmicrosoft.com'), ('hi adele good morning. now my presence is open and available when you make a graph call', 'Diego Siciliani', 'DiegoS@fabster.onmicrosoft.com')]\n"
     ]
    }
   ],
   "source": [
    "print(chat_summary_and_from)"
   ]
  },
  {
   "cell_type": "markdown",
   "id": "9ce4e601-69a4-4875-93fc-91a1debbbadc",
   "metadata": {},
   "source": [
    "## Work on Drives"
   ]
  },
  {
   "cell_type": "code",
   "execution_count": null,
   "id": "abf822fd-c39e-4a24-b090-d06896c664b8",
   "metadata": {},
   "outputs": [],
   "source": []
  },
  {
   "cell_type": "code",
   "execution_count": 79,
   "id": "9cf195b7-2e7f-4862-b363-85db4e6f1974",
   "metadata": {},
   "outputs": [],
   "source": [
    "request_body = QueryPostRequestBody(\n",
    "\trequests = [\n",
    "\t\tSearchRequest(\n",
    "\t\t\tentity_types = [\n",
    "\t\t\t\tEntityType.DriveItem\n",
    "\t\t\t],\n",
    "\t\t\tquery = SearchQuery(\n",
    "\t\t\t\tquery_string = \"Adele\",\n",
    "\t\t\t),\n",
    "\t\t),\n",
    "\t],\n",
    ")\n",
    "\n",
    "drive_result = await client.search.query.post(request_body)"
   ]
  },
  {
   "cell_type": "code",
   "execution_count": 80,
   "id": "c37d9da2-9668-4257-9efe-10cb4d9ef77f",
   "metadata": {},
   "outputs": [],
   "source": [
    "drive_data = drive_result.value"
   ]
  },
  {
   "cell_type": "code",
   "execution_count": 81,
   "id": "8dfba2c2-e11b-435c-9f66-8b3af4a2bcb4",
   "metadata": {},
   "outputs": [],
   "source": [
    "try:\n",
    "    drive_search_response = drive_data[0]  # Assuming there's only one SearchResponse object in the list\n",
    "\n",
    "    # Initialize an empty list to store summaries and from information\n",
    "    drive_summary_and_from = []\n",
    "\n",
    "    if drive_search_response:\n",
    "        # Iterate over hits_containers in the SearchResponse object\n",
    "        for drive_hits_container in drive_search_response.hits_containers:\n",
    "            # Iterate over each hit in the container\n",
    "            for drive_hit in drive_hits_container.hits:\n",
    "                # Extract the summary\n",
    "                drive_summary = drive_hit.summary\n",
    "\n",
    "                # Extract the 'from' information from additional_data\n",
    "                from_data = drive_hit.resource.additional_data.get('from', {}).get('emailAddress', {})\n",
    "                from_name = from_data.get('name', 'Unknown')\n",
    "                from_email = from_data.get('address', 'Unknown')\n",
    "\n",
    "                # Append the summary and 'from' information as a tuple to the list\n",
    "                drive_summary_and_from.append((drive_summary, from_name, from_email))\n",
    "except Exception as e:\n",
    "    print(f\"An error occurred: {e}\")"
   ]
  },
  {
   "cell_type": "code",
   "execution_count": 82,
   "id": "d5aa2ab9-2669-49c7-b6b6-e3946e06d538",
   "metadata": {},
   "outputs": [
    {
     "name": "stdout",
     "output_type": "stream",
     "text": [
      "[('', 'Unknown', 'Unknown'), ('Project Roundtree Status Report Everything is going fine. Customer paid a ton of money<ddd/>', 'Unknown', 'Unknown'), ('<ddd/><c0>Adele</c0> Vance 1 856 0 {FABE1924<ddd/>', 'Unknown', 'Unknown'), ('<ddd/><c0>Adele</c0> Vance 1 198 0 {5CBA3280<ddd/>', 'Unknown', 'Unknown'), (' dynamic externalitem = new JObject(); externalitem.acl = new JArray{ new JObject{{\"type\", \"user\" }, {\"type\", \"bac58813-8954-4633-9503-cc51c0ab34c9\"}, { \"accessType\", \"grant<ddd/>', 'Unknown', 'Unknown'), ('<ddd/><c0>Adele</c0> Vance 1 0 {D5FE893F-94AC<ddd/>', 'Unknown', 'Unknown')]\n"
     ]
    }
   ],
   "source": [
    "print(drive_summary_and_from)"
   ]
  },
  {
   "cell_type": "markdown",
   "id": "67855070-c562-4f8e-837a-214904ff14e2",
   "metadata": {},
   "source": [
    "## Work on Mail"
   ]
  },
  {
   "cell_type": "code",
   "execution_count": 85,
   "id": "d0d1fa17-ee01-4347-9363-251cec125b35",
   "metadata": {},
   "outputs": [],
   "source": [
    "request_body = QueryPostRequestBody(\n",
    "\trequests = [\n",
    "\t\tSearchRequest(\n",
    "\t\t\tentity_types = [\n",
    "\t\t\t\tEntityType.Message\n",
    "\t\t\t],\n",
    "\t\t\tquery = SearchQuery(\n",
    "\t\t\t\tquery_string = \"Adele\",\n",
    "\t\t\t),\n",
    "\t\t),\n",
    "\t],\n",
    ")\n",
    "\n",
    "mail_result = await client.search.query.post(request_body)"
   ]
  },
  {
   "cell_type": "code",
   "execution_count": 86,
   "id": "f674c27b-fe6e-4c6b-9bd3-19ac88bfedad",
   "metadata": {},
   "outputs": [],
   "source": [
    "mail_data = mail_result.value"
   ]
  },
  {
   "cell_type": "code",
   "execution_count": 87,
   "id": "6fc38502-2c74-421a-987e-fd789457831c",
   "metadata": {},
   "outputs": [],
   "source": [
    "try:\n",
    "    mail_search_response = mail_data[0]  # Assuming there's only one SearchResponse object in the list\n",
    "\n",
    "    # Initialize an empty list to store summaries and from information\n",
    "    mail_summary_and_from = []\n",
    "\n",
    "    if mail_search_response:\n",
    "        # Iterate over hits_containers in the SearchResponse object\n",
    "        for mail_hits_container in mail_search_response.hits_containers:\n",
    "            # Iterate over each hit in the container\n",
    "            for mail_hit in mail_hits_container.hits:\n",
    "                # Extract the summary\n",
    "                mail_summary = mail_hit.summary\n",
    "\n",
    "                # Extract the 'from' information from additional_data\n",
    "                from_data = mail_hit.resource.additional_data.get('from', {}).get('emailAddress', {})\n",
    "                from_name = from_data.get('name', 'Unknown')\n",
    "                from_email = from_data.get('address', 'Unknown')\n",
    "\n",
    "                # Append the summary and 'from' information as a tuple to the list\n",
    "                mail_summary_and_from.append((mail_summary, from_name, from_email))\n",
    "except Exception as e:\n",
    "    print(f\"An error occurred: {e}\")"
   ]
  },
  {
   "cell_type": "code",
   "execution_count": 88,
   "id": "7b7b9ab6-acd8-411c-b831-337758494522",
   "metadata": {},
   "outputs": [
    {
     "name": "stdout",
     "output_type": "stream",
     "text": [
      "[('Private to you   Hi, <c0>Adele</c0> Vance,  Discover trends in your work habits  An in-depth look at your work patterns in the last four weeks  Explore your insights  27 days without quiet...', 'Unknown', 'Unknown'), ('Private to you   Hi, <c0>Adele</c0> Vance,  Discover trends in your work habits  An in-depth look at your work patterns in the last four weeks  Work smarter with Microsoft Viva Insights  ...', 'Unknown', 'Unknown'), (\"Fabian Williams shared this with you 7 days ago. If you missed it, here's a quick reminder  This link will work for anyone.  TeachKalebHowToRideABicycle  Open   Microsoft respects...\", 'Unknown', 'Unknown'), (\"Fabian Williams shared this with you 7 days ago. If you missed it, here's a quick reminder  This link will work for anyone.  MariamAssignment2DraftDayCare  Open   Microsoft respects...\", 'Unknown', 'Unknown'), ('I need to fix Kaleb Williams bicycle today What tools should i bring based on this document here https://fabster-my.sharepoint.com/:w:/g/personal/fabian_fabster_onmicrosoft_com/', 'Unknown', 'Unknown'), ('Work on this document so fabian can have it when he sees Kaleb about his bicycle in 2 hours ________________________________________________________________________________', 'Unknown', 'Unknown'), ('Fabian Williams shared a file with you  Review this Kaleb Williams document for me on how to teach Kaleb how to ride his new bicycle   TeachKalebHowToRideABicycle   This link will...', 'Unknown', 'Unknown'), ('Why are we paying so much? When can we stop the bleeding?   Give me a weekly status moving forward on projected cost please?  Thanks, Fabian...', 'Unknown', 'Unknown'), ('Looks like Project Roundtree is costing us $29 to operate. When can we shut this POC down. Did we prove it out yet?  From: Microsoft <microsoft-noreply@microsoft.com> Sent:', 'Unknown', 'Unknown'), (\"Fabian Williams shared a file with you   Here's the document that Fabian Williams shared with you.   MariamAssignment2DraftDayCare  16 min to read this.   This link will work for...\", 'Unknown', 'Unknown'), ('', 'Unknown', 'Unknown'), ('<c0>Adele</c0> Vance shared a file with you  For our meeting on project Roundtree here is the latest status report   ProjectRoundtreeStatusReport   This link will work for anyone.  Open   ...', 'Unknown', 'Unknown'), ('---------- Forwarded message --------- From: Atholton High School <robert_motley@hcpss.org<mailto:robert_motley@hcpss.org>> Date: Sun, Mar 26, 2023 at 4:28\\u202fPM Subject: Raider...', 'Unknown', 'Unknown'), ('Hi <c0>Adele</c0>. You have a task due. [Calendar Late] You have a late task Bravo Limited <https://tasks.office.com/fabster.onmicrosoft.com/en-US/Home/PlanViews/...', 'Unknown', 'Unknown'), ('Hi <c0>Adele</c0>. You have a task due. [Calendar Late] You have a late task Bravo Limited <https://tasks.office.com/fabster.onmicrosoft.com/en-US/Home/PlanViews/...', 'Unknown', 'Unknown'), ('Hi <c0>Adele</c0>. You have a task due. [Calendar Late] You have a task due today Bravo Limited <https://tasks.office.com/fabster.onmicrosoft.com/en-US/Home/PlanViews/...', 'Unknown', 'Unknown'), ('', 'Unknown', 'Unknown'), ('', 'Unknown', 'Unknown'), ('Hi <c0>Adele</c0>. You have a task due. [Calendar Late] You have an upcoming task Bravo Limited <https://tasks.office.com/fabster.onmicrosoft.com/en-US/Home/PlanViews/...', 'Unknown', 'Unknown'), ('Hi <c0>Adele</c0>. You have a task due. [Calendar Late] You have an upcoming task Bravo Limited <https://tasks.office.com/fabster.onmicrosoft.com/en-US/Home/PlanViews/...', 'Unknown', 'Unknown'), ('yes...', 'Unknown', 'Unknown'), ('', 'Unknown', 'Unknown'), ('Fabian assigned a task to you ͏\\u200c ͏\\u200c ͏\\u200c ͏\\u200c ͏\\u200c ͏\\u200c ͏\\u200c ͏\\u200c ͏\\u200c ͏\\u200c ͏\\u200c ͏\\u200c ͏\\u200c ͏\\u200c ͏\\u200c ͏\\u200c ͏\\u200c ͏\\u200c ͏\\u200c ͏\\u200c ͏\\u200c ͏\\u200c ͏\\u200c ͏\\u200c ͏\\u200c ͏\\u200c ͏\\u200c ͏\\u200c ͏\\u200c ͏\\u200c ͏\\u200c ͏\\u200c ͏\\u200c ͏\\u200c ͏\\u200c ͏\\u200c ͏\\u200c ͏\\u200c ͏\\u200c ͏\\u200c ͏\\u200c ͏\\u200c ͏\\u200c ͏\\u200c ͏\\u200c ͏\\u200c ͏\\u200c ͏\\u200c ͏\\u200c ͏\\u200c ͏\\u200c ͏\\u200c ͏\\u200c ͏\\u200c ͏\\u200c ͏\\u200c ͏\\u200c ͏\\u200c ͏\\u200c ͏\\u200c ͏\\u200c ͏\\u200c ͏\\u200c ͏\\u200c ͏\\u200c ͏\\u200c ͏\\u200c ͏\\u200c ͏\\u200c ͏\\u200c ͏\\u200c ͏\\u200c ͏\\u200c ͏\\u200c ͏\\u200c.', 'Unknown', 'Unknown'), ('Fabian assigned a task to you ͏\\u200c ͏\\u200c ͏\\u200c ͏\\u200c ͏\\u200c ͏\\u200c ͏\\u200c ͏\\u200c ͏\\u200c ͏\\u200c ͏\\u200c ͏\\u200c ͏\\u200c ͏\\u200c ͏\\u200c ͏\\u200c ͏\\u200c ͏\\u200c ͏\\u200c ͏\\u200c ͏\\u200c ͏\\u200c ͏\\u200c ͏\\u200c ͏\\u200c ͏\\u200c ͏\\u200c ͏\\u200c ͏\\u200c ͏\\u200c ͏\\u200c ͏\\u200c ͏\\u200c ͏\\u200c ͏\\u200c ͏\\u200c ͏\\u200c ͏\\u200c ͏\\u200c ͏\\u200c ͏\\u200c ͏\\u200c ͏\\u200c ͏\\u200c ͏\\u200c ͏\\u200c ͏\\u200c ͏\\u200c ͏\\u200c ͏\\u200c ͏\\u200c ͏\\u200c ͏\\u200c ͏\\u200c ͏\\u200c ͏\\u200c ͏\\u200c ͏\\u200c ͏\\u200c ͏\\u200c ͏\\u200c ͏\\u200c ͏\\u200c ͏\\u200c ͏\\u200c ͏\\u200c ͏\\u200c ͏\\u200c ͏\\u200c ͏\\u200c ͏\\u200c ͏\\u200c ͏\\u200c ͏\\u200c ͏\\u200c.', 'Unknown', 'Unknown'), ('Hey lets meet ________________________________________________________________________________ Microsoft Teams meeting Join on your computer, mobile app or room device Click here...', 'Unknown', 'Unknown')]\n"
     ]
    }
   ],
   "source": [
    "print(mail_summary_and_from)"
   ]
  },
  {
   "cell_type": "code",
   "execution_count": null,
   "id": "7c0fbd00-44ba-4d88-957e-4cb191685c72",
   "metadata": {},
   "outputs": [],
   "source": []
  }
 ],
 "metadata": {
  "kernelspec": {
   "display_name": "espc23",
   "language": "python",
   "name": "espc23"
  },
  "language_info": {
   "codemirror_mode": {
    "name": "ipython",
    "version": 3
   },
   "file_extension": ".py",
   "mimetype": "text/x-python",
   "name": "python",
   "nbconvert_exporter": "python",
   "pygments_lexer": "ipython3",
   "version": "3.11.5"
  }
 },
 "nbformat": 4,
 "nbformat_minor": 5
}
