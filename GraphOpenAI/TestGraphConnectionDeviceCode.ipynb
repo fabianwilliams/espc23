{
 "cells": [
  {
   "cell_type": "code",
   "execution_count": null,
   "id": "e84222f7-a1a4-4318-8f48-c6a90d159aa6",
   "metadata": {},
   "outputs": [],
   "source": [
    "#!pip install msgraph-sdk==1.0.0a16"
   ]
  },
  {
   "cell_type": "code",
   "execution_count": null,
   "id": "884a610c-353b-478d-8731-f30ee1886864",
   "metadata": {},
   "outputs": [],
   "source": [
    "#!pip install msgraph-core==1.0.0a4"
   ]
  },
  {
   "cell_type": "code",
   "execution_count": 4,
   "id": "9939cb09",
   "metadata": {},
   "outputs": [],
   "source": [
    "from dotenv import load_dotenv \n",
    "from azure.identity import DeviceCodeCredential\n",
    "from msgraph import GraphServiceClient\n",
    "import os\n",
    "import asyncio "
   ]
  },
  {
   "cell_type": "code",
   "execution_count": null,
   "id": "062da045-9a25-482d-979f-1c7a51f890da",
   "metadata": {},
   "outputs": [],
   "source": []
  },
  {
   "cell_type": "code",
   "execution_count": 5,
   "id": "2fc30b76",
   "metadata": {},
   "outputs": [
    {
     "data": {
      "text/plain": [
       "True"
      ]
     },
     "execution_count": 5,
     "metadata": {},
     "output_type": "execute_result"
    }
   ],
   "source": [
    "load_dotenv()"
   ]
  },
  {
   "cell_type": "code",
   "execution_count": 6,
   "id": "191c4b8c",
   "metadata": {},
   "outputs": [],
   "source": [
    "TENANT_ID = os.getenv(\"TENANT_ID\")"
   ]
  },
  {
   "cell_type": "code",
   "execution_count": 7,
   "id": "39e9b30f",
   "metadata": {},
   "outputs": [],
   "source": [
    "CLIENT_ID = os.getenv(\"CLIENT_ID\")"
   ]
  },
  {
   "cell_type": "code",
   "execution_count": 8,
   "id": "232c7384-3c6a-4d70-a261-63c2cbe766a3",
   "metadata": {},
   "outputs": [],
   "source": [
    "graphUserScopes = os.getenv(\"graphUserScopes\").split(' ')"
   ]
  },
  {
   "cell_type": "code",
   "execution_count": 9,
   "id": "0761080e-8ae2-4bce-a2bd-48d1232ad72f",
   "metadata": {},
   "outputs": [
    {
     "name": "stdout",
     "output_type": "stream",
     "text": [
      "48943d42-a075-43c5-8d93-3f2da879c1be\n"
     ]
    }
   ],
   "source": [
    "print(CLIENT_ID)"
   ]
  },
  {
   "cell_type": "code",
   "execution_count": 10,
   "id": "7714c8f0-acff-4355-bdc8-3b2dfb5227c8",
   "metadata": {},
   "outputs": [],
   "source": [
    "fabs = 'fabian@fabster.onmicrosoft.com'"
   ]
  },
  {
   "cell_type": "code",
   "execution_count": 11,
   "id": "17e20298-bf85-45bd-b0cf-d3862b779d89",
   "metadata": {},
   "outputs": [],
   "source": [
    "adele = 'adelev@fabster.onmicrosoft.com'"
   ]
  },
  {
   "cell_type": "code",
   "execution_count": 12,
   "id": "3d304a16-7dbc-4b0d-9b06-df920af112b4",
   "metadata": {},
   "outputs": [],
   "source": [
    "## ensure that you have turned on DefaultClientType to Yes in the App Registration"
   ]
  },
  {
   "cell_type": "code",
   "execution_count": 13,
   "id": "3a96b477-9d74-461c-91ad-dc77d7e5dd61",
   "metadata": {},
   "outputs": [
    {
     "name": "stdout",
     "output_type": "stream",
     "text": [
      "['User.Read', 'Mail.Read', 'Mail.Send']\n"
     ]
    }
   ],
   "source": [
    "print(graphUserScopes)"
   ]
  },
  {
   "cell_type": "code",
   "execution_count": 14,
   "id": "87d1c165-7ec9-4cfe-a8eb-44940a3a81a5",
   "metadata": {},
   "outputs": [],
   "source": [
    "credential = DeviceCodeCredential(client_id=CLIENT_ID, tenant_id=TENANT_ID) \n",
    "scopes = graphUserScopes\n",
    "client = GraphServiceClient(credentials=credential, scopes=scopes)"
   ]
  },
  {
   "cell_type": "code",
   "execution_count": 16,
   "id": "e4be0a9d-ab67-47ce-ba1c-899e991e85b4",
   "metadata": {},
   "outputs": [],
   "source": [
    "result = await client.me.get()"
   ]
  },
  {
   "cell_type": "code",
   "execution_count": 17,
   "id": "64fdaf30-0b99-45a1-887c-96a80cf94b95",
   "metadata": {},
   "outputs": [
    {
     "name": "stdout",
     "output_type": "stream",
     "text": [
      "Adele Vance\n"
     ]
    }
   ],
   "source": [
    "print(result.display_name)"
   ]
  },
  {
   "cell_type": "code",
   "execution_count": 18,
   "id": "33d49999-8580-4557-9b91-216ad6950b66",
   "metadata": {},
   "outputs": [],
   "source": [
    "async def get_user(currUser):\n",
    "    result = await client.users.by_user_id(currUser).get()\n",
    "    if result:\n",
    "        print(result.display_name)"
   ]
  },
  {
   "cell_type": "code",
   "execution_count": 19,
   "id": "6b10058a-9894-4e91-989a-bb34b5a9a2ec",
   "metadata": {},
   "outputs": [
    {
     "name": "stdout",
     "output_type": "stream",
     "text": [
      "Adele Vance\n"
     ]
    }
   ],
   "source": [
    "await (get_user('adelev@fabster.onmicrosoft.com'))"
   ]
  },
  {
   "cell_type": "code",
   "execution_count": 29,
   "id": "c0df725c-3dd8-4988-8327-ea0cc2f6aadf",
   "metadata": {},
   "outputs": [],
   "source": [
    "async def get_user_messages(currUser):\n",
    "    messages = await (client.users.by_user_id(currUser).messages.get())\n",
    "    if messages and messages.value:\n",
    "        for msg in messages.value:\n",
    "            print(msg.subject, msg.id, msg.from_, msg.body_preview)"
   ]
  },
  {
   "cell_type": "code",
   "execution_count": 30,
   "id": "740b105a-2091-4310-9c6d-e3373a5a4a01",
   "metadata": {},
   "outputs": [
    {
     "name": "stdout",
     "output_type": "stream",
     "text": [
      "Your digest email AQMkADQ1ZjQzNTE5LTRjNGItNDI1ZC1hNWY1LWNmZTEzNjBjMGY3MgBGAAADTsefQxogGUq-s09IsB8ApgcAR7eBlyFi6U2kmUMoQtaH_AAAAgEMAAAAR7eBlyFi6U2kmUMoQtaH_AACjhcA_wAAAA== Recipient(additional_data={}, email_address=EmailAddress(additional_data={}, address='viva-noreply@microsoft.com', name='Microsoft Viva', odata_type=None), odata_type=None) Private to you\n",
      "\n",
      "\n",
      "\n",
      "Hi, Adele Vance,\n",
      "Discover trends in your work habits\n",
      "An in-depth look at your work patterns in the last four weeks\n",
      "\n",
      "\n",
      "Explore your insights\n",
      "\n",
      "\n",
      "27 days without quiet hours interruptions\n",
      "Days with no significant collaboration ou\n",
      "Your digest email AQMkADQ1ZjQzNTE5LTRjNGItNDI1ZC1hNWY1LWNmZTEzNjBjMGY3MgBGAAADTsefQxogGUq-s09IsB8ApgcAR7eBlyFi6U2kmUMoQtaH_AAAAgEMAAAAR7eBlyFi6U2kmUMoQtaH_AAChJourAAAAA== Recipient(additional_data={}, email_address=EmailAddress(additional_data={}, address='viva-noreply@microsoft.com', name='Microsoft Viva', odata_type=None), odata_type=None) Private to you\n",
      "\n",
      "\n",
      "\n",
      "Hi, Adele Vance,\n",
      "Discover trends in your work habits\n",
      "An in-depth look at your work patterns in the last four weeks\n",
      "\n",
      "\n",
      "Work smarter with Microsoft Viva Insights\n",
      "Explore insights on your work patterns in areas including focus, wel\n",
      "Reminder: \"TeachKalebHowToRideABicycle\" has been shared with you AQMkADQ1ZjQzNTE5LTRjNGItNDI1ZC1hNWY1LWNmZTEzNjBjMGY3MgBGAAADTsefQxogGUq-s09IsB8ApgcAR7eBlyFi6U2kmUMoQtaH_AAAAgEMAAAAR7eBlyFi6U2kmUMoQtaH_AACg2rgYAAAAA== Recipient(additional_data={}, email_address=EmailAddress(additional_data={}, address='no-reply@sharepointonline.com', name='SharePoint Online', odata_type=None), odata_type=None) Fabian Williams shared this with you 7 days ago. If you missed it, here's a quick reminder\n",
      "        This link will work for anyone.\n",
      "\n",
      "TeachKalebHowToRideABicycle\n",
      "\n",
      "Open\n",
      "\n",
      "\n",
      "Microsoft respects your privacy. To learn more, please read our Privacy Stateme\n",
      "Reminder: \"MariamAssignment2DraftDayCare\" has been shared with you AQMkADQ1ZjQzNTE5LTRjNGItNDI1ZC1hNWY1LWNmZTEzNjBjMGY3MgBGAAADTsefQxogGUq-s09IsB8ApgcAR7eBlyFi6U2kmUMoQtaH_AAAAgEMAAAAR7eBlyFi6U2kmUMoQtaH_AACgVKCjQAAAA== Recipient(additional_data={}, email_address=EmailAddress(additional_data={}, address='no-reply@sharepointonline.com', name='SharePoint Online', odata_type=None), odata_type=None) Fabian Williams shared this with you 7 days ago. If you missed it, here's a quick reminder\n",
      "        This link will work for anyone.\n",
      "\n",
      "MariamAssignment2DraftDayCare\n",
      "\n",
      "Open\n",
      "\n",
      "\n",
      "Microsoft respects your privacy. To learn more, please read our Privacy State\n",
      "Fabian sent a message AQMkADQ1ZjQzNTE5LTRjNGItNDI1ZC1hNWY1LWNmZTEzNjBjMGY3MgBGAAADTsefQxogGUq-s09IsB8ApgcAR7eBlyFi6U2kmUMoQtaH_AAAAgEMAAAAR7eBlyFi6U2kmUMoQtaH_AACftE6bgAAAA== Recipient(additional_data={}, email_address=EmailAddress(additional_data={}, address='noreply@email.teams.microsoft.com', name='Fabian Williams in Teams', odata_type=None), odata_type=None) I need to fix Kaleb Williams bicycle today What tools should i bring based on this document here https://fabster-my.sharepoint.com/:w:/g/personal/fabian_fabster_onmicrosoft_com/EfYFSS6IwSZNnyCyYPcK4IkBRiFeuXhA3cHn74Ha6Ag_Ow... ‌ ‌ ‌ ‌ ‌ ‌ ‌ ‌ ‌ ‌ ‌ ‌ ‌  ‌\n",
      "Get documents to Fabian on Kaleb Bicycle  AQMkADQ1ZjQzNTE5LTRjNGItNDI1ZC1hNWY1LWNmZTEzNjBjMGY3MgBGAAADTsefQxogGUq-s09IsB8ApgcAR7eBlyFi6U2kmUMoQtaH_AAAAgEMAAAAR7eBlyFi6U2kmUMoQtaH_AACftE6bQAAAA== Recipient(additional_data={}, email_address=EmailAddress(additional_data={}, address='fabian@fabster.onmicrosoft.com', name='Fabian Williams', odata_type=None), odata_type=None) Work on this document so fabian can have it when he sees Kaleb about his bicycle in 2 hours\n",
      "\n",
      "________________________________________________________________________________\n",
      "Microsoft Teams meeting\n",
      "Join on your computer, mobile app or room device\n",
      "Cli\n",
      "Fabian Williams shared \"TeachKalebHowToRideABicycle\" with you AQMkADQ1ZjQzNTE5LTRjNGItNDI1ZC1hNWY1LWNmZTEzNjBjMGY3MgBGAAADTsefQxogGUq-s09IsB8ApgcAR7eBlyFi6U2kmUMoQtaH_AAAAgEMAAAAR7eBlyFi6U2kmUMoQtaH_AACftE6bAAAAA== Recipient(additional_data={}, email_address=EmailAddress(additional_data={}, address='fabian@fabster.onmicrosoft.com', name='Fabian Williams', odata_type=None), odata_type=None) Fabian Williams shared a file with you\n",
      "\n",
      "Review this Kaleb Williams document for me on how to teach Kaleb how to ride his new bicycle\n",
      "\n",
      "        TeachKalebHowToRideABicycle\n",
      "        This link will work for anyone.\n",
      "Open\n",
      "        Privacy Statement\n",
      "I got an invoice from Project Roundtree for $29.00 AQMkADQ1ZjQzNTE5LTRjNGItNDI1ZC1hNWY1LWNmZTEzNjBjMGY3MgBGAAADTsefQxogGUq-s09IsB8ApgcAR7eBlyFi6U2kmUMoQtaH_AAAAgEMAAAAR7eBlyFi6U2kmUMoQtaH_AACfR1fgQAAAA== Recipient(additional_data={}, email_address=EmailAddress(additional_data={}, address='fabian@fabster.onmicrosoft.com', name='Fabian Williams', odata_type=None), odata_type=None) Why are we paying so much? When can we stop the bleeding?\n",
      "\n",
      "Give me a weekly status moving forward on projected cost please?\n",
      "\n",
      "Thanks,\n",
      "Fabian\n",
      "Fw: Your Microsoft invoice G026668958 is ready AQMkADQ1ZjQzNTE5LTRjNGItNDI1ZC1hNWY1LWNmZTEzNjBjMGY3MgBGAAADTsefQxogGUq-s09IsB8ApgcAR7eBlyFi6U2kmUMoQtaH_AAAAgEMAAAAR7eBlyFi6U2kmUMoQtaH_AACfR1fgAAAAA== Recipient(additional_data={}, email_address=EmailAddress(additional_data={}, address='fabian@fabster.onmicrosoft.com', name='Fabian Williams', odata_type=None), odata_type=None) Looks like Project Roundtree is costing us $29 to operate. When can we shut this POC down. Did we prove it out yet?\n",
      "________________________________\n",
      "From: Microsoft <microsoft-noreply@microsoft.com>\n",
      "Sent: Wednesday, August 9, 2023 9:06 PM\n",
      "To: Fabian W\n",
      "Fabian Williams shared \"MariamAssignment2DraftDayCare\" with you AQMkADQ1ZjQzNTE5LTRjNGItNDI1ZC1hNWY1LWNmZTEzNjBjMGY3MgBGAAADTsefQxogGUq-s09IsB8ApgcAR7eBlyFi6U2kmUMoQtaH_AAAAgEMAAAAR7eBlyFi6U2kmUMoQtaH_AACfR1ffwAAAA== Recipient(additional_data={}, email_address=EmailAddress(additional_data={}, address='fabian@fabster.onmicrosoft.com', name='Fabian Williams', odata_type=None), odata_type=None) Fabian Williams shared a file with you\n",
      "\n",
      "Here's the document that Fabian Williams shared with you.\n",
      "\n",
      "\n",
      "\n",
      "MariamAssignment2DraftDayCare\n",
      "\n",
      "        16 min to read this.\n",
      "        This link will work for anyone.\n",
      "Open\n",
      "        Privacy Statement\n"
     ]
    }
   ],
   "source": [
    "await get_user_messages(adele)"
   ]
  },
  {
   "cell_type": "code",
   "execution_count": null,
   "id": "8bbe5c4a-b4b2-48f5-b11c-fd153a224ff4",
   "metadata": {},
   "outputs": [],
   "source": []
  }
 ],
 "metadata": {
  "kernelspec": {
   "display_name": "espc23",
   "language": "python",
   "name": "espc23"
  },
  "language_info": {
   "codemirror_mode": {
    "name": "ipython",
    "version": 3
   },
   "file_extension": ".py",
   "mimetype": "text/x-python",
   "name": "python",
   "nbconvert_exporter": "python",
   "pygments_lexer": "ipython3",
   "version": "3.11.5"
  }
 },
 "nbformat": 4,
 "nbformat_minor": 5
}
