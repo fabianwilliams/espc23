{
 "cells": [
  {
   "cell_type": "code",
   "execution_count": 33,
   "id": "9939cb09",
   "metadata": {},
   "outputs": [],
   "source": [
    "from dotenv import load_dotenv \n",
    "from azure.identity import DeviceCodeCredential\n",
    "from msgraph import GraphServiceClient\n",
    "from msgraph.generated.users.item.messages.messages_request_builder import MessagesRequestBuilder\n",
    "from msgraph.generated.search.query.query_post_request_body import QueryPostRequestBody\n",
    "from msgraph.generated.search.query.query_request_builder import QueryRequestBuilder\n",
    "from msgraph.generated.search.search_request_builder import SearchRequestBuilder\n",
    "from msgraph.generated.models.search_request import SearchRequest\n",
    "from msgraph.generated.models.entity_type import EntityType\n",
    "from msgraph.generated.models.search_query import SearchQuery\n",
    "from msgraph.generated.models.search_response import SearchResponse\n",
    "import os\n",
    "import json\n",
    "import asyncio \n",
    "import uuid"
   ]
  },
  {
   "cell_type": "code",
   "execution_count": 37,
   "id": "062da045-9a25-482d-979f-1c7a51f890da",
   "metadata": {},
   "outputs": [],
   "source": [
    "from typing import Tuple\n",
    "\n",
    "import semantic_kernel as sk\n",
    "from semantic_kernel.connectors.ai.open_ai import OpenAIChatCompletion, OpenAITextEmbedding"
   ]
  },
  {
   "cell_type": "code",
   "execution_count": 45,
   "id": "620ccb68-90d9-4ffc-8cbf-af0fe3830133",
   "metadata": {},
   "outputs": [
    {
     "data": {
      "text/plain": [
       "{'recall': <semantic_kernel.orchestration.sk_function.SKFunction at 0x118e0ba10>,\n",
       " 'save': <semantic_kernel.orchestration.sk_function.SKFunction at 0x118e0b8d0>}"
      ]
     },
     "execution_count": 45,
     "metadata": {},
     "output_type": "execute_result"
    }
   ],
   "source": [
    "kernel = sk.Kernel()\n",
    "\n",
    "useAzureOpenAI = False\n",
    "\n",
    "# Configure AI service used by the kernel\n",
    "api_key, org_id = sk.openai_settings_from_dot_env()\n",
    "kernel.add_chat_service(\"chat-gpt\", OpenAIChatCompletion(\"gpt-3.5-turbo\", api_key, org_id))\n",
    "kernel.add_text_embedding_generation_service(\"ada\", OpenAITextEmbedding(\"text-embedding-ada-002\", api_key, org_id))\n",
    "\n",
    "kernel.register_memory_store(memory_store=sk.memory.VolatileMemoryStore())\n",
    "kernel.import_skill(sk.core_skills.TextMemorySkill())"
   ]
  },
  {
   "cell_type": "code",
   "execution_count": 47,
   "id": "f18e1db1-c633-4aeb-882e-954b3ee4d546",
   "metadata": {},
   "outputs": [
    {
     "name": "stdout",
     "output_type": "stream",
     "text": [
      "org-wYMNsr9TXbJmVu2K24SB1xbk\n"
     ]
    }
   ],
   "source": [
    "print(org_id)"
   ]
  },
  {
   "cell_type": "code",
   "execution_count": 2,
   "id": "2fc30b76",
   "metadata": {},
   "outputs": [
    {
     "data": {
      "text/plain": [
       "True"
      ]
     },
     "execution_count": 2,
     "metadata": {},
     "output_type": "execute_result"
    }
   ],
   "source": [
    "load_dotenv()"
   ]
  },
  {
   "cell_type": "code",
   "execution_count": 3,
   "id": "191c4b8c",
   "metadata": {},
   "outputs": [],
   "source": [
    "TENANT_ID = os.getenv(\"TENANT_ID\")"
   ]
  },
  {
   "cell_type": "code",
   "execution_count": 4,
   "id": "39e9b30f",
   "metadata": {},
   "outputs": [],
   "source": [
    "CLIENT_ID = os.getenv(\"CLIENT_ID\")"
   ]
  },
  {
   "cell_type": "code",
   "execution_count": 5,
   "id": "232c7384-3c6a-4d70-a261-63c2cbe766a3",
   "metadata": {},
   "outputs": [],
   "source": [
    "graphUserScopes = os.getenv(\"graphUserScopes\").split(' ')"
   ]
  },
  {
   "cell_type": "code",
   "execution_count": 6,
   "id": "0761080e-8ae2-4bce-a2bd-48d1232ad72f",
   "metadata": {},
   "outputs": [
    {
     "name": "stdout",
     "output_type": "stream",
     "text": [
      "48943d42-a075-43c5-8d93-3f2da879c1be\n"
     ]
    }
   ],
   "source": [
    "print(CLIENT_ID)"
   ]
  },
  {
   "cell_type": "code",
   "execution_count": 7,
   "id": "7714c8f0-acff-4355-bdc8-3b2dfb5227c8",
   "metadata": {},
   "outputs": [],
   "source": [
    "fabs = 'fabian@fabster.onmicrosoft.com'"
   ]
  },
  {
   "cell_type": "code",
   "execution_count": 8,
   "id": "17e20298-bf85-45bd-b0cf-d3862b779d89",
   "metadata": {},
   "outputs": [],
   "source": [
    "adele = 'adelev@fabster.onmicrosoft.com'"
   ]
  },
  {
   "cell_type": "code",
   "execution_count": 9,
   "id": "3d304a16-7dbc-4b0d-9b06-df920af112b4",
   "metadata": {},
   "outputs": [],
   "source": [
    "## ensure that you have turned on DefaultClientType to Yes in the App Registration"
   ]
  },
  {
   "cell_type": "code",
   "execution_count": 10,
   "id": "3a96b477-9d74-461c-91ad-dc77d7e5dd61",
   "metadata": {},
   "outputs": [
    {
     "name": "stdout",
     "output_type": "stream",
     "text": [
      "['User.Read', 'Mail.ReadWrite', 'Chat.ReadWrite', 'Calendars.Read', 'Files.Read.All', 'Sites.Read.All']\n"
     ]
    }
   ],
   "source": [
    "print(graphUserScopes)"
   ]
  },
  {
   "cell_type": "code",
   "execution_count": 11,
   "id": "87d1c165-7ec9-4cfe-a8eb-44940a3a81a5",
   "metadata": {},
   "outputs": [],
   "source": [
    "credential = DeviceCodeCredential(client_id=CLIENT_ID, tenant_id=TENANT_ID) \n",
    "scopes = graphUserScopes\n",
    "client = GraphServiceClient(credentials=credential, scopes=scopes)"
   ]
  },
  {
   "cell_type": "code",
   "execution_count": 13,
   "id": "e4be0a9d-ab67-47ce-ba1c-899e991e85b4",
   "metadata": {},
   "outputs": [],
   "source": [
    "result = await client.me.get()"
   ]
  },
  {
   "cell_type": "code",
   "execution_count": 14,
   "id": "64fdaf30-0b99-45a1-887c-96a80cf94b95",
   "metadata": {},
   "outputs": [
    {
     "name": "stdout",
     "output_type": "stream",
     "text": [
      "Adele Vance\n"
     ]
    }
   ],
   "source": [
    "print(result.display_name)"
   ]
  },
  {
   "cell_type": "code",
   "execution_count": null,
   "id": "33d49999-8580-4557-9b91-216ad6950b66",
   "metadata": {},
   "outputs": [],
   "source": [
    "async def get_user(currUser):\n",
    "    result = await client.users.by_user_id(currUser).get()\n",
    "    if result:\n",
    "        print(result.display_name)"
   ]
  },
  {
   "cell_type": "code",
   "execution_count": null,
   "id": "6b10058a-9894-4e91-989a-bb34b5a9a2ec",
   "metadata": {},
   "outputs": [],
   "source": [
    "await (get_user('adelev@fabster.onmicrosoft.com'))"
   ]
  },
  {
   "cell_type": "code",
   "execution_count": null,
   "id": "c0df725c-3dd8-4988-8327-ea0cc2f6aadf",
   "metadata": {},
   "outputs": [],
   "source": [
    "async def get_user_messages(currUser):\n",
    "    messages = await (client.users.by_user_id(currUser).messages.get())\n",
    "    if messages and messages.value:\n",
    "        for msg in messages.value:\n",
    "            print(msg.subject, msg.id, msg.from_, msg.body_preview)"
   ]
  },
  {
   "cell_type": "code",
   "execution_count": null,
   "id": "740b105a-2091-4310-9c6d-e3373a5a4a01",
   "metadata": {},
   "outputs": [],
   "source": [
    "await get_user_messages(adele)"
   ]
  },
  {
   "cell_type": "code",
   "execution_count": null,
   "id": "8bbe5c4a-b4b2-48f5-b11c-fd153a224ff4",
   "metadata": {},
   "outputs": [],
   "source": [
    "async def get_user_chats(currUser):\n",
    "    chats = await (client.users.by_user_id(currUser).chats.get())\n",
    "    if chats and chats.value:\n",
    "        for cht in chats.value:\n",
    "            print(cht.topic)"
   ]
  },
  {
   "cell_type": "code",
   "execution_count": null,
   "id": "30401a3e-da0f-4bb3-8529-ec0e16300fca",
   "metadata": {},
   "outputs": [],
   "source": [
    "await get_user_chats(adele)"
   ]
  },
  {
   "cell_type": "markdown",
   "id": "8ed5adac-29fd-4455-ae32-1f51f4733d6c",
   "metadata": {},
   "source": [
    "## Work with Teams(Chat) Search Query Endpoint"
   ]
  },
  {
   "cell_type": "code",
   "execution_count": null,
   "id": "70c16bdd-4c1a-4aa6-908d-6e44375c03be",
   "metadata": {},
   "outputs": [],
   "source": []
  },
  {
   "cell_type": "code",
   "execution_count": 15,
   "id": "9a3e21b7-fbf4-42ec-a251-e31b32bdfd90",
   "metadata": {},
   "outputs": [],
   "source": [
    "request_body = QueryPostRequestBody(\n",
    "\trequests = [\n",
    "\t\tSearchRequest(\n",
    "\t\t\tentity_types = [\n",
    "\t\t\t\tEntityType.ChatMessage\n",
    "\t\t\t],\n",
    "\t\t\tquery = SearchQuery(\n",
    "\t\t\t\tquery_string = \"Adele\",\n",
    "\t\t\t),\n",
    "\t\t),\n",
    "\t],\n",
    ")\n",
    "\n",
    "chat_result = await client.search.query.post(request_body)"
   ]
  },
  {
   "cell_type": "code",
   "execution_count": 16,
   "id": "836cd186-7f0a-4692-acd0-3ca014e9334c",
   "metadata": {},
   "outputs": [],
   "source": [
    "chat_data = chat_result.value"
   ]
  },
  {
   "cell_type": "code",
   "execution_count": 18,
   "id": "3acbddc0-23eb-4051-9124-bf4281fa835c",
   "metadata": {},
   "outputs": [],
   "source": [
    "#chat_data"
   ]
  },
  {
   "cell_type": "code",
   "execution_count": 20,
   "id": "4411ed71-9a30-4164-99ee-84caa7e7cd74",
   "metadata": {},
   "outputs": [
    {
     "name": "stdout",
     "output_type": "stream",
     "text": [
      "('19:28031fbd-75af-4b61-8afd-347aac675901_eb14fa25-43e5-45f8-973d-7ea79a346db6@unq.gbl.spaces', 'hmmm which one? the one closer to the book store by Rokin near the Yo boba store?')\n",
      "('19:28031fbd-75af-4b61-8afd-347aac675901_eb14fa25-43e5-45f8-973d-7ea79a346db6@unq.gbl.spaces', 'hey Im in Amsterdam downtown lets get some Fries from that spot near Amsterdam Central next to the Uni Clo store')\n",
      "('19:28031fbd-75af-4b61-8afd-347aac675901_eb14fa25-43e5-45f8-973d-7ea79a346db6@unq.gbl.spaces', 'I need to fix Kaleb Williams bicycle today What tools should i bring based on this document here https://fabster-my.sharepoint.com/:w:/g/personal/fabian_fabster_onmicrosoft_com/EfYFSS6IwSZNnyCyYPcK4IkBRiFeuXhA3cHn74Ha6Ag_Ow https://fabster-my.sharepoint.c')\n",
      "('19:28031fbd-75af-4b61-8afd-347aac675901_eb14fa25-43e5-45f8-973d-7ea79a346db6@unq.gbl.spaces', 'how are you...')\n",
      "('19:28031fbd-75af-4b61-8afd-347aac675901_eb14fa25-43e5-45f8-973d-7ea79a346db6@unq.gbl.spaces', 'hi adele long time')\n",
      "('19:28031fbd-75af-4b61-8afd-347aac675901_eb14fa25-43e5-45f8-973d-7ea79a346db6@unq.gbl.spaces', 'u there...')\n",
      "('19:28031fbd-75af-4b61-8afd-347aac675901_eb14fa25-43e5-45f8-973d-7ea79a346db6@unq.gbl.spaces', 'cool well i am going to test now on Postman...')\n",
      "('19:28031fbd-75af-4b61-8afd-347aac675901_eb14fa25-43e5-45f8-973d-7ea79a346db6@unq.gbl.spaces', 'i want to have a chat before my status change...')\n",
      "('19:lRyBO1hOwy6N1gPQMklLa_SlOsQMmCb8JxJiMW-5n4o1@thread.tacv2', '...Hey Adele Vance and everyone else. Check out this file in a SharePoint Site that I am sharing HandlingExternalTypeAzureFunctionJSON1.txt<https://fabster.sharepoint.com/:t:/s/TAPProgram/ESMe2aDY9e9NkZZwkQqtFEoBqJgB6PWn-BBer9bIzecqtg?e=Gag258>')\n",
      "('19:4ef30bf9922447c8ab970558d7e10896@thread.tacv2', 'hello everyone')\n",
      "('19:eb14fa25-43e5-45f8-973d-7ea79a346db6_fa2480cc-103b-4b53-8ba6-da9720c81c2d@unq.gbl.spaces', 'hi adele good morning. now my presence is open and available when you make a graph call')\n"
     ]
    }
   ],
   "source": [
    "search_response = chat_data[0]  # Assuming there's only one SearchResponse object in the list\n",
    "\n",
    "# Initialize an empty list to store summaries and chat IDs\n",
    "summaries_and_chat_ids = []\n",
    "\n",
    "# Iterate over hits_containers in the SearchResponse object\n",
    "for hits_container in search_response.hits_containers:\n",
    "    # Iterate over each hit in the container\n",
    "    for hit in hits_container.hits:\n",
    "        # Extract the summary\n",
    "        summary = hit.summary\n",
    "\n",
    "        # Extract the chatId from additional_data\n",
    "        chat_id = hit.resource.additional_data.get('chatId', 'Unknown')\n",
    "\n",
    "        # Append the chatId and summary as a tuple to the list\n",
    "        summaries_and_chat_ids.append((chat_id, summary))\n",
    "\n",
    "# Now 'summaries_and_chat_ids' contains the chatId and summary of each search hit\n",
    "for item in summaries_and_chat_ids:\n",
    "    print(item)"
   ]
  },
  {
   "cell_type": "code",
   "execution_count": 22,
   "id": "2bab141f-ea50-4d73-9161-05ebd25b1d0d",
   "metadata": {},
   "outputs": [
    {
     "name": "stdout",
     "output_type": "stream",
     "text": [
      "[('19:28031fbd-75af-4b61-8afd-347aac675901_eb14fa25-43e5-45f8-973d-7ea79a346db6@unq.gbl.spaces', 'hmmm which one? the one closer to the book store by Rokin near the Yo boba store?'), ('19:28031fbd-75af-4b61-8afd-347aac675901_eb14fa25-43e5-45f8-973d-7ea79a346db6@unq.gbl.spaces', 'hey Im in Amsterdam downtown lets get some Fries from that spot near Amsterdam Central next to the Uni Clo store'), ('19:28031fbd-75af-4b61-8afd-347aac675901_eb14fa25-43e5-45f8-973d-7ea79a346db6@unq.gbl.spaces', 'I need to fix Kaleb Williams bicycle today What tools should i bring based on this document here https://fabster-my.sharepoint.com/:w:/g/personal/fabian_fabster_onmicrosoft_com/EfYFSS6IwSZNnyCyYPcK4IkBRiFeuXhA3cHn74Ha6Ag_Ow https://fabster-my.sharepoint.c'), ('19:28031fbd-75af-4b61-8afd-347aac675901_eb14fa25-43e5-45f8-973d-7ea79a346db6@unq.gbl.spaces', 'how are you...'), ('19:28031fbd-75af-4b61-8afd-347aac675901_eb14fa25-43e5-45f8-973d-7ea79a346db6@unq.gbl.spaces', 'hi adele long time'), ('19:28031fbd-75af-4b61-8afd-347aac675901_eb14fa25-43e5-45f8-973d-7ea79a346db6@unq.gbl.spaces', 'u there...'), ('19:28031fbd-75af-4b61-8afd-347aac675901_eb14fa25-43e5-45f8-973d-7ea79a346db6@unq.gbl.spaces', 'cool well i am going to test now on Postman...'), ('19:28031fbd-75af-4b61-8afd-347aac675901_eb14fa25-43e5-45f8-973d-7ea79a346db6@unq.gbl.spaces', 'i want to have a chat before my status change...'), ('19:lRyBO1hOwy6N1gPQMklLa_SlOsQMmCb8JxJiMW-5n4o1@thread.tacv2', '...Hey Adele Vance and everyone else. Check out this file in a SharePoint Site that I am sharing HandlingExternalTypeAzureFunctionJSON1.txt<https://fabster.sharepoint.com/:t:/s/TAPProgram/ESMe2aDY9e9NkZZwkQqtFEoBqJgB6PWn-BBer9bIzecqtg?e=Gag258>'), ('19:4ef30bf9922447c8ab970558d7e10896@thread.tacv2', 'hello everyone'), ('19:eb14fa25-43e5-45f8-973d-7ea79a346db6_fa2480cc-103b-4b53-8ba6-da9720c81c2d@unq.gbl.spaces', 'hi adele good morning. now my presence is open and available when you make a graph call')]\n"
     ]
    }
   ],
   "source": [
    "print(summaries_and_chat_ids)"
   ]
  },
  {
   "cell_type": "code",
   "execution_count": 52,
   "id": "b04027d4-5772-4e1e-a7ef-0b0b26e1afdb",
   "metadata": {},
   "outputs": [
    {
     "name": "stdout",
     "output_type": "stream",
     "text": [
      "('d58f4307-d06a-46cb-8e2d-a4f4064d0232', 'hmmm which one? the one closer to the book store by Rokin near the Yo boba store?')\n",
      "('8f2ebcd5-e8e2-4acc-85d6-17cf79fb4fa0', 'hey Im in Amsterdam downtown lets get some Fries from that spot near Amsterdam Central next to the Uni Clo store')\n",
      "('34666169-6b2c-49be-9f77-850c9d5f4f7e', 'I need to fix Kaleb Williams bicycle today What tools should i bring based on this document here https://fabster-my.sharepoint.com/:w:/g/personal/fabian_fabster_onmicrosoft_com/EfYFSS6IwSZNnyCyYPcK4IkBRiFeuXhA3cHn74Ha6Ag_Ow https://fabster-my.sharepoint.c')\n",
      "('325f8c9a-db8b-4bc9-a2b8-62a3070b0f2f', 'how are you...')\n",
      "('cc65de98-596e-4a37-9e2d-c1fb2e0770e7', 'hi adele long time')\n",
      "('de9a29c9-2573-4ed9-9605-2054b0e9aa97', 'u there...')\n",
      "('b7ba34e9-8d7f-4773-8f1d-ec6c47a34f84', 'cool well i am going to test now on Postman...')\n",
      "('8a57f16d-eda7-46a4-a300-88d5d47a89d6', 'i want to have a chat before my status change...')\n",
      "('c6922b0f-ab56-4299-952e-d13fb9e4ad20', '...Hey Adele Vance and everyone else. Check out this file in a SharePoint Site that I am sharing HandlingExternalTypeAzureFunctionJSON1.txt<https://fabster.sharepoint.com/:t:/s/TAPProgram/ESMe2aDY9e9NkZZwkQqtFEoBqJgB6PWn-BBer9bIzecqtg?e=Gag258>')\n",
      "('d2c1427e-7f5f-401d-b1b7-eb4db1036c16', 'hello everyone')\n",
      "('3db08781-1d51-4e57-88a0-363269b3b1e8', 'hi adele good morning. now my presence is open and available when you make a graph call')\n"
     ]
    }
   ],
   "source": [
    "##Testing with GUID\n",
    "search_response = chat_data[0]  # Assuming there's only one SearchResponse object in the list\n",
    "\n",
    "# Initialize an empty list to store summaries, chat IDs, and generated GUIDs\n",
    "summaries_chat_ids_and_guids = []\n",
    "\n",
    "# Iterate over hits_containers in the SearchResponse object\n",
    "for hits_container in search_response.hits_containers:\n",
    "    # Iterate over each hit in the container\n",
    "    for hit in hits_container.hits:\n",
    "        # Extract the summary\n",
    "        summary = hit.summary\n",
    "\n",
    "        # Extract the chatId from additional_data\n",
    "        chat_id = hit.resource.additional_data.get('chatId', 'Unknown')\n",
    "\n",
    "        # Generate a unique GUID for each hit\n",
    "        guid = str(uuid.uuid4())\n",
    "\n",
    "        # Append the chatId, summary, and GUID as a tuple to the list\n",
    "        summaries_chat_ids_and_guids.append((guid, summary))\n",
    "\n",
    "# Now 'summaries_chat_ids_and_guids' contains the chatId, summary, and a unique GUID for each search hit\n",
    "for item in summaries_chat_ids_and_guids:\n",
    "    await kernel.memory.save_information_async(\"ESPC23\", id=guid, text=summary)\n",
    "    #print(item)\n",
    "\n",
    "                                            "
   ]
  },
  {
   "cell_type": "code",
   "execution_count": 53,
   "id": "1df3f1fe-a3e5-476a-81b7-80559735ec05",
   "metadata": {},
   "outputs": [],
   "source": [
    "#print(summaries_chat_ids_and_guids)"
   ]
  },
  {
   "cell_type": "code",
   "execution_count": 54,
   "id": "809ecd34-ba65-4aa7-b89f-52bce196a0b2",
   "metadata": {},
   "outputs": [],
   "source": [
    "async def search_memory_examples(kernel: sk.Kernel) -> None:\n",
    "    questions = [\n",
    "        \"What did i do in Amsterdam\",\n",
    "    ]\n",
    "\n",
    "    for question in questions:\n",
    "        print(f\"Question: {question}\")\n",
    "        result = await kernel.memory.search_async(\"ESPC23\", question)\n",
    "        print(f\"Answer: {result[0].text}\\n\")"
   ]
  },
  {
   "cell_type": "code",
   "execution_count": 55,
   "id": "5ee24d26-d441-4bc1-9eb0-fa6830ced715",
   "metadata": {},
   "outputs": [
    {
     "name": "stdout",
     "output_type": "stream",
     "text": [
      "Question: What did i do in Amsterdam\n",
      "Answer: hi adele good morning. now my presence is open and available when you make a graph call\n",
      "\n"
     ]
    }
   ],
   "source": [
    "await search_memory_examples(kernel)"
   ]
  },
  {
   "cell_type": "markdown",
   "id": "9ce4e601-69a4-4875-93fc-91a1debbbadc",
   "metadata": {},
   "source": [
    "## Work with Drives(Files) Search Query Endpoint"
   ]
  },
  {
   "cell_type": "code",
   "execution_count": null,
   "id": "abf822fd-c39e-4a24-b090-d06896c664b8",
   "metadata": {},
   "outputs": [],
   "source": []
  },
  {
   "cell_type": "code",
   "execution_count": 25,
   "id": "9cf195b7-2e7f-4862-b363-85db4e6f1974",
   "metadata": {},
   "outputs": [],
   "source": [
    "request_body = QueryPostRequestBody(\n",
    "\trequests = [\n",
    "\t\tSearchRequest(\n",
    "\t\t\tentity_types = [\n",
    "\t\t\t\tEntityType.DriveItem\n",
    "\t\t\t],\n",
    "\t\t\tquery = SearchQuery(\n",
    "\t\t\t\tquery_string = \"Adele\",\n",
    "\t\t\t),\n",
    "\t\t),\n",
    "\t],\n",
    ")\n",
    "\n",
    "drive_result = await client.search.query.post(request_body)"
   ]
  },
  {
   "cell_type": "code",
   "execution_count": 26,
   "id": "c37d9da2-9668-4257-9efe-10cb4d9ef77f",
   "metadata": {},
   "outputs": [],
   "source": [
    "drive_data = drive_result.value"
   ]
  },
  {
   "cell_type": "code",
   "execution_count": 40,
   "id": "8dfba2c2-e11b-435c-9f66-8b3af4a2bcb4",
   "metadata": {},
   "outputs": [
    {
     "name": "stdout",
     "output_type": "stream",
     "text": [
      "('abd1fd06-aa1b-49ea-9b8f-d8dd2076f7af', '', 'Unknown', 'Unknown')\n",
      "('ba535248-d6fb-4757-af0d-e9d96ffca927', 'Project Roundtree Status Report Everything is going fine. Customer paid a ton of money<ddd/>', 'Unknown', 'Unknown')\n",
      "('f083ad88-2759-48d3-b3a0-b2f4a0338031', '<ddd/><c0>Adele</c0> Vance 1 856 0 {FABE1924<ddd/>', 'Unknown', 'Unknown')\n",
      "('88ca038c-4e5c-46e6-94b5-37ace78045c7', '<ddd/><c0>Adele</c0> Vance 1 198 0 {5CBA3280<ddd/>', 'Unknown', 'Unknown')\n",
      "('d178a91d-a56f-42d2-9f2b-868766b0d66c', ' dynamic externalitem = new JObject(); externalitem.acl = new JArray{ new JObject{{\"type\", \"user\" }, {\"type\", \"bac58813-8954-4633-9503-cc51c0ab34c9\"}, { \"accessType\", \"grant<ddd/>', 'Unknown', 'Unknown')\n",
      "('2261d084-0a71-435e-9af2-ec4007791455', '<ddd/><c0>Adele</c0> Vance 1 0 {D5FE893F-94AC<ddd/>', 'Unknown', 'Unknown')\n"
     ]
    }
   ],
   "source": [
    "try:\n",
    "    drive_search_response = drive_data[0]  # Assuming there's only one SearchResponse object in the list\n",
    "\n",
    "    # Initialize an empty list to store summaries, from information, and generated GUIDs\n",
    "    drive_summary_from_and_guids = []\n",
    "\n",
    "    if drive_search_response:\n",
    "        # Iterate over hits_containers in the SearchResponse object\n",
    "        for drive_hits_container in drive_search_response.hits_containers:\n",
    "            # Iterate over each hit in the container\n",
    "            for drive_hit in drive_hits_container.hits:\n",
    "                # Extract the summary\n",
    "                drive_summary = drive_hit.summary\n",
    "\n",
    "                # Extract the 'from' information from additional_data\n",
    "                from_data = drive_hit.resource.additional_data.get('from', {}).get('emailAddress', {})\n",
    "                from_name = from_data.get('name', 'Unknown')\n",
    "                from_email = from_data.get('address', 'Unknown')\n",
    "\n",
    "                # Generate a unique GUID for each hit\n",
    "                guid = str(uuid.uuid4())\n",
    "\n",
    "                # Append the summary, 'from' information, and GUID as a tuple to the list\n",
    "                drive_summary_from_and_guids.append((guid, drive_summary, from_name, from_email))\n",
    "except Exception as e:\n",
    "    print(f\"An error occurred: {e}\")\n",
    "\n",
    "# Now 'drive_summary_from_and_guids' contains the summary, from information, and a unique GUID for each search hit\n",
    "for item in drive_summary_from_and_guids:\n",
    "    print(item)"
   ]
  },
  {
   "cell_type": "code",
   "execution_count": 41,
   "id": "d5aa2ab9-2669-49c7-b6b6-e3946e06d538",
   "metadata": {},
   "outputs": [
    {
     "name": "stdout",
     "output_type": "stream",
     "text": [
      "[('abd1fd06-aa1b-49ea-9b8f-d8dd2076f7af', '', 'Unknown', 'Unknown'), ('ba535248-d6fb-4757-af0d-e9d96ffca927', 'Project Roundtree Status Report Everything is going fine. Customer paid a ton of money<ddd/>', 'Unknown', 'Unknown'), ('f083ad88-2759-48d3-b3a0-b2f4a0338031', '<ddd/><c0>Adele</c0> Vance 1 856 0 {FABE1924<ddd/>', 'Unknown', 'Unknown'), ('88ca038c-4e5c-46e6-94b5-37ace78045c7', '<ddd/><c0>Adele</c0> Vance 1 198 0 {5CBA3280<ddd/>', 'Unknown', 'Unknown'), ('d178a91d-a56f-42d2-9f2b-868766b0d66c', ' dynamic externalitem = new JObject(); externalitem.acl = new JArray{ new JObject{{\"type\", \"user\" }, {\"type\", \"bac58813-8954-4633-9503-cc51c0ab34c9\"}, { \"accessType\", \"grant<ddd/>', 'Unknown', 'Unknown'), ('2261d084-0a71-435e-9af2-ec4007791455', '<ddd/><c0>Adele</c0> Vance 1 0 {D5FE893F-94AC<ddd/>', 'Unknown', 'Unknown')]\n"
     ]
    }
   ],
   "source": [
    "print(drive_summary_from_and_guids)"
   ]
  },
  {
   "cell_type": "markdown",
   "id": "67855070-c562-4f8e-837a-214904ff14e2",
   "metadata": {},
   "source": [
    "## Work with Messages(Email) Search Query Endpoint"
   ]
  },
  {
   "cell_type": "code",
   "execution_count": 29,
   "id": "d0d1fa17-ee01-4347-9363-251cec125b35",
   "metadata": {},
   "outputs": [],
   "source": [
    "request_body = QueryPostRequestBody(\n",
    "\trequests = [\n",
    "\t\tSearchRequest(\n",
    "\t\t\tentity_types = [\n",
    "\t\t\t\tEntityType.Message\n",
    "\t\t\t],\n",
    "\t\t\tquery = SearchQuery(\n",
    "\t\t\t\tquery_string = \"Adele\",\n",
    "\t\t\t),\n",
    "\t\t),\n",
    "\t],\n",
    ")\n",
    "\n",
    "mail_result = await client.search.query.post(request_body)"
   ]
  },
  {
   "cell_type": "code",
   "execution_count": 30,
   "id": "f674c27b-fe6e-4c6b-9bd3-19ac88bfedad",
   "metadata": {},
   "outputs": [],
   "source": [
    "mail_data = mail_result.value"
   ]
  },
  {
   "cell_type": "code",
   "execution_count": 43,
   "id": "6fc38502-2c74-421a-987e-fd789457831c",
   "metadata": {},
   "outputs": [
    {
     "name": "stdout",
     "output_type": "stream",
     "text": [
      "('24c8bcdb-7fb5-4b82-b780-bbc7dcae09d2', 'Get Outlook for iOS From: Eurostar International LTD <noreply@e.eurostar.com> Sent: Friday, November 24, 2023 1:26:32 PM To: fabian (adotob) williams <fabian@adotob.com> Subject', 'Unknown', 'Unknown')\n",
      "('a0ccb465-8d40-4bc7-b4c5-c5c8528a27cb', 'Private to you   Hi, <c0>Adele</c0> Vance,  Discover trends in your work habits  An in-depth look at your work patterns in the last four weeks  Explore your insights  27 days without quiet...', 'Unknown', 'Unknown')\n",
      "('c8a65f16-77d7-4e10-8db2-1b8bf74571f2', 'Private to you   Hi, <c0>Adele</c0> Vance,  Discover trends in your work habits  An in-depth look at your work patterns in the last four weeks  Work smarter with Microsoft Viva Insights  ...', 'Unknown', 'Unknown')\n",
      "('b3a69919-3123-402c-a070-62abb6dfba54', \"Fabian Williams shared this with you 7 days ago. If you missed it, here's a quick reminder  This link will work for anyone.  TeachKalebHowToRideABicycle  Open   Microsoft respects...\", 'Unknown', 'Unknown')\n",
      "('9cc1e3b8-2de7-4265-9aa6-d8b5ff540c26', \"Fabian Williams shared this with you 7 days ago. If you missed it, here's a quick reminder  This link will work for anyone.  MariamAssignment2DraftDayCare  Open   Microsoft respects...\", 'Unknown', 'Unknown')\n",
      "('c0dc4ae0-1573-4955-98bb-4c17c52ef89a', 'I need to fix Kaleb Williams bicycle today What tools should i bring based on this document here https://fabster-my.sharepoint.com/:w:/g/personal/fabian_fabster_onmicrosoft_com/', 'Unknown', 'Unknown')\n",
      "('70b5ebd5-ce01-48c1-87b5-fac9cbe29819', 'Work on this document so fabian can have it when he sees Kaleb about his bicycle in 2 hours ________________________________________________________________________________', 'Unknown', 'Unknown')\n",
      "('b4db5ed0-769f-4593-9095-6c5df400a4e3', 'Fabian Williams shared a file with you  Review this Kaleb Williams document for me on how to teach Kaleb how to ride his new bicycle   TeachKalebHowToRideABicycle   This link will...', 'Unknown', 'Unknown')\n",
      "('9c870d20-3816-40fe-9cdf-6a2f3d4ae33f', 'Why are we paying so much? When can we stop the bleeding?   Give me a weekly status moving forward on projected cost please?  Thanks, Fabian...', 'Unknown', 'Unknown')\n",
      "('74be204c-2771-4e3a-af65-fc692c78b7f7', 'Looks like Project Roundtree is costing us $29 to operate. When can we shut this POC down. Did we prove it out yet?  From: Microsoft <microsoft-noreply@microsoft.com> Sent:', 'Unknown', 'Unknown')\n",
      "('45ef5d19-14c3-4583-953a-af21682691a3', \"Fabian Williams shared a file with you   Here's the document that Fabian Williams shared with you.   MariamAssignment2DraftDayCare  16 min to read this.   This link will work for...\", 'Unknown', 'Unknown')\n",
      "('7081d98f-bd45-4e56-9eff-5f06febfa51c', '', 'Unknown', 'Unknown')\n",
      "('238dc544-b97e-4c5c-94c6-2a8002aacb18', '<c0>Adele</c0> Vance shared a file with you  For our meeting on project Roundtree here is the latest status report   ProjectRoundtreeStatusReport   This link will work for anyone.  Open   ...', 'Unknown', 'Unknown')\n",
      "('35638d6a-05a3-4df1-8166-8a66ccdc399f', '---------- Forwarded message --------- From: Atholton High School <robert_motley@hcpss.org<mailto:robert_motley@hcpss.org>> Date: Sun, Mar 26, 2023 at 4:28\\u202fPM Subject: Raider...', 'Unknown', 'Unknown')\n",
      "('7dcd92f7-ef81-49a6-9e36-d7cd52ab1387', 'Hi <c0>Adele</c0>. You have a task due. [Calendar Late] You have a late task Bravo Limited <https://tasks.office.com/fabster.onmicrosoft.com/en-US/Home/PlanViews/...', 'Unknown', 'Unknown')\n",
      "('2a319d36-24c9-4558-9bba-e9254f8bd43d', 'Hi <c0>Adele</c0>. You have a task due. [Calendar Late] You have a late task Bravo Limited <https://tasks.office.com/fabster.onmicrosoft.com/en-US/Home/PlanViews/...', 'Unknown', 'Unknown')\n",
      "('a42fd351-0b16-4afb-84a1-b7467c50f59f', 'Hi <c0>Adele</c0>. You have a task due. [Calendar Late] You have a task due today Bravo Limited <https://tasks.office.com/fabster.onmicrosoft.com/en-US/Home/PlanViews/...', 'Unknown', 'Unknown')\n",
      "('e2cfab4c-fd7e-410d-b00b-5a6bd36a097e', '', 'Unknown', 'Unknown')\n",
      "('684a3829-9018-4c03-81af-38e36b90d66b', '', 'Unknown', 'Unknown')\n",
      "('3c7a07a0-9b0e-454e-b86a-a7b264541410', 'Hi <c0>Adele</c0>. You have a task due. [Calendar Late] You have an upcoming task Bravo Limited <https://tasks.office.com/fabster.onmicrosoft.com/en-US/Home/PlanViews/...', 'Unknown', 'Unknown')\n",
      "('c41d6f32-3f4b-4532-812e-62bb6abbd178', 'Hi <c0>Adele</c0>. You have a task due. [Calendar Late] You have an upcoming task Bravo Limited <https://tasks.office.com/fabster.onmicrosoft.com/en-US/Home/PlanViews/...', 'Unknown', 'Unknown')\n",
      "('abfc9560-c1aa-482c-b598-1a43cdf4aead', 'yes...', 'Unknown', 'Unknown')\n",
      "('24103a3c-6748-44c0-91e1-c545e7268710', '', 'Unknown', 'Unknown')\n",
      "('ceb99330-16f5-42d0-843b-29b09c2aa48d', 'Fabian assigned a task to you ͏\\u200c ͏\\u200c ͏\\u200c ͏\\u200c ͏\\u200c ͏\\u200c ͏\\u200c ͏\\u200c ͏\\u200c ͏\\u200c ͏\\u200c ͏\\u200c ͏\\u200c ͏\\u200c ͏\\u200c ͏\\u200c ͏\\u200c ͏\\u200c ͏\\u200c ͏\\u200c ͏\\u200c ͏\\u200c ͏\\u200c ͏\\u200c ͏\\u200c ͏\\u200c ͏\\u200c ͏\\u200c ͏\\u200c ͏\\u200c ͏\\u200c ͏\\u200c ͏\\u200c ͏\\u200c ͏\\u200c ͏\\u200c ͏\\u200c ͏\\u200c ͏\\u200c ͏\\u200c ͏\\u200c ͏\\u200c ͏\\u200c ͏\\u200c ͏\\u200c ͏\\u200c ͏\\u200c ͏\\u200c ͏\\u200c ͏\\u200c ͏\\u200c ͏\\u200c ͏\\u200c ͏\\u200c ͏\\u200c ͏\\u200c ͏\\u200c ͏\\u200c ͏\\u200c ͏\\u200c ͏\\u200c ͏\\u200c ͏\\u200c ͏\\u200c ͏\\u200c ͏\\u200c ͏\\u200c ͏\\u200c ͏\\u200c ͏\\u200c ͏\\u200c ͏\\u200c ͏\\u200c ͏\\u200c ͏\\u200c.', 'Unknown', 'Unknown')\n",
      "('3bee07c2-3842-4669-847c-4075b82b9f5e', 'Fabian assigned a task to you ͏\\u200c ͏\\u200c ͏\\u200c ͏\\u200c ͏\\u200c ͏\\u200c ͏\\u200c ͏\\u200c ͏\\u200c ͏\\u200c ͏\\u200c ͏\\u200c ͏\\u200c ͏\\u200c ͏\\u200c ͏\\u200c ͏\\u200c ͏\\u200c ͏\\u200c ͏\\u200c ͏\\u200c ͏\\u200c ͏\\u200c ͏\\u200c ͏\\u200c ͏\\u200c ͏\\u200c ͏\\u200c ͏\\u200c ͏\\u200c ͏\\u200c ͏\\u200c ͏\\u200c ͏\\u200c ͏\\u200c ͏\\u200c ͏\\u200c ͏\\u200c ͏\\u200c ͏\\u200c ͏\\u200c ͏\\u200c ͏\\u200c ͏\\u200c ͏\\u200c ͏\\u200c ͏\\u200c ͏\\u200c ͏\\u200c ͏\\u200c ͏\\u200c ͏\\u200c ͏\\u200c ͏\\u200c ͏\\u200c ͏\\u200c ͏\\u200c ͏\\u200c ͏\\u200c ͏\\u200c ͏\\u200c ͏\\u200c ͏\\u200c ͏\\u200c ͏\\u200c ͏\\u200c ͏\\u200c ͏\\u200c ͏\\u200c ͏\\u200c ͏\\u200c ͏\\u200c ͏\\u200c ͏\\u200c ͏\\u200c.', 'Unknown', 'Unknown')\n"
     ]
    }
   ],
   "source": [
    "try:\n",
    "    mail_search_response = mail_data[0]  # Assuming there's only one SearchResponse object in the list\n",
    "\n",
    "    # Initialize an empty list to store summaries, from information, and generated GUIDs\n",
    "    mail_summary_from_and_guids = []\n",
    "\n",
    "    if mail_search_response:\n",
    "        # Iterate over hits_containers in the SearchResponse object\n",
    "        for mail_hits_container in mail_search_response.hits_containers:\n",
    "            # Iterate over each hit in the container\n",
    "            for mail_hit in mail_hits_container.hits:\n",
    "                # Extract the summary\n",
    "                mail_summary = mail_hit.summary\n",
    "\n",
    "                # Extract the 'from' information from additional_data\n",
    "                from_data = mail_hit.resource.additional_data.get('from', {}).get('emailAddress', {})\n",
    "                from_name = from_data.get('name', 'Unknown')\n",
    "                from_email = from_data.get('address', 'Unknown')\n",
    "\n",
    "                # Generate a unique GUID for each hit\n",
    "                guid = str(uuid.uuid4())\n",
    "\n",
    "                # Append the summary, 'from' information, and GUID as a tuple to the list\n",
    "                mail_summary_from_and_guids.append((guid, mail_summary, from_name, from_email))\n",
    "except Exception as e:\n",
    "    print(f\"An error occurred: {e}\")\n",
    "\n",
    "# Now 'mail_summary_from_and_guids' contains the summary, from information, and a unique GUID for each search hit\n",
    "for item in mail_summary_from_and_guids:\n",
    "    print(item)"
   ]
  },
  {
   "cell_type": "code",
   "execution_count": 44,
   "id": "7b7b9ab6-acd8-411c-b831-337758494522",
   "metadata": {},
   "outputs": [
    {
     "name": "stdout",
     "output_type": "stream",
     "text": [
      "[('24c8bcdb-7fb5-4b82-b780-bbc7dcae09d2', 'Get Outlook for iOS From: Eurostar International LTD <noreply@e.eurostar.com> Sent: Friday, November 24, 2023 1:26:32 PM To: fabian (adotob) williams <fabian@adotob.com> Subject', 'Unknown', 'Unknown'), ('a0ccb465-8d40-4bc7-b4c5-c5c8528a27cb', 'Private to you   Hi, <c0>Adele</c0> Vance,  Discover trends in your work habits  An in-depth look at your work patterns in the last four weeks  Explore your insights  27 days without quiet...', 'Unknown', 'Unknown'), ('c8a65f16-77d7-4e10-8db2-1b8bf74571f2', 'Private to you   Hi, <c0>Adele</c0> Vance,  Discover trends in your work habits  An in-depth look at your work patterns in the last four weeks  Work smarter with Microsoft Viva Insights  ...', 'Unknown', 'Unknown'), ('b3a69919-3123-402c-a070-62abb6dfba54', \"Fabian Williams shared this with you 7 days ago. If you missed it, here's a quick reminder  This link will work for anyone.  TeachKalebHowToRideABicycle  Open   Microsoft respects...\", 'Unknown', 'Unknown'), ('9cc1e3b8-2de7-4265-9aa6-d8b5ff540c26', \"Fabian Williams shared this with you 7 days ago. If you missed it, here's a quick reminder  This link will work for anyone.  MariamAssignment2DraftDayCare  Open   Microsoft respects...\", 'Unknown', 'Unknown'), ('c0dc4ae0-1573-4955-98bb-4c17c52ef89a', 'I need to fix Kaleb Williams bicycle today What tools should i bring based on this document here https://fabster-my.sharepoint.com/:w:/g/personal/fabian_fabster_onmicrosoft_com/', 'Unknown', 'Unknown'), ('70b5ebd5-ce01-48c1-87b5-fac9cbe29819', 'Work on this document so fabian can have it when he sees Kaleb about his bicycle in 2 hours ________________________________________________________________________________', 'Unknown', 'Unknown'), ('b4db5ed0-769f-4593-9095-6c5df400a4e3', 'Fabian Williams shared a file with you  Review this Kaleb Williams document for me on how to teach Kaleb how to ride his new bicycle   TeachKalebHowToRideABicycle   This link will...', 'Unknown', 'Unknown'), ('9c870d20-3816-40fe-9cdf-6a2f3d4ae33f', 'Why are we paying so much? When can we stop the bleeding?   Give me a weekly status moving forward on projected cost please?  Thanks, Fabian...', 'Unknown', 'Unknown'), ('74be204c-2771-4e3a-af65-fc692c78b7f7', 'Looks like Project Roundtree is costing us $29 to operate. When can we shut this POC down. Did we prove it out yet?  From: Microsoft <microsoft-noreply@microsoft.com> Sent:', 'Unknown', 'Unknown'), ('45ef5d19-14c3-4583-953a-af21682691a3', \"Fabian Williams shared a file with you   Here's the document that Fabian Williams shared with you.   MariamAssignment2DraftDayCare  16 min to read this.   This link will work for...\", 'Unknown', 'Unknown'), ('7081d98f-bd45-4e56-9eff-5f06febfa51c', '', 'Unknown', 'Unknown'), ('238dc544-b97e-4c5c-94c6-2a8002aacb18', '<c0>Adele</c0> Vance shared a file with you  For our meeting on project Roundtree here is the latest status report   ProjectRoundtreeStatusReport   This link will work for anyone.  Open   ...', 'Unknown', 'Unknown'), ('35638d6a-05a3-4df1-8166-8a66ccdc399f', '---------- Forwarded message --------- From: Atholton High School <robert_motley@hcpss.org<mailto:robert_motley@hcpss.org>> Date: Sun, Mar 26, 2023 at 4:28\\u202fPM Subject: Raider...', 'Unknown', 'Unknown'), ('7dcd92f7-ef81-49a6-9e36-d7cd52ab1387', 'Hi <c0>Adele</c0>. You have a task due. [Calendar Late] You have a late task Bravo Limited <https://tasks.office.com/fabster.onmicrosoft.com/en-US/Home/PlanViews/...', 'Unknown', 'Unknown'), ('2a319d36-24c9-4558-9bba-e9254f8bd43d', 'Hi <c0>Adele</c0>. You have a task due. [Calendar Late] You have a late task Bravo Limited <https://tasks.office.com/fabster.onmicrosoft.com/en-US/Home/PlanViews/...', 'Unknown', 'Unknown'), ('a42fd351-0b16-4afb-84a1-b7467c50f59f', 'Hi <c0>Adele</c0>. You have a task due. [Calendar Late] You have a task due today Bravo Limited <https://tasks.office.com/fabster.onmicrosoft.com/en-US/Home/PlanViews/...', 'Unknown', 'Unknown'), ('e2cfab4c-fd7e-410d-b00b-5a6bd36a097e', '', 'Unknown', 'Unknown'), ('684a3829-9018-4c03-81af-38e36b90d66b', '', 'Unknown', 'Unknown'), ('3c7a07a0-9b0e-454e-b86a-a7b264541410', 'Hi <c0>Adele</c0>. You have a task due. [Calendar Late] You have an upcoming task Bravo Limited <https://tasks.office.com/fabster.onmicrosoft.com/en-US/Home/PlanViews/...', 'Unknown', 'Unknown'), ('c41d6f32-3f4b-4532-812e-62bb6abbd178', 'Hi <c0>Adele</c0>. You have a task due. [Calendar Late] You have an upcoming task Bravo Limited <https://tasks.office.com/fabster.onmicrosoft.com/en-US/Home/PlanViews/...', 'Unknown', 'Unknown'), ('abfc9560-c1aa-482c-b598-1a43cdf4aead', 'yes...', 'Unknown', 'Unknown'), ('24103a3c-6748-44c0-91e1-c545e7268710', '', 'Unknown', 'Unknown'), ('ceb99330-16f5-42d0-843b-29b09c2aa48d', 'Fabian assigned a task to you ͏\\u200c ͏\\u200c ͏\\u200c ͏\\u200c ͏\\u200c ͏\\u200c ͏\\u200c ͏\\u200c ͏\\u200c ͏\\u200c ͏\\u200c ͏\\u200c ͏\\u200c ͏\\u200c ͏\\u200c ͏\\u200c ͏\\u200c ͏\\u200c ͏\\u200c ͏\\u200c ͏\\u200c ͏\\u200c ͏\\u200c ͏\\u200c ͏\\u200c ͏\\u200c ͏\\u200c ͏\\u200c ͏\\u200c ͏\\u200c ͏\\u200c ͏\\u200c ͏\\u200c ͏\\u200c ͏\\u200c ͏\\u200c ͏\\u200c ͏\\u200c ͏\\u200c ͏\\u200c ͏\\u200c ͏\\u200c ͏\\u200c ͏\\u200c ͏\\u200c ͏\\u200c ͏\\u200c ͏\\u200c ͏\\u200c ͏\\u200c ͏\\u200c ͏\\u200c ͏\\u200c ͏\\u200c ͏\\u200c ͏\\u200c ͏\\u200c ͏\\u200c ͏\\u200c ͏\\u200c ͏\\u200c ͏\\u200c ͏\\u200c ͏\\u200c ͏\\u200c ͏\\u200c ͏\\u200c ͏\\u200c ͏\\u200c ͏\\u200c ͏\\u200c ͏\\u200c ͏\\u200c ͏\\u200c ͏\\u200c.', 'Unknown', 'Unknown'), ('3bee07c2-3842-4669-847c-4075b82b9f5e', 'Fabian assigned a task to you ͏\\u200c ͏\\u200c ͏\\u200c ͏\\u200c ͏\\u200c ͏\\u200c ͏\\u200c ͏\\u200c ͏\\u200c ͏\\u200c ͏\\u200c ͏\\u200c ͏\\u200c ͏\\u200c ͏\\u200c ͏\\u200c ͏\\u200c ͏\\u200c ͏\\u200c ͏\\u200c ͏\\u200c ͏\\u200c ͏\\u200c ͏\\u200c ͏\\u200c ͏\\u200c ͏\\u200c ͏\\u200c ͏\\u200c ͏\\u200c ͏\\u200c ͏\\u200c ͏\\u200c ͏\\u200c ͏\\u200c ͏\\u200c ͏\\u200c ͏\\u200c ͏\\u200c ͏\\u200c ͏\\u200c ͏\\u200c ͏\\u200c ͏\\u200c ͏\\u200c ͏\\u200c ͏\\u200c ͏\\u200c ͏\\u200c ͏\\u200c ͏\\u200c ͏\\u200c ͏\\u200c ͏\\u200c ͏\\u200c ͏\\u200c ͏\\u200c ͏\\u200c ͏\\u200c ͏\\u200c ͏\\u200c ͏\\u200c ͏\\u200c ͏\\u200c ͏\\u200c ͏\\u200c ͏\\u200c ͏\\u200c ͏\\u200c ͏\\u200c ͏\\u200c ͏\\u200c ͏\\u200c ͏\\u200c ͏\\u200c.', 'Unknown', 'Unknown')]\n"
     ]
    }
   ],
   "source": [
    "print(mail_summary_from_and_guids)"
   ]
  },
  {
   "cell_type": "code",
   "execution_count": null,
   "id": "7c0fbd00-44ba-4d88-957e-4cb191685c72",
   "metadata": {},
   "outputs": [],
   "source": []
  },
  {
   "cell_type": "markdown",
   "id": "0bb0c3da-ed93-445b-87fa-76eb60e71743",
   "metadata": {},
   "source": [
    "## Add Payloads to Semantic Memory"
   ]
  },
  {
   "cell_type": "code",
   "execution_count": null,
   "id": "0d8ccb18-c337-4834-8cb2-34bc5f997410",
   "metadata": {},
   "outputs": [],
   "source": []
  }
 ],
 "metadata": {
  "kernelspec": {
   "display_name": "espc23",
   "language": "python",
   "name": "espc23"
  },
  "language_info": {
   "codemirror_mode": {
    "name": "ipython",
    "version": 3
   },
   "file_extension": ".py",
   "mimetype": "text/x-python",
   "name": "python",
   "nbconvert_exporter": "python",
   "pygments_lexer": "ipython3",
   "version": "3.11.5"
  }
 },
 "nbformat": 4,
 "nbformat_minor": 5
}
