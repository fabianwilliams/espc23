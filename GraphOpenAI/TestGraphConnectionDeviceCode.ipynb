{
 "cells": [
  {
   "cell_type": "code",
   "execution_count": 4,
   "id": "9939cb09",
   "metadata": {},
   "outputs": [],
   "source": [
    "from dotenv import load_dotenv \n",
    "from azure.identity import DeviceCodeCredential\n",
    "from msgraph import GraphServiceClient\n",
    "import os\n",
    "import asyncio "
   ]
  },
  {
   "cell_type": "code",
   "execution_count": 5,
   "id": "2fc30b76",
   "metadata": {},
   "outputs": [
    {
     "data": {
      "text/plain": [
       "True"
      ]
     },
     "execution_count": 5,
     "metadata": {},
     "output_type": "execute_result"
    }
   ],
   "source": [
    "load_dotenv()"
   ]
  },
  {
   "cell_type": "code",
   "execution_count": 6,
   "id": "191c4b8c",
   "metadata": {},
   "outputs": [],
   "source": [
    "TENANT_ID = os.getenv(\"TENANT_ID\")"
   ]
  },
  {
   "cell_type": "code",
   "execution_count": 7,
   "id": "39e9b30f",
   "metadata": {},
   "outputs": [],
   "source": [
    "CLIENT_ID = os.getenv(\"CLIENT_ID\")"
   ]
  },
  {
   "cell_type": "code",
   "execution_count": 8,
   "id": "232c7384-3c6a-4d70-a261-63c2cbe766a3",
   "metadata": {},
   "outputs": [],
   "source": [
    "graphUserScopes = os.getenv(\"graphUserScopes\").split(' ')"
   ]
  },
  {
   "cell_type": "code",
   "execution_count": 9,
   "id": "0761080e-8ae2-4bce-a2bd-48d1232ad72f",
   "metadata": {},
   "outputs": [
    {
     "name": "stdout",
     "output_type": "stream",
     "text": [
      "48943d42-a075-43c5-8d93-3f2da879c1be\n"
     ]
    }
   ],
   "source": [
    "print(CLIENT_ID)"
   ]
  },
  {
   "cell_type": "code",
   "execution_count": 63,
   "id": "7714c8f0-acff-4355-bdc8-3b2dfb5227c8",
   "metadata": {},
   "outputs": [],
   "source": [
    "fabs = 'fabian@fabster.onmicrosoft.com'"
   ]
  },
  {
   "cell_type": "code",
   "execution_count": 23,
   "id": "3d304a16-7dbc-4b0d-9b06-df920af112b4",
   "metadata": {},
   "outputs": [],
   "source": [
    "## ensure that you have turned on DefaultClientType to Yes in the App Registration"
   ]
  },
  {
   "cell_type": "code",
   "execution_count": 10,
   "id": "3a96b477-9d74-461c-91ad-dc77d7e5dd61",
   "metadata": {},
   "outputs": [
    {
     "name": "stdout",
     "output_type": "stream",
     "text": [
      "['User.Read', 'Mail.Read', 'Mail.Send']\n"
     ]
    }
   ],
   "source": [
    "print(graphUserScopes)"
   ]
  },
  {
   "cell_type": "code",
   "execution_count": 14,
   "id": "87d1c165-7ec9-4cfe-a8eb-44940a3a81a5",
   "metadata": {},
   "outputs": [],
   "source": [
    "credential = DeviceCodeCredential(client_id=CLIENT_ID, tenant_id=TENANT_ID) \n",
    "scopes = graphUserScopes\n",
    "client = GraphServiceClient(credentials=credential, scopes=scopes)"
   ]
  },
  {
   "cell_type": "code",
   "execution_count": 17,
   "id": "e4be0a9d-ab67-47ce-ba1c-899e991e85b4",
   "metadata": {},
   "outputs": [
    {
     "name": "stdout",
     "output_type": "stream",
     "text": [
      "To sign in, use a web browser to open the page https://microsoft.com/devicelogin and enter the code FP8YCR422 to authenticate.\n"
     ]
    }
   ],
   "source": [
    "result = await client.me.get()"
   ]
  },
  {
   "cell_type": "code",
   "execution_count": 19,
   "id": "64fdaf30-0b99-45a1-887c-96a80cf94b95",
   "metadata": {},
   "outputs": [
    {
     "name": "stdout",
     "output_type": "stream",
     "text": [
      "Fabian Williams\n"
     ]
    }
   ],
   "source": [
    "print(result.display_name)"
   ]
  },
  {
   "cell_type": "code",
   "execution_count": 27,
   "id": "33d49999-8580-4557-9b91-216ad6950b66",
   "metadata": {},
   "outputs": [],
   "source": [
    "async def get_user(currUser):\n",
    "    result = await client.users.by_user_id(currUser).get()\n",
    "    if result:\n",
    "        print(result.display_name)"
   ]
  },
  {
   "cell_type": "code",
   "execution_count": 46,
   "id": "6b10058a-9894-4e91-989a-bb34b5a9a2ec",
   "metadata": {},
   "outputs": [
    {
     "name": "stdout",
     "output_type": "stream",
     "text": [
      "Fabian Williams\n"
     ]
    }
   ],
   "source": [
    "await (get_user('fabian@fabster.onmicrosoft.com'))"
   ]
  },
  {
   "cell_type": "code",
   "execution_count": 65,
   "id": "c0df725c-3dd8-4988-8327-ea0cc2f6aadf",
   "metadata": {},
   "outputs": [],
   "source": [
    "async def get_user_messages(currUser):\n",
    "    messages = await (client.users.by_user_id(currUser).messages.get())\n",
    "    if messages and messages.value:\n",
    "        for msg in messages.value:\n",
    "            print(msg.subject, msg.id, msg.from_)"
   ]
  },
  {
   "cell_type": "code",
   "execution_count": 67,
   "id": "740b105a-2091-4310-9c6d-e3373a5a4a01",
   "metadata": {},
   "outputs": [
    {
     "name": "stdout",
     "output_type": "stream",
     "text": [
      "ESPC23: A Thanksgiving Gift for you, Our Customers AAMkADcwMWU2YTM2LWI1ZTktNDczMy05ZjQwLWEyNWFlY2VjMjE2NABGAAAAAAC8UBUHv9EAS4VwL_ItO0crBwBRos8BF0L7Q7-HGirn_CLFAAAAAAEMAABRos8BF0L7Q7-HGirn_CLFAAK94IEEAAA= Recipient(additional_data={}, email_address=EmailAddress(additional_data={}, address='fabian@adotob.com', name='fabian (adotob) williams', odata_type=None), odata_type=None)\n",
      "Microsoft Entra ID Protection Weekly Digest AAMkADcwMWU2YTM2LWI1ZTktNDczMy05ZjQwLWEyNWFlY2VjMjE2NABGAAAAAAC8UBUHv9EAS4VwL_ItO0crBwBRos8BF0L7Q7-HGirn_CLFAAAAAAEMAABRos8BF0L7Q7-HGirn_CLFAAK6sx1rAAA= Recipient(additional_data={}, email_address=EmailAddress(additional_data={}, address='MSSecurity-noreply@microsoft.com', name='Microsoft Security', odata_type=None), odata_type=None)\n",
      "None AAMkADcwMWU2YTM2LWI1ZTktNDczMy05ZjQwLWEyNWFlY2VjMjE2NABGAAAAAAC8UBUHv9EAS4VwL_ItO0crBwBRos8BF0L7Q7-HGirn_CLFAAK5yPgbAABRos8BF0L7Q7-HGirn_CLFAAK5ygqUAAA= None\n",
      "Action recommended: Ensure your resources that interact with Azure services are using TLS 1.2 by 31 October 2024 AAMkADcwMWU2YTM2LWI1ZTktNDczMy05ZjQwLWEyNWFlY2VjMjE2NABGAAAAAAC8UBUHv9EAS4VwL_ItO0crBwBRos8BF0L7Q7-HGirn_CLFAAAAAAEMAABRos8BF0L7Q7-HGirn_CLFAAK5yayrAAA= Recipient(additional_data={}, email_address=EmailAddress(additional_data={}, address='azure-noreply@microsoft.com', name='Microsoft Azure', odata_type=None), odata_type=None)\n",
      "Reminder: You have a pending Partner Center incentive program enrollment invitation AAMkADcwMWU2YTM2LWI1ZTktNDczMy05ZjQwLWEyNWFlY2VjMjE2NABGAAAAAAC8UBUHv9EAS4VwL_ItO0crBwBRos8BF0L7Q7-HGirn_CLFAAAAAAEMAABRos8BF0L7Q7-HGirn_CLFAAK4wlW9AAA= Recipient(additional_data={}, email_address=EmailAddress(additional_data={}, address='microsoft-noreply@microsoft.com', name='Microsoft', odata_type=None), odata_type=None)\n",
      "Your Microsoft invoice G031869778 is ready AAMkADcwMWU2YTM2LWI1ZTktNDczMy05ZjQwLWEyNWFlY2VjMjE2NABGAAAAAAC8UBUHv9EAS4VwL_ItO0crBwBRos8BF0L7Q7-HGirn_CLFAAAAAAEMAABRos8BF0L7Q7-HGirn_CLFAAK2HZIIAAA= Recipient(additional_data={}, email_address=EmailAddress(additional_data={}, address='microsoft-noreply@microsoft.com', name='Microsoft', odata_type=None), odata_type=None)\n",
      "Microsoft Entra ID Protection Weekly Digest AAMkADcwMWU2YTM2LWI1ZTktNDczMy05ZjQwLWEyNWFlY2VjMjE2NABGAAAAAAC8UBUHv9EAS4VwL_ItO0crBwBRos8BF0L7Q7-HGirn_CLFAAAAAAEMAABRos8BF0L7Q7-HGirn_CLFAAK2HZIHAAA= Recipient(additional_data={}, email_address=EmailAddress(additional_data={}, address='MSSecurity-noreply@microsoft.com', name='Microsoft Security', odata_type=None), odata_type=None)\n",
      "Terms and Conditions for Global Campaign GL4179 FY24 Marketplace Transact and Grow AAMkADcwMWU2YTM2LWI1ZTktNDczMy05ZjQwLWEyNWFlY2VjMjE2NABGAAAAAAC8UBUHv9EAS4VwL_ItO0crBwBRos8BF0L7Q7-HGirn_CLFAAAAAAEMAABRos8BF0L7Q7-HGirn_CLFAAKxtxPpAAA= Recipient(additional_data={}, email_address=EmailAddress(additional_data={}, address='msftpc@microsoft.com', name='Microsoft Partner Center', odata_type=None), odata_type=None)\n",
      "Azure AD Identity Protection Weekly Digest AAMkADcwMWU2YTM2LWI1ZTktNDczMy05ZjQwLWEyNWFlY2VjMjE2NABGAAAAAAC8UBUHv9EAS4VwL_ItO0crBwBRos8BF0L7Q7-HGirn_CLFAAAAAAEMAABRos8BF0L7Q7-HGirn_CLFAAKxtxPoAAA= Recipient(additional_data={}, email_address=EmailAddress(additional_data={}, address='azure-noreply@microsoft.com', name='Microsoft Azure', odata_type=None), odata_type=None)\n",
      "Partner Incentives enrollment invitation AAMkADcwMWU2YTM2LWI1ZTktNDczMy05ZjQwLWEyNWFlY2VjMjE2NABGAAAAAAC8UBUHv9EAS4VwL_ItO0crBwBRos8BF0L7Q7-HGirn_CLFAAAAAAEMAABRos8BF0L7Q7-HGirn_CLFAAKw35N-AAA= Recipient(additional_data={}, email_address=EmailAddress(additional_data={}, address='msftpc@microsoft.com', name='Microsoft Partner Center', odata_type=None), odata_type=None)\n"
     ]
    }
   ],
   "source": [
    "await get_user_messages(fabs)"
   ]
  },
  {
   "cell_type": "code",
   "execution_count": null,
   "id": "8bbe5c4a-b4b2-48f5-b11c-fd153a224ff4",
   "metadata": {},
   "outputs": [],
   "source": []
  }
 ],
 "metadata": {
  "kernelspec": {
   "display_name": "espc",
   "language": "python",
   "name": "espc"
  },
  "language_info": {
   "codemirror_mode": {
    "name": "ipython",
    "version": 3
   },
   "file_extension": ".py",
   "mimetype": "text/x-python",
   "name": "python",
   "nbconvert_exporter": "python",
   "pygments_lexer": "ipython3",
   "version": "3.11.5"
  }
 },
 "nbformat": 4,
 "nbformat_minor": 5
}
