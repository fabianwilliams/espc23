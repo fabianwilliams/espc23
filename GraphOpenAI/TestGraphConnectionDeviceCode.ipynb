{
 "cells": [
  {
   "cell_type": "code",
   "execution_count": null,
   "id": "e84222f7-a1a4-4318-8f48-c6a90d159aa6",
   "metadata": {},
   "outputs": [],
   "source": [
    "#!pip install msgraph-sdk==1.0.0a16"
   ]
  },
  {
   "cell_type": "code",
   "execution_count": null,
   "id": "884a610c-353b-478d-8731-f30ee1886864",
   "metadata": {},
   "outputs": [],
   "source": [
    "#!pip install msgraph-core==1.0.0a4"
   ]
  },
  {
   "cell_type": "code",
   "execution_count": 2,
   "id": "9939cb09",
   "metadata": {},
   "outputs": [
    {
     "ename": "ImportError",
     "evalue": "cannot import name 'GraphServiceClient' from 'msgraph' (unknown location)",
     "output_type": "error",
     "traceback": [
      "\u001b[0;31m---------------------------------------------------------------------------\u001b[0m",
      "\u001b[0;31mImportError\u001b[0m                               Traceback (most recent call last)",
      "Cell \u001b[0;32mIn[2], line 3\u001b[0m\n\u001b[1;32m      1\u001b[0m \u001b[38;5;28;01mfrom\u001b[39;00m \u001b[38;5;21;01mdotenv\u001b[39;00m \u001b[38;5;28;01mimport\u001b[39;00m load_dotenv \n\u001b[1;32m      2\u001b[0m \u001b[38;5;28;01mfrom\u001b[39;00m \u001b[38;5;21;01mazure\u001b[39;00m\u001b[38;5;21;01m.\u001b[39;00m\u001b[38;5;21;01midentity\u001b[39;00m \u001b[38;5;28;01mimport\u001b[39;00m DeviceCodeCredential\n\u001b[0;32m----> 3\u001b[0m \u001b[38;5;28;01mfrom\u001b[39;00m \u001b[38;5;21;01mmsgraph\u001b[39;00m \u001b[38;5;28;01mimport\u001b[39;00m GraphServiceClient\n\u001b[1;32m      4\u001b[0m \u001b[38;5;28;01mimport\u001b[39;00m \u001b[38;5;21;01mos\u001b[39;00m\n\u001b[1;32m      5\u001b[0m \u001b[38;5;28;01mimport\u001b[39;00m \u001b[38;5;21;01masyncio\u001b[39;00m \n",
      "\u001b[0;31mImportError\u001b[0m: cannot import name 'GraphServiceClient' from 'msgraph' (unknown location)"
     ]
    }
   ],
   "source": [
    "from dotenv import load_dotenv \n",
    "from azure.identity import DeviceCodeCredential\n",
    "from msgraph import GraphServiceClient\n",
    "import os\n",
    "import asyncio "
   ]
  },
  {
   "cell_type": "code",
   "execution_count": null,
   "id": "062da045-9a25-482d-979f-1c7a51f890da",
   "metadata": {},
   "outputs": [],
   "source": []
  },
  {
   "cell_type": "code",
   "execution_count": null,
   "id": "2fc30b76",
   "metadata": {},
   "outputs": [],
   "source": [
    "load_dotenv()"
   ]
  },
  {
   "cell_type": "code",
   "execution_count": null,
   "id": "191c4b8c",
   "metadata": {},
   "outputs": [],
   "source": [
    "TENANT_ID = os.getenv(\"TENANT_ID\")"
   ]
  },
  {
   "cell_type": "code",
   "execution_count": null,
   "id": "39e9b30f",
   "metadata": {},
   "outputs": [],
   "source": [
    "CLIENT_ID = os.getenv(\"CLIENT_ID\")"
   ]
  },
  {
   "cell_type": "code",
   "execution_count": null,
   "id": "232c7384-3c6a-4d70-a261-63c2cbe766a3",
   "metadata": {},
   "outputs": [],
   "source": [
    "graphUserScopes = os.getenv(\"graphUserScopes\").split(' ')"
   ]
  },
  {
   "cell_type": "code",
   "execution_count": null,
   "id": "0761080e-8ae2-4bce-a2bd-48d1232ad72f",
   "metadata": {},
   "outputs": [],
   "source": [
    "print(CLIENT_ID)"
   ]
  },
  {
   "cell_type": "code",
   "execution_count": null,
   "id": "7714c8f0-acff-4355-bdc8-3b2dfb5227c8",
   "metadata": {},
   "outputs": [],
   "source": [
    "fabs = 'fabian@fabster.onmicrosoft.com'"
   ]
  },
  {
   "cell_type": "code",
   "execution_count": null,
   "id": "17e20298-bf85-45bd-b0cf-d3862b779d89",
   "metadata": {},
   "outputs": [],
   "source": [
    "adele = 'adelev@fabster.onmicrosoft.com'"
   ]
  },
  {
   "cell_type": "code",
   "execution_count": null,
   "id": "3d304a16-7dbc-4b0d-9b06-df920af112b4",
   "metadata": {},
   "outputs": [],
   "source": [
    "## ensure that you have turned on DefaultClientType to Yes in the App Registration"
   ]
  },
  {
   "cell_type": "code",
   "execution_count": null,
   "id": "3a96b477-9d74-461c-91ad-dc77d7e5dd61",
   "metadata": {},
   "outputs": [],
   "source": [
    "print(graphUserScopes)"
   ]
  },
  {
   "cell_type": "code",
   "execution_count": null,
   "id": "87d1c165-7ec9-4cfe-a8eb-44940a3a81a5",
   "metadata": {},
   "outputs": [],
   "source": [
    "credential = DeviceCodeCredential(client_id=CLIENT_ID, tenant_id=TENANT_ID) \n",
    "scopes = graphUserScopes\n",
    "client = GraphServiceClient(credentials=credential, scopes=scopes)"
   ]
  },
  {
   "cell_type": "code",
   "execution_count": null,
   "id": "e4be0a9d-ab67-47ce-ba1c-899e991e85b4",
   "metadata": {},
   "outputs": [],
   "source": [
    "result = await client.me.get()"
   ]
  },
  {
   "cell_type": "code",
   "execution_count": null,
   "id": "64fdaf30-0b99-45a1-887c-96a80cf94b95",
   "metadata": {},
   "outputs": [],
   "source": [
    "print(result.display_name)"
   ]
  },
  {
   "cell_type": "code",
   "execution_count": null,
   "id": "33d49999-8580-4557-9b91-216ad6950b66",
   "metadata": {},
   "outputs": [],
   "source": [
    "async def get_user(currUser):\n",
    "    result = await client.users.by_user_id(currUser).get()\n",
    "    if result:\n",
    "        print(result.display_name)"
   ]
  },
  {
   "cell_type": "code",
   "execution_count": null,
   "id": "6b10058a-9894-4e91-989a-bb34b5a9a2ec",
   "metadata": {},
   "outputs": [],
   "source": [
    "await (get_user('adelev@fabster.onmicrosoft.com'))"
   ]
  },
  {
   "cell_type": "code",
   "execution_count": null,
   "id": "c0df725c-3dd8-4988-8327-ea0cc2f6aadf",
   "metadata": {},
   "outputs": [],
   "source": [
    "async def get_user_messages(currUser):\n",
    "    messages = await (client.users.by_user_id(currUser).messages.get())\n",
    "    if messages and messages.value:\n",
    "        for msg in messages.value:\n",
    "            print(msg.subject, msg.id, msg.from_)"
   ]
  },
  {
   "cell_type": "code",
   "execution_count": null,
   "id": "740b105a-2091-4310-9c6d-e3373a5a4a01",
   "metadata": {},
   "outputs": [],
   "source": [
    "await get_user_messages(fabs)"
   ]
  },
  {
   "cell_type": "code",
   "execution_count": null,
   "id": "8bbe5c4a-b4b2-48f5-b11c-fd153a224ff4",
   "metadata": {},
   "outputs": [],
   "source": []
  }
 ],
 "metadata": {
  "kernelspec": {
   "display_name": "espc",
   "language": "python",
   "name": "espc"
  },
  "language_info": {
   "codemirror_mode": {
    "name": "ipython",
    "version": 3
   },
   "file_extension": ".py",
   "mimetype": "text/x-python",
   "name": "python",
   "nbconvert_exporter": "python",
   "pygments_lexer": "ipython3",
   "version": "3.11.5"
  }
 },
 "nbformat": 4,
 "nbformat_minor": 5
}
