{
 "cells": [
  {
   "cell_type": "code",
   "execution_count": 1,
   "id": "2ecf4cdd-8775-4eaa-aae6-e0946b8ad82a",
   "metadata": {},
   "outputs": [],
   "source": [
    "from typing import Tuple\n",
    "\n",
    "import semantic_kernel as sk\n",
    "from semantic_kernel.connectors.ai.open_ai import OpenAIChatCompletion, OpenAITextEmbedding, AzureChatCompletion, AzureTextEmbedding"
   ]
  },
  {
   "cell_type": "code",
   "execution_count": 2,
   "id": "21ccb5dc-7442-4a32-865c-e3013a2c3e74",
   "metadata": {},
   "outputs": [],
   "source": [
    "kernel = sk.Kernel()"
   ]
  },
  {
   "cell_type": "code",
   "execution_count": 3,
   "id": "f5edc8d8-54a8-43d7-81e2-344351a2b4e6",
   "metadata": {},
   "outputs": [
    {
     "data": {
      "text/plain": [
       "{'recall': <semantic_kernel.orchestration.sk_function.SKFunction at 0x107a37810>,\n",
       " 'save': <semantic_kernel.orchestration.sk_function.SKFunction at 0x107a37410>}"
      ]
     },
     "execution_count": 3,
     "metadata": {},
     "output_type": "execute_result"
    }
   ],
   "source": [
    "api_key, org_id = sk.openai_settings_from_dot_env()\n",
    "kernel.add_chat_service(\"chat-gpt\", OpenAIChatCompletion(\"gpt-3.5-turbo\", api_key, org_id))\n",
    "kernel.add_text_embedding_generation_service(\"ada\", OpenAITextEmbedding(\"text-embedding-ada-002\", api_key, org_id))\n",
    "\n",
    "kernel.register_memory_store(memory_store=sk.memory.VolatileMemoryStore())\n",
    "kernel.import_skill(sk.core_skills.TextMemorySkill())"
   ]
  },
  {
   "cell_type": "code",
   "execution_count": 4,
   "id": "1977ff78-4b5a-4fcc-b7aa-688ec29d3ef3",
   "metadata": {},
   "outputs": [
    {
     "name": "stdout",
     "output_type": "stream",
     "text": [
      "org-wYMNsr9TXbJmVu2K24SB1xbk\n"
     ]
    }
   ],
   "source": [
    "print(org_id)"
   ]
  },
  {
   "cell_type": "code",
   "execution_count": 5,
   "id": "6529237b-13db-4304-a952-237393252b07",
   "metadata": {},
   "outputs": [],
   "source": [
    "async def populate_memory(kernel: sk.Kernel) -> None:\n",
    "    # Add some Fake Graph Payload Items to the semantic memory\n",
    "    await kernel.memory.save_information_async(\n",
    "        \"aboutMe\", id=\"id1\", text=\"My name is Fabian Williams\"\n",
    "    )\n",
    "    await kernel.memory.save_information_async(\n",
    "        \"aboutMe\", id=\"id2\", text=\"I currently work as a Product Manager on the Microsoft Graph Team\"\n",
    "    )\n",
    "    await kernel.memory.save_information_async(\n",
    "        \"aboutMe\", id=\"id3\", text=\"I've lived in Maryland since 1998\"\n",
    "    )\n",
    "    await kernel.memory.save_information_async(\n",
    "        \"aboutMe\", id=\"id4\", text=\"I spoken at the European SharePoint and Azure Conference about 6 times now\"\n",
    "    )"
   ]
  },
  {
   "cell_type": "code",
   "execution_count": 10,
   "id": "49cd664b-ccf0-4797-874f-e23081ea4918",
   "metadata": {},
   "outputs": [],
   "source": [
    "await populate_memory(kernel)"
   ]
  },
  {
   "cell_type": "code",
   "execution_count": 11,
   "id": "7c770a8d-4bcd-423c-a6f3-06bcd858a011",
   "metadata": {},
   "outputs": [],
   "source": [
    "async def search_fake_graph_memory(kernel: sk.Kernel) -> None:\n",
    "    questions = [\n",
    "        \"what's my name\",\n",
    "        \"where do I live?\",\n",
    "        \"Whats my relationship with the conference?\",\n",
    "        \"what do I do for work\",\n",
    "    ]\n",
    "\n",
    "    for question in questions:\n",
    "        print(f\"Question: {question}\")\n",
    "        result = await kernel.memory.search_async(\"aboutMe\", question)\n",
    "        if result:\n",
    "            print(f\"Answer: {result[0].text}\\n\")\n",
    "        else:\n",
    "            print(\"No answers found in memory!\")"
   ]
  },
  {
   "cell_type": "code",
   "execution_count": 12,
   "id": "e0f666b1-237f-431f-a892-b17050bb9b1b",
   "metadata": {},
   "outputs": [
    {
     "name": "stdout",
     "output_type": "stream",
     "text": [
      "Question: what's my name\n",
      "Answer: My name is Fabian Williams\n",
      "\n",
      "Question: where do I live?\n",
      "Answer: I've lived in Maryland since 1998\n",
      "\n",
      "Question: Whats my relationship with the conference?\n",
      "Answer: I spoken at the European SharePoint and Azure Conference about 6 times now\n",
      "\n",
      "Question: what do I do for work\n",
      "Answer: I currently work as a Product Manager on the Microsoft Graph Team\n",
      "\n"
     ]
    }
   ],
   "source": [
    "await search_fake_graph_memory(kernel)"
   ]
  },
  {
   "cell_type": "code",
   "execution_count": null,
   "id": "799b08e9-5a3b-445b-a3e0-03a1f9df3151",
   "metadata": {},
   "outputs": [],
   "source": []
  }
 ],
 "metadata": {
  "kernelspec": {
   "display_name": "espc",
   "language": "python",
   "name": "espc"
  },
  "language_info": {
   "codemirror_mode": {
    "name": "ipython",
    "version": 3
   },
   "file_extension": ".py",
   "mimetype": "text/x-python",
   "name": "python",
   "nbconvert_exporter": "python",
   "pygments_lexer": "ipython3",
   "version": "3.11.5"
  }
 },
 "nbformat": 4,
 "nbformat_minor": 5
}
