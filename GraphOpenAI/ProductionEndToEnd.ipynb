{
 "cells": [
  {
   "cell_type": "code",
   "execution_count": 35,
   "id": "86dd7f7b",
   "metadata": {},
   "outputs": [],
   "source": [
    "from dotenv import load_dotenv \n",
    "from azure.identity import DeviceCodeCredential\n",
    "from msgraph import GraphServiceClient\n",
    "from msgraph.generated.users.item.messages.messages_request_builder import MessagesRequestBuilder\n",
    "from msgraph.generated.search.query.query_post_request_body import QueryPostRequestBody\n",
    "from msgraph.generated.search.query.query_request_builder import QueryRequestBuilder\n",
    "from msgraph.generated.search.search_request_builder import SearchRequestBuilder\n",
    "from msgraph.generated.models.search_request import SearchRequest\n",
    "from msgraph.generated.models.entity_type import EntityType\n",
    "from msgraph.generated.models.search_query import SearchQuery\n",
    "from msgraph.generated.models.search_response import SearchResponse\n",
    "import os\n",
    "import json\n",
    "import asyncio \n",
    "import uuid"
   ]
  },
  {
   "cell_type": "code",
   "execution_count": 36,
   "id": "883d978b",
   "metadata": {},
   "outputs": [],
   "source": [
    "from typing import Tuple\n",
    "\n",
    "import semantic_kernel as sk\n",
    "from semantic_kernel.connectors.ai.open_ai import OpenAIChatCompletion, OpenAITextEmbedding"
   ]
  },
  {
   "cell_type": "code",
   "execution_count": 37,
   "id": "425681c4",
   "metadata": {},
   "outputs": [
    {
     "data": {
      "text/plain": [
       "{'recall': <semantic_kernel.orchestration.sk_function.SKFunction at 0x134af0490>,\n",
       " 'save': <semantic_kernel.orchestration.sk_function.SKFunction at 0x134af48d0>}"
      ]
     },
     "execution_count": 37,
     "metadata": {},
     "output_type": "execute_result"
    }
   ],
   "source": [
    "kernel = sk.Kernel()\n",
    "# Configure AI service used by the kernel\n",
    "api_key, org_id = sk.openai_settings_from_dot_env()\n",
    "#kernel.add_chat_service(\"chat-gpt\", OpenAIChatCompletion(\"gpt-3.5-turbo\", api_key, org_id))\n",
    "kernel.add_chat_service(\"chat-gpt\", OpenAIChatCompletion(\"gpt-4\", api_key, org_id))\n",
    "kernel.add_text_embedding_generation_service(\"ada\", OpenAITextEmbedding(\"text-embedding-ada-002\", api_key, org_id))\n",
    "\n",
    "kernel.register_memory_store(memory_store=sk.memory.VolatileMemoryStore())\n",
    "kernel.import_skill(sk.core_skills.TextMemorySkill())"
   ]
  },
  {
   "cell_type": "code",
   "execution_count": 38,
   "id": "fc6ca17d",
   "metadata": {},
   "outputs": [
    {
     "data": {
      "text/plain": [
       "True"
      ]
     },
     "execution_count": 38,
     "metadata": {},
     "output_type": "execute_result"
    }
   ],
   "source": [
    "load_dotenv()"
   ]
  },
  {
   "cell_type": "code",
   "execution_count": 39,
   "id": "9d26d360",
   "metadata": {},
   "outputs": [],
   "source": [
    "COLLECTION = \"ESPC23\""
   ]
  },
  {
   "cell_type": "code",
   "execution_count": 40,
   "id": "5363bb43",
   "metadata": {},
   "outputs": [
    {
     "name": "stdout",
     "output_type": "stream",
     "text": [
      "['User.Read', 'Mail.ReadWrite', 'Chat.ReadWrite', 'Calendars.Read', 'Files.Read.All', 'Sites.Read.All']\n"
     ]
    }
   ],
   "source": [
    "TENANT_ID = os.getenv(\"TENANT_ID\")\n",
    "CLIENT_ID = os.getenv(\"CLIENT_ID\")\n",
    "graphUserScopes = os.getenv(\"graphUserScopes\").split(' ')\n",
    "gabby = '9c72876c-b0ec-41b3-8079-8ebe216daa34'\n",
    "print(graphUserScopes)"
   ]
  },
  {
   "cell_type": "code",
   "execution_count": 41,
   "id": "0e6c481c",
   "metadata": {},
   "outputs": [],
   "source": [
    "credential = DeviceCodeCredential(client_id=CLIENT_ID, tenant_id=TENANT_ID) \n",
    "scopes = graphUserScopes\n",
    "client = GraphServiceClient(credentials=credential, scopes=scopes)"
   ]
  },
  {
   "cell_type": "code",
   "execution_count": 44,
   "id": "83e1d6ae",
   "metadata": {},
   "outputs": [],
   "source": [
    "#this will get the client\n",
    "result = await client.me.get()"
   ]
  },
  {
   "cell_type": "code",
   "execution_count": 45,
   "id": "84b1ead6",
   "metadata": {},
   "outputs": [
    {
     "name": "stdout",
     "output_type": "stream",
     "text": [
      "Gabby Gabgab\n"
     ]
    }
   ],
   "source": [
    "print(result.display_name)"
   ]
  },
  {
   "cell_type": "markdown",
   "id": "178f7eed",
   "metadata": {},
   "source": [
    "## Do the Query and Get the Intent of the User Asking the Question (UserPrompt)"
   ]
  },
  {
   "cell_type": "code",
   "execution_count": 46,
   "id": "c7fe4051",
   "metadata": {},
   "outputs": [],
   "source": [
    "# note: Using a File to Run these Plugins instead of Inline to \n",
    "# show a different way\n",
    "plugins_directory = \"Plugins/\"\n",
    "intentFunctions = kernel.import_semantic_skill_from_directory(plugins_directory, \"HoldMyHandPlugin\")\n",
    "\n",
    "getIntentFunction = intentFunctions[\"GetIntent\"]"
   ]
  },
  {
   "cell_type": "code",
   "execution_count": 47,
   "id": "0d0f5ee4",
   "metadata": {},
   "outputs": [],
   "source": [
    "userIntent = getIntentFunction(\"What did I accomplish this weekend with Gabby in Antwerp regarding our ESPC demo?\")"
   ]
  },
  {
   "cell_type": "code",
   "execution_count": 48,
   "id": "43d41333",
   "metadata": {},
   "outputs": [
    {
     "name": "stdout",
     "output_type": "stream",
     "text": [
      "{'subject': 'Gabby', 'action': 'know what was accomplished during the ESPC demo in Antwerp'}\n"
     ]
    }
   ],
   "source": [
    "subject_data = json.loads(str(userIntent))\n",
    "print(subject_data)"
   ]
  },
  {
   "cell_type": "code",
   "execution_count": 49,
   "id": "c17ddb9c",
   "metadata": {},
   "outputs": [],
   "source": [
    "subject = subject_data['subject']\n",
    "action = subject_data['action']"
   ]
  },
  {
   "cell_type": "code",
   "execution_count": 50,
   "id": "71d6be5d",
   "metadata": {},
   "outputs": [
    {
     "name": "stdout",
     "output_type": "stream",
     "text": [
      "Gabby\n"
     ]
    }
   ],
   "source": [
    "print(subject)"
   ]
  },
  {
   "cell_type": "code",
   "execution_count": 51,
   "id": "22a70f24",
   "metadata": {},
   "outputs": [
    {
     "name": "stdout",
     "output_type": "stream",
     "text": [
      "know what was accomplished during the ESPC demo in Antwerp\n"
     ]
    }
   ],
   "source": [
    "print(action)"
   ]
  },
  {
   "cell_type": "markdown",
   "id": "152dde2d",
   "metadata": {},
   "source": [
    "## Work with Teams(Chat) Search Query Endpoint"
   ]
  },
  {
   "cell_type": "code",
   "execution_count": 52,
   "id": "462efe27",
   "metadata": {},
   "outputs": [],
   "source": [
    "request_body = QueryPostRequestBody(\n",
    "\trequests = [\n",
    "\t\tSearchRequest(\n",
    "\t\t\tentity_types = [\n",
    "\t\t\t\tEntityType.ChatMessage\n",
    "\t\t\t],\n",
    "\t\t\tquery = SearchQuery(\n",
    "\t\t\t\tquery_string = subject,\n",
    "\t\t\t),\n",
    "\t\t),\n",
    "\t],\n",
    ")\n",
    "\n",
    "chat_result = await client.search.query.post(request_body)"
   ]
  },
  {
   "cell_type": "code",
   "execution_count": 53,
   "id": "b94f0099",
   "metadata": {},
   "outputs": [],
   "source": [
    "chat_data = chat_result.value"
   ]
  },
  {
   "cell_type": "code",
   "execution_count": 54,
   "id": "ba4b5cee",
   "metadata": {},
   "outputs": [
    {
     "name": "stdout",
     "output_type": "stream",
     "text": [
      "('d0093f2e-754b-4a52-ad73-7c7f7930dcf5', 'I prefer dinner in thanksgiving dinner amsterdam this year over thanksgiving dinner in sweden last year...')\n",
      "('2b279177-0e90-4826-a495-b30d569436bc', \"I can't get over the thanksgiving dinner we had in amsterdam.\")\n",
      "('66f751fa-86ee-4d28-b865-284e691750e1', '\"id\": \"9c72876c-b0ec-41b3-8079-8ebe216daa34\"')\n",
      "('5446c9ee-8b06-4357-ba1e-cb4b978da529', 'Fabian Williams  lets practice the demo while we are in Antwerp  sounds like a plan')\n",
      "('d909f8bf-3507-48b4-909b-0ccf2473af69', \"Fabian Williams     hello Gabby, are you prepared for the ChatGPT session with Python?         yes! i'm very excited.\")\n",
      "('90263832-be5c-406d-b5ab-16bc0837bf7d', 'lets practice the demo while we are in Antwerp...')\n",
      "('52c7b758-868a-4386-9e09-3989c6fe82d6', 'hello Gabby, are you prepared for the ChatGPT session with Python?')\n"
     ]
    }
   ],
   "source": [
    "##Testing with GUID\n",
    "search_response = chat_data[0] \n",
    "\n",
    "# Initialize an empty list to store summaries, chat IDs, and generated GUIDs\n",
    "summaries_chat_ids_and_guids = []\n",
    "\n",
    "# Iterate over hits_containers in the SearchResponse object\n",
    "for hits_container in search_response.hits_containers:\n",
    "    # Iterate over each hit in the container\n",
    "    for hit in hits_container.hits:\n",
    "        # Extract the summary\n",
    "        summary = hit.summary\n",
    "\n",
    "        # Extract the chatId from additional_data\n",
    "        chat_id = hit.resource.additional_data.get('chatId', 'Unknown')\n",
    "\n",
    "        # Generate a unique GUID for each hit\n",
    "        guid = str(uuid.uuid4())\n",
    "\n",
    "        # Append the chatId, summary, and GUID as a tuple to the list\n",
    "        summaries_chat_ids_and_guids.append((guid, summary))\n",
    "\n",
    "# Now 'summaries_chat_ids_and_guids' contains the chatId, summary, and a unique GUID for each search hit\n",
    "for item in summaries_chat_ids_and_guids:\n",
    "    await kernel.memory.save_information_async(\"ESPC23\", id=guid, text=summary)\n",
    "    print(item)\n",
    "\n",
    "                                            "
   ]
  },
  {
   "cell_type": "code",
   "execution_count": 20,
   "id": "d9e820b8",
   "metadata": {},
   "outputs": [
    {
     "name": "stdout",
     "output_type": "stream",
     "text": [
      "[('2da2acc0-5439-40e6-8f8b-556ecbfe467e', 'I prefer dinner in thanksgiving dinner amsterdam this year over thanksgiving dinner in sweden last year...'), ('c333671d-cfff-44ba-8e92-aa7b71199602', \"I can't get over the thanksgiving dinner we had in amsterdam.\"), ('e4354670-6da5-44b2-8a09-8c6387f4efde', '\"id\": \"9c72876c-b0ec-41b3-8079-8ebe216daa34\"'), ('4df53692-b2e7-4076-8eba-6dbe2a1c5ae9', 'Fabian Williams  lets practice the demo while we are in Antwerp  sounds like a plan'), ('2c980560-01f7-41ca-bc9d-582e6b5839b1', \"Fabian Williams     hello Gabby, are you prepared for the ChatGPT session with Python?         yes! i'm very excited.\"), ('6e0b3e03-e932-48e7-9ed2-da895f3b469f', 'lets practice the demo while we are in Antwerp...'), ('a810da58-7be1-4048-be5e-585be616ce39', 'hello Gabby, are you prepared for the ChatGPT session with Python?')]\n"
     ]
    }
   ],
   "source": [
    "print(summaries_chat_ids_and_guids)"
   ]
  },
  {
   "cell_type": "markdown",
   "id": "fa860da3",
   "metadata": {},
   "source": [
    "## Work with Drives(Files) Search Query Endpoint"
   ]
  },
  {
   "cell_type": "code",
   "execution_count": 21,
   "id": "a2ca5097",
   "metadata": {},
   "outputs": [],
   "source": [
    "request_body = QueryPostRequestBody(\n",
    "\trequests = [\n",
    "\t\tSearchRequest(\n",
    "\t\t\tentity_types = [\n",
    "\t\t\t\tEntityType.DriveItem\n",
    "\t\t\t],\n",
    "\t\t\tquery = SearchQuery(\n",
    "\t\t\t\tquery_string = subject,\n",
    "\t\t\t),\n",
    "\t\t),\n",
    "\t],\n",
    ")\n",
    "\n",
    "drive_result = await client.search.query.post(request_body)"
   ]
  },
  {
   "cell_type": "code",
   "execution_count": 22,
   "id": "f61a7c84",
   "metadata": {},
   "outputs": [],
   "source": [
    "drive_data = drive_result.value\n",
    "#print(drive_data)"
   ]
  },
  {
   "cell_type": "code",
   "execution_count": 23,
   "id": "0fa868c5",
   "metadata": {},
   "outputs": [
    {
     "name": "stdout",
     "output_type": "stream",
     "text": [
      "('b0be1a18-1af4-4e7d-b637-26004d2078d0', 'CollabSummit2024_GabbySpeaking.docx')\n",
      "('acb2d613-4012-45b7-a8b5-fae4c0771570', 'Apps')\n",
      "('47b6266a-06d4-4f96-8909-2a006299a9ff', 'ProjectRoundtreeStatusReport.docx')\n",
      "('13e108aa-470e-4fa0-ac4b-a2deed75ad68', 'HowToGainAccessToStudyGroup.docx')\n"
     ]
    }
   ],
   "source": [
    "try:\n",
    "    drive_search_response = drive_data[0]  # Assuming there's only one SearchResponse object in the list\n",
    "\n",
    "    # Initialize an empty list to store summaries, from information, and generated GUIDs\n",
    "    drive_summary_from_and_guids = []\n",
    "    drive_narrative = []\n",
    "\n",
    "    if drive_search_response:\n",
    "        # Iterate over hits_containers in the SearchResponse object\n",
    "        for drive_hits_container in drive_search_response.hits_containers:\n",
    "            # Iterate over each hit in the container\n",
    "            for drive_hit in drive_hits_container.hits:\n",
    "                # Extract the summary\n",
    "                drive_summary = drive_hit.summary\n",
    "\n",
    "                # Extract the 'from' information from additional_data\n",
    "                from_data = drive_hit.resource.additional_data.get('from', {}).get('emailAddress', {})\n",
    "                from_name = from_data.get('name', 'Unknown')\n",
    "                from_email = from_data.get('address', 'Unknown')\n",
    "                file_name = getattr(drive_hit.resource, 'name', 'Unknown')\n",
    "                user_email = from_data.get('email', 'Unknown')\n",
    "\n",
    "                # Generate a unique GUID for each hit\n",
    "                drive_guid = str(uuid.uuid4())\n",
    "\n",
    "                # Append the summary, 'from' information, and GUID as a tuple to the list\n",
    "                drive_summary_from_and_guids.append((drive_guid, drive_summary, from_name, from_email))\n",
    "                drive_narrative.append((drive_guid, file_name))\n",
    "except Exception as e:\n",
    "    print(f\"An error occurred: {e}\")\n",
    "\n",
    "# Now 'drive_summary_from_and_guids' contains the summary, from information, and a unique GUID for each search hit\n",
    "for item in drive_narrative:\n",
    "    await kernel.memory.save_information_async(\"ESPC23\", id=drive_guid, text=file_name)\n",
    "    print(item)\n",
    "\n"
   ]
  },
  {
   "cell_type": "code",
   "execution_count": 24,
   "id": "b6734a8b",
   "metadata": {},
   "outputs": [
    {
     "name": "stdout",
     "output_type": "stream",
     "text": [
      "[('b0be1a18-1af4-4e7d-b637-26004d2078d0', 'CollabSummit2024_GabbySpeaking.docx'), ('acb2d613-4012-45b7-a8b5-fae4c0771570', 'Apps'), ('47b6266a-06d4-4f96-8909-2a006299a9ff', 'ProjectRoundtreeStatusReport.docx'), ('13e108aa-470e-4fa0-ac4b-a2deed75ad68', 'HowToGainAccessToStudyGroup.docx')]\n"
     ]
    }
   ],
   "source": [
    "print(drive_narrative)"
   ]
  },
  {
   "cell_type": "markdown",
   "id": "acbea2e4",
   "metadata": {},
   "source": [
    "## Work with Messages(Email) Search Query Endpoint"
   ]
  },
  {
   "cell_type": "code",
   "execution_count": 25,
   "id": "ffd8ddf6",
   "metadata": {},
   "outputs": [],
   "source": [
    "request_body = QueryPostRequestBody(\n",
    "\trequests = [\n",
    "\t\tSearchRequest(\n",
    "\t\t\tentity_types = [\n",
    "\t\t\t\tEntityType.Message\n",
    "\t\t\t],\n",
    "\t\t\tquery = SearchQuery(\n",
    "\t\t\t\tquery_string = subject,\n",
    "\t\t\t),\n",
    "\t\t),\n",
    "\t],\n",
    ")\n",
    "\n",
    "mail_result = await client.search.query.post(request_body)"
   ]
  },
  {
   "cell_type": "code",
   "execution_count": 26,
   "id": "48598f79",
   "metadata": {},
   "outputs": [],
   "source": [
    "mail_data = mail_result.value"
   ]
  },
  {
   "cell_type": "code",
   "execution_count": 27,
   "id": "1ff3a986",
   "metadata": {},
   "outputs": [
    {
     "name": "stdout",
     "output_type": "stream",
     "text": [
      "('a3dba3fd-11d3-49f2-92b6-4c98b2ccd594', \"Fabian Williams shared a file with you  Here's the document that Fabian Williams shared with you.   ProjectRoundtreeStatusReport   This link will work for anyone.  Open   Privacy...\", 'Unknown', 'Unknown')\n",
      "('5524525f-89dc-4d32-bf1a-fb62e29203ac', \"Fabian Williams shared a file with you   Here's the document that Fabian Williams shared with you.   HowToGainAccessToStudyGroup  1 min to read this.   This link will work for...\", 'Unknown', 'Unknown')\n",
      "('3cf7c94d-87a3-47bf-81f7-769cfa4d79a9', 'From: Microsoft <microsoft-noreply@microsoft.com> Sent: Thursday, November 9, 2023 8:15 PM To: Fabian Williams <fabian@fabster.onmicrosoft.com> Subject: Your Microsoft invoice...', 'Unknown', 'Unknown')\n",
      "('33824d6a-9041-4cf2-b1d8-8e48a7a8aec6', 'Private to you Hi, <c0>Gabby</c0> Gabgab, Welcome to your new digest from Microsoft Viva Work smarter with Microsoft Viva Insights Explore insights on your work patterns in areas including...', 'Unknown', 'Unknown')\n",
      "('d8350d55-a2f1-47aa-97c6-8d9706729f71', 'Hello Attendees in our Denmark Session!', 'Unknown', 'Unknown')\n",
      "('2185e567-c53b-46fd-8fbf-6f37d13cca4f', 'Hello Attendees in our Denmark Session!', 'Unknown', 'Unknown')\n",
      "('bbc51b5b-6d63-46d1-832e-2f202abc7b41', \"here's a HAPPY MAIL :)...\", 'Unknown', 'Unknown')\n",
      "('c3909a54-f89c-4dca-a6c8-1491ab1c65f5', 'Hi, I‘m not yet sure if I am happy about the session at the moment. It is hard to think about being happy, if you do not know what to expect. Thinkibg about it this makes me angry...', 'Unknown', 'Unknown')\n",
      "('b7ed2e79-9264-4c1a-a930-16cdf3df8028', 'Hi This day will be a good day to learn new tech 😊 Best Martin...', 'Unknown', 'Unknown')\n",
      "('a54f798e-6b2c-4241-a0b4-23ba0922ad04', \"Hi <c0>Gabby</c0>, Why on earth you using Anaconda?! I'm angry! Lmao! 😋 Paul Sent from Outlook for iOS ...\", 'Unknown', 'Unknown')\n",
      "('b5e10971-3f9d-40ed-b176-da114bb000a5', 'I am so happy that you can see how angry I am. Sendt fra min iPhone...', 'Unknown', 'Unknown')\n",
      "('e48882ec-9558-4e47-add8-8a0a768679ef', 'But really eager to get to lunch! Best, Robert Få Outlook for Android...', 'Unknown', 'Unknown')\n",
      "('cd8c8ec2-554d-431c-8bad-d083d66cb114', 'Hi <c0>Gabby</c0>, Thank you for delivering an awesome session! Out of interest why Anaconda? Paul Sent from Outlook for iOS ...', 'Unknown', 'Unknown')\n",
      "('dc2fd82a-5ee1-410e-89af-e6ca1a2644e0', 'Hello Attendees in our Denmark Session!', 'Unknown', 'Unknown')\n",
      "('06a1cbd2-e7b9-4e60-8675-0ce19bc4ecb5', 'Hello Attendees in our Denmark Session!', 'Unknown', 'Unknown')\n",
      "('ce783ce6-22aa-496a-99ba-8f7cc9c42ece', 'Ok, So make sure you know your lines, study your answers to the questions. Get your demo ready to go. MOST IMPORTANT: do all the sacrifices to the demo gods!!! Dad.', 'Unknown', 'Unknown')\n"
     ]
    }
   ],
   "source": [
    "try:\n",
    "    mail_search_response = mail_data[0]  # Assuming there's only one SearchResponse object in the list\n",
    "\n",
    "    # Initialize an empty list to store summaries, from information, and generated GUIDs\n",
    "    mail_summary_from_and_guids = []\n",
    "\n",
    "    if mail_search_response:\n",
    "        # Iterate over hits_containers in the SearchResponse object\n",
    "        for mail_hits_container in mail_search_response.hits_containers:\n",
    "            # Iterate over each hit in the container\n",
    "            for mail_hit in mail_hits_container.hits:\n",
    "                # Extract the summary\n",
    "                mail_summary = mail_hit.summary\n",
    "\n",
    "                # Extract the 'from' information from additional_data\n",
    "                from_data = mail_hit.resource.additional_data.get('from', {}).get('emailAddress', {})\n",
    "                from_name = from_data.get('name', 'Unknown')\n",
    "                from_email = from_data.get('address', 'Unknown')\n",
    "\n",
    "                # Generate a unique GUID for each hit\n",
    "                guid = str(uuid.uuid4())\n",
    "\n",
    "                # Append the summary, 'from' information, and GUID as a tuple to the list\n",
    "                mail_summary_from_and_guids.append((guid, mail_summary, from_name, from_email))\n",
    "                mailconstruct = mail_summary + \" from \" + from_name\n",
    "except Exception as e:\n",
    "    print(f\"An error occurred: {e}\")\n",
    "\n",
    "# Now 'mail_summary_from_and_guids' contains the summary, from information, and a unique GUID for each search hit\n",
    "for item in mail_summary_from_and_guids:\n",
    "    await kernel.memory.save_information_async(\"ESPC23\", id=guid, text=mailconstruct)\n",
    "    print(item)"
   ]
  },
  {
   "cell_type": "markdown",
   "id": "b127c4a3",
   "metadata": {},
   "source": [
    "## Query and Read All 3 Payloads from Semantic Memory ONLY"
   ]
  },
  {
   "cell_type": "code",
   "execution_count": 28,
   "id": "37def4d2",
   "metadata": {},
   "outputs": [],
   "source": [
    "async def search_memory_examples(kernel: sk.Kernel) -> None:\n",
    "    questions = [\n",
    "        \"What did I accomplish this weekend with Gabby in Antwerp regarding our ESPC demo?\",\n",
    "        \"What ESPC23 artifacts do I have?\",\n",
    "    ]\n",
    "\n",
    "    for question in questions:\n",
    "        results = await kernel.memory.search_async(\"ESPC23\", question, limit=3)\n",
    "        for result in results:\n",
    "            print(f\"Question: {question}\")\n",
    "            print(f\"Answer: {result.text}\\nRelevance: {result.relevance}\\n\")"
   ]
  },
  {
   "cell_type": "code",
   "execution_count": 29,
   "id": "db001692",
   "metadata": {},
   "outputs": [
    {
     "name": "stdout",
     "output_type": "stream",
     "text": [
      "Question: What did I accomplish this weekend with Gabby in Antwerp regarding our ESPC demo?\n",
      "Answer: hello Gabby, are you prepared for the ChatGPT session with Python?\n",
      "Relevance: 0.7862505624190529\n",
      "\n",
      "Question: What did I accomplish this weekend with Gabby in Antwerp regarding our ESPC demo?\n",
      "Answer: Ok, So make sure you know your lines, study your answers to the questions. Get your demo ready to go. MOST IMPORTANT: do all the sacrifices to the demo gods!!! Dad. from Unknown\n",
      "Relevance: 0.7582602447035468\n",
      "\n",
      "Question: What did I accomplish this weekend with Gabby in Antwerp regarding our ESPC demo?\n",
      "Answer: HowToGainAccessToStudyGroup.docx\n",
      "Relevance: 0.7546709696624045\n",
      "\n",
      "Question: What ESPC23 artifacts do I have?\n",
      "Answer: HowToGainAccessToStudyGroup.docx\n",
      "Relevance: 0.7298733339489141\n",
      "\n",
      "Question: What ESPC23 artifacts do I have?\n",
      "Answer: Ok, So make sure you know your lines, study your answers to the questions. Get your demo ready to go. MOST IMPORTANT: do all the sacrifices to the demo gods!!! Dad. from Unknown\n",
      "Relevance: 0.7190667689083778\n",
      "\n",
      "Question: What ESPC23 artifacts do I have?\n",
      "Answer: hello Gabby, are you prepared for the ChatGPT session with Python?\n",
      "Relevance: 0.709202791686818\n",
      "\n"
     ]
    }
   ],
   "source": [
    "await search_memory_examples(kernel)"
   ]
  },
  {
   "cell_type": "markdown",
   "id": "ef9ae5bd",
   "metadata": {},
   "source": [
    "## Setup RAG Function"
   ]
  },
  {
   "cell_type": "code",
   "execution_count": 30,
   "id": "7cefb0db",
   "metadata": {},
   "outputs": [
    {
     "name": "stdout",
     "output_type": "stream",
     "text": [
      "ESPC23\n"
     ]
    }
   ],
   "source": [
    "print(COLLECTION)"
   ]
  },
  {
   "cell_type": "code",
   "execution_count": 31,
   "id": "9790255c",
   "metadata": {},
   "outputs": [],
   "source": [
    "async def setup_RAG(kernel: sk.Kernel) -> Tuple[sk.SKFunctionBase, sk.SKContext]:\n",
    "    sk_prompt = \"\"\"\n",
    "    You are a friendly and very talkative ChatBot. \n",
    "    \n",
    "    {{$history}}\n",
    "    Answer the {{$user_input}}. You may use information provided in {{$retreived_context}} it may be useful. \n",
    "    Use information only from {{$retreived_context}} otherwise say 'Nothing came back from Microsoft Graph'. \n",
    "    Do not start off the response with I'm sorry\n",
    "    ChatBot:\"\"\".strip()\n",
    "\n",
    "    rag_func = kernel.create_semantic_function(sk_prompt, max_tokens=2000, temperature=0.1)\n",
    "\n",
    "    context = kernel.create_new_context()\n",
    "\n",
    "    return rag_func, context"
   ]
  },
  {
   "cell_type": "code",
   "execution_count": 32,
   "id": "3760b96d",
   "metadata": {},
   "outputs": [],
   "source": [
    "async def RAG(kernel: sk.Kernel, rag_func: sk.SKFunctionBase, context: sk.SKContext) -> bool:\n",
    "\n",
    "    user_input = input(\"User:> \")\n",
    "    context[\"user_input\"] = user_input\n",
    "    #Retrieve\n",
    "    result = await kernel.memory.search_async(COLLECTION,context[\"user_input\"])\n",
    "\n",
    "    \n",
    "    if result[0].text:\n",
    "        context[\"retreived_context\"] = result[0].text\n",
    "    \n",
    "    #Then generate\n",
    "    answer = await kernel.run_async(rag_func, input_vars=context.variables)\n",
    "\n",
    "    print(f\"\\n\\u001b[34mChatBot:> {answer}\\u001b[0m \\n\\n\\033[1;32m Source: {context['retreived_context']}\\n Relevance: {result[0].relevance}\\u001b[0m \\n\")\n",
    "    return False"
   ]
  },
  {
   "cell_type": "code",
   "execution_count": 33,
   "id": "515e3ff8",
   "metadata": {},
   "outputs": [
    {
     "name": "stdout",
     "output_type": "stream",
     "text": [
      "Simulate Chat experience with SK and RAG\n"
     ]
    }
   ],
   "source": [
    "print(\"Simulate Chat experience with SK and RAG\")\n",
    "rag_func, context = await setup_RAG(kernel)"
   ]
  },
  {
   "cell_type": "code",
   "execution_count": 34,
   "id": "7bdf24e1",
   "metadata": {},
   "outputs": [
    {
     "name": "stdout",
     "output_type": "stream",
     "text": [
      "Ask a question (type 'exit' to exit):\n",
      "\n"
     ]
    },
    {
     "name": "stdin",
     "output_type": "stream",
     "text": [
      "User:>  What did I accomplish this weekend with Gabby in Antwerp regarding our ESPC demo?\n"
     ]
    },
    {
     "name": "stdout",
     "output_type": "stream",
     "text": [
      "\n",
      "\u001b[34mChatBot:> Based on the information provided, it seems like you and Gabby prepared for a ChatGPT session with Python in Antwerp this weekend. However, I don't have specific details about the ESPC demo.\u001b[0m \n",
      "\n",
      "\u001b[1;32m Source: hello Gabby, are you prepared for the ChatGPT session with Python?\n",
      " Relevance: 0.7862505624190529\u001b[0m \n",
      "\n"
     ]
    }
   ],
   "source": [
    "print(\"Ask a question (type 'exit' to exit):\\n\")\n",
    "answer = await RAG(kernel, rag_func, context)"
   ]
  },
  {
   "cell_type": "markdown",
   "id": "362a133b",
   "metadata": {},
   "source": [
    "### User Prompts that work"
   ]
  },
  {
   "cell_type": "code",
   "execution_count": 38,
   "id": "d7520ead",
   "metadata": {},
   "outputs": [],
   "source": [
    "# GREAT\n",
    "# What do I need to do to prepare for my ESPC demo\n",
    "# GOOD\n",
    "# What did I accomplish this weekend with Gabby in Antwerp regarding our ESPC demo?\n",
    "# Where did I go this weekend and what did I do\n",
    "# \n",
    "#"
   ]
  },
  {
   "cell_type": "code",
   "execution_count": null,
   "id": "df49276d",
   "metadata": {},
   "outputs": [],
   "source": []
  }
 ],
 "metadata": {
  "kernelspec": {
   "display_name": "espc23",
   "language": "python",
   "name": "espc23"
  },
  "language_info": {
   "codemirror_mode": {
    "name": "ipython",
    "version": 3
   },
   "file_extension": ".py",
   "mimetype": "text/x-python",
   "name": "python",
   "nbconvert_exporter": "python",
   "pygments_lexer": "ipython3",
   "version": "3.11.5"
  }
 },
 "nbformat": 4,
 "nbformat_minor": 5
}
