{
 "cells": [
  {
   "cell_type": "code",
   "execution_count": 1,
   "id": "86dd7f7b",
   "metadata": {},
   "outputs": [],
   "source": [
    "from dotenv import load_dotenv \n",
    "from azure.identity import DeviceCodeCredential\n",
    "from msgraph import GraphServiceClient\n",
    "from msgraph.generated.users.item.messages.messages_request_builder import MessagesRequestBuilder\n",
    "from msgraph.generated.search.query.query_post_request_body import QueryPostRequestBody\n",
    "from msgraph.generated.search.query.query_request_builder import QueryRequestBuilder\n",
    "from msgraph.generated.search.search_request_builder import SearchRequestBuilder\n",
    "from msgraph.generated.models.search_request import SearchRequest\n",
    "from msgraph.generated.models.entity_type import EntityType\n",
    "from msgraph.generated.models.search_query import SearchQuery\n",
    "from msgraph.generated.models.search_response import SearchResponse\n",
    "import os\n",
    "import json\n",
    "import asyncio \n",
    "import uuid"
   ]
  },
  {
   "cell_type": "code",
   "execution_count": 2,
   "id": "883d978b",
   "metadata": {},
   "outputs": [],
   "source": [
    "from typing import Tuple\n",
    "\n",
    "import semantic_kernel as sk\n",
    "from semantic_kernel.connectors.ai.open_ai import OpenAIChatCompletion, OpenAITextEmbedding"
   ]
  },
  {
   "cell_type": "code",
   "execution_count": 4,
   "id": "425681c4",
   "metadata": {},
   "outputs": [
    {
     "data": {
      "text/plain": [
       "{'recall': <semantic_kernel.orchestration.sk_function.SKFunction at 0x2204d4f4050>,\n",
       " 'save': <semantic_kernel.orchestration.sk_function.SKFunction at 0x2204d4fc590>}"
      ]
     },
     "execution_count": 4,
     "metadata": {},
     "output_type": "execute_result"
    }
   ],
   "source": [
    "kernel = sk.Kernel()\n",
    "# Configure AI service used by the kernel\n",
    "api_key, org_id = sk.openai_settings_from_dot_env()\n",
    "#kernel.add_chat_service(\"chat-gpt\", OpenAIChatCompletion(\"gpt-3.5-turbo\", api_key, org_id))\n",
    "kernel.add_chat_service(\"chat-gpt\", OpenAIChatCompletion(\"gpt-4\", api_key, org_id))\n",
    "kernel.add_text_embedding_generation_service(\"ada\", OpenAITextEmbedding(\"text-embedding-ada-002\", api_key, org_id))\n",
    "\n",
    "kernel.register_memory_store(memory_store=sk.memory.VolatileMemoryStore())\n",
    "kernel.import_skill(sk.core_skills.TextMemorySkill())"
   ]
  },
  {
   "cell_type": "code",
   "execution_count": 5,
   "id": "fc6ca17d",
   "metadata": {},
   "outputs": [
    {
     "data": {
      "text/plain": [
       "True"
      ]
     },
     "execution_count": 5,
     "metadata": {},
     "output_type": "execute_result"
    }
   ],
   "source": [
    "load_dotenv()"
   ]
  },
  {
   "cell_type": "code",
   "execution_count": 6,
   "id": "9d26d360",
   "metadata": {},
   "outputs": [],
   "source": [
    "COLLECTION = \"ESPC23\""
   ]
  },
  {
   "cell_type": "code",
   "execution_count": 8,
   "id": "5363bb43",
   "metadata": {},
   "outputs": [
    {
     "name": "stdout",
     "output_type": "stream",
     "text": [
      "['User.Read', 'Mail.ReadWrite', 'Chat.ReadWrite', 'Calendars.Read', 'Files.Read.All', 'Sites.Read.All']\n"
     ]
    }
   ],
   "source": [
    "TENANT_ID = os.getenv(\"TENANT_ID\")\n",
    "CLIENT_ID = os.getenv(\"CLIENT_ID\")\n",
    "graphUserScopes = os.getenv(\"graphUserScopes\").split(' ')\n",
    "gabby = '9c72876c-b0ec-41b3-8079-8ebe216daa34'\n",
    "print(graphUserScopes)"
   ]
  },
  {
   "cell_type": "code",
   "execution_count": 9,
   "id": "0e6c481c",
   "metadata": {},
   "outputs": [],
   "source": [
    "credential = DeviceCodeCredential(client_id=CLIENT_ID, tenant_id=TENANT_ID) \n",
    "scopes = graphUserScopes\n",
    "client = GraphServiceClient(credentials=credential, scopes=scopes)"
   ]
  },
  {
   "cell_type": "code",
   "execution_count": 10,
   "id": "83e1d6ae",
   "metadata": {},
   "outputs": [
    {
     "name": "stdout",
     "output_type": "stream",
     "text": [
      "To sign in, use a web browser to open the page https://microsoft.com/devicelogin and enter the code BNVS8A36H to authenticate.\n"
     ]
    }
   ],
   "source": [
    "#this will get the client\n",
    "result = await client.me.get()"
   ]
  },
  {
   "cell_type": "code",
   "execution_count": 11,
   "id": "84b1ead6",
   "metadata": {},
   "outputs": [
    {
     "name": "stdout",
     "output_type": "stream",
     "text": [
      "Gabby Gabgab\n"
     ]
    }
   ],
   "source": [
    "print(result.display_name)"
   ]
  },
  {
   "cell_type": "markdown",
   "id": "178f7eed",
   "metadata": {},
   "source": [
    "## Do the Query and Get the Intent of the User Asking the Question (UserPrompt)"
   ]
  },
  {
   "cell_type": "code",
   "execution_count": 12,
   "id": "c7fe4051",
   "metadata": {},
   "outputs": [],
   "source": [
    "# note: Using a File to Run these Plugins instead of Inline to \n",
    "# show a different way\n",
    "plugins_directory = \"Plugins/\"\n",
    "intentFunctions = kernel.import_semantic_skill_from_directory(plugins_directory, \"HoldMyHandPlugin\")\n",
    "\n",
    "getIntentFunction = intentFunctions[\"GetIntent\"]"
   ]
  },
  {
   "cell_type": "code",
   "execution_count": 13,
   "id": "0d0f5ee4",
   "metadata": {},
   "outputs": [],
   "source": [
    "userIntent = getIntentFunction(\"What did I accomplish this weekend with Gabby in Antwerp regarding our ESPC demo?\")"
   ]
  },
  {
   "cell_type": "code",
   "execution_count": 14,
   "id": "43d41333",
   "metadata": {},
   "outputs": [
    {
     "name": "stdout",
     "output_type": "stream",
     "text": [
      "{'subject': 'Gabby', 'action': 'know what was accomplished during the ESPC demo in Antwerp'}\n"
     ]
    }
   ],
   "source": [
    "subject_data = json.loads(str(userIntent))\n",
    "print(subject_data)"
   ]
  },
  {
   "cell_type": "code",
   "execution_count": 15,
   "id": "c17ddb9c",
   "metadata": {},
   "outputs": [],
   "source": [
    "subject = subject_data['subject']\n",
    "action = subject_data['action']"
   ]
  },
  {
   "cell_type": "code",
   "execution_count": 16,
   "id": "71d6be5d",
   "metadata": {},
   "outputs": [
    {
     "name": "stdout",
     "output_type": "stream",
     "text": [
      "Gabby\n"
     ]
    }
   ],
   "source": [
    "print(subject)"
   ]
  },
  {
   "cell_type": "code",
   "execution_count": 17,
   "id": "22a70f24",
   "metadata": {},
   "outputs": [
    {
     "name": "stdout",
     "output_type": "stream",
     "text": [
      "know what was accomplished during the ESPC demo in Antwerp\n"
     ]
    }
   ],
   "source": [
    "print(action)"
   ]
  },
  {
   "cell_type": "markdown",
   "id": "152dde2d",
   "metadata": {},
   "source": [
    "## Work with Teams(Chat) Search Query Endpoint"
   ]
  },
  {
   "cell_type": "code",
   "execution_count": 18,
   "id": "462efe27",
   "metadata": {},
   "outputs": [
    {
     "ename": "OverflowError",
     "evalue": "Python int too large to convert to C long",
     "output_type": "error",
     "traceback": [
      "\u001b[1;31m---------------------------------------------------------------------------\u001b[0m",
      "\u001b[1;31mOverflowError\u001b[0m                             Traceback (most recent call last)",
      "Cell \u001b[1;32mIn[18], line 14\u001b[0m\n\u001b[0;32m      1\u001b[0m request_body \u001b[38;5;241m=\u001b[39m QueryPostRequestBody(\n\u001b[0;32m      2\u001b[0m \trequests \u001b[38;5;241m=\u001b[39m [\n\u001b[0;32m      3\u001b[0m \t\tSearchRequest(\n\u001b[1;32m   (...)\u001b[0m\n\u001b[0;32m     11\u001b[0m \t],\n\u001b[0;32m     12\u001b[0m )\n\u001b[1;32m---> 14\u001b[0m chat_result \u001b[38;5;241m=\u001b[39m \u001b[38;5;28;01mawait\u001b[39;00m client\u001b[38;5;241m.\u001b[39msearch\u001b[38;5;241m.\u001b[39mquery\u001b[38;5;241m.\u001b[39mpost(request_body)\n",
      "File \u001b[1;32m~\\anaconda3\\envs\\espc23\\Lib\\site-packages\\msgraph\\generated\\search\\query\\query_request_builder.py:53\u001b[0m, in \u001b[0;36mQueryRequestBuilder.post\u001b[1;34m(self, body, request_configuration)\u001b[0m\n\u001b[0;32m     50\u001b[0m     \u001b[38;5;28;01mraise\u001b[39;00m \u001b[38;5;167;01mException\u001b[39;00m(\u001b[38;5;124m\"\u001b[39m\u001b[38;5;124mHttp core is null\u001b[39m\u001b[38;5;124m\"\u001b[39m) \n\u001b[0;32m     51\u001b[0m \u001b[38;5;28;01mfrom\u001b[39;00m \u001b[38;5;21;01m.\u001b[39;00m\u001b[38;5;21;01mquery_response\u001b[39;00m \u001b[38;5;28;01mimport\u001b[39;00m QueryResponse\n\u001b[1;32m---> 53\u001b[0m \u001b[38;5;28;01mreturn\u001b[39;00m \u001b[38;5;28;01mawait\u001b[39;00m \u001b[38;5;28mself\u001b[39m\u001b[38;5;241m.\u001b[39mrequest_adapter\u001b[38;5;241m.\u001b[39msend_async(request_info, QueryResponse, error_mapping)\n",
      "File \u001b[1;32m~\\anaconda3\\envs\\espc23\\Lib\\site-packages\\kiota_http\\httpx_request_adapter.py:178\u001b[0m, in \u001b[0;36mHttpxRequestAdapter.send_async\u001b[1;34m(self, request_info, parsable_factory, error_map)\u001b[0m\n\u001b[0;32m    176\u001b[0m root_node \u001b[38;5;241m=\u001b[39m \u001b[38;5;28;01mawait\u001b[39;00m \u001b[38;5;28mself\u001b[39m\u001b[38;5;241m.\u001b[39mget_root_parse_node(response, parent_span, parent_span)\n\u001b[0;32m    177\u001b[0m _deserialized_span \u001b[38;5;241m=\u001b[39m \u001b[38;5;28mself\u001b[39m\u001b[38;5;241m.\u001b[39m_start_local_tracing_span(\u001b[38;5;124m\"\u001b[39m\u001b[38;5;124mget_object_value\u001b[39m\u001b[38;5;124m\"\u001b[39m, parent_span)\n\u001b[1;32m--> 178\u001b[0m value \u001b[38;5;241m=\u001b[39m root_node\u001b[38;5;241m.\u001b[39mget_object_value(parsable_factory)\n\u001b[0;32m    179\u001b[0m parent_span\u001b[38;5;241m.\u001b[39mset_attribute(DESERIALIZED_MODEL_NAME_KEY, value\u001b[38;5;241m.\u001b[39m\u001b[38;5;18m__class__\u001b[39m\u001b[38;5;241m.\u001b[39m\u001b[38;5;18m__name__\u001b[39m)\n\u001b[0;32m    180\u001b[0m _deserialized_span\u001b[38;5;241m.\u001b[39mend()\n",
      "File \u001b[1;32m~\\anaconda3\\envs\\espc23\\Lib\\site-packages\\kiota_serialization_json\\json_parse_node.py:209\u001b[0m, in \u001b[0;36mJsonParseNode.get_object_value\u001b[1;34m(self, factory)\u001b[0m\n\u001b[0;32m    207\u001b[0m \u001b[38;5;28;01mif\u001b[39;00m on_before \u001b[38;5;241m:=\u001b[39m \u001b[38;5;28mself\u001b[39m\u001b[38;5;241m.\u001b[39mon_before_assign_field_values:\n\u001b[0;32m    208\u001b[0m     on_before(result)\n\u001b[1;32m--> 209\u001b[0m \u001b[38;5;28mself\u001b[39m\u001b[38;5;241m.\u001b[39m_assign_field_values(result)\n\u001b[0;32m    210\u001b[0m \u001b[38;5;28;01mif\u001b[39;00m on_after \u001b[38;5;241m:=\u001b[39m \u001b[38;5;28mself\u001b[39m\u001b[38;5;241m.\u001b[39mon_after_assign_field_values:\n\u001b[0;32m    211\u001b[0m     on_after(result)\n",
      "File \u001b[1;32m~\\anaconda3\\envs\\espc23\\Lib\\site-packages\\kiota_serialization_json\\json_parse_node.py:278\u001b[0m, in \u001b[0;36mJsonParseNode._assign_field_values\u001b[1;34m(self, item)\u001b[0m\n\u001b[0;32m    276\u001b[0m         \u001b[38;5;28;01mcontinue\u001b[39;00m\n\u001b[0;32m    277\u001b[0m     field_deserializer \u001b[38;5;241m=\u001b[39m field_deserializers[field_name]\n\u001b[1;32m--> 278\u001b[0m     field_deserializer(JsonParseNode(field_value))\n\u001b[0;32m    279\u001b[0m \u001b[38;5;28;01melif\u001b[39;00m item_additional_data \u001b[38;5;129;01mis\u001b[39;00m \u001b[38;5;129;01mnot\u001b[39;00m \u001b[38;5;28;01mNone\u001b[39;00m:\n\u001b[0;32m    280\u001b[0m     item_additional_data[field_name] \u001b[38;5;241m=\u001b[39m \u001b[38;5;28mself\u001b[39m\u001b[38;5;241m.\u001b[39mtry_get_anything(field_value)\n",
      "File \u001b[1;32m~\\anaconda3\\envs\\espc23\\Lib\\site-packages\\msgraph\\generated\\search\\query\\query_response.py:40\u001b[0m, in \u001b[0;36mQueryResponse.get_field_deserializers.<locals>.<lambda>\u001b[1;34m(n)\u001b[0m\n\u001b[0;32m     36\u001b[0m \u001b[38;5;28;01mfrom\u001b[39;00m \u001b[38;5;21;01m.\u001b[39;00m\u001b[38;5;21;01m.\u001b[39;00m\u001b[38;5;21;01m.\u001b[39;00m\u001b[38;5;21;01mmodels\u001b[39;00m\u001b[38;5;21;01m.\u001b[39;00m\u001b[38;5;21;01mbase_collection_pagination_count_response\u001b[39;00m \u001b[38;5;28;01mimport\u001b[39;00m BaseCollectionPaginationCountResponse\n\u001b[0;32m     37\u001b[0m \u001b[38;5;28;01mfrom\u001b[39;00m \u001b[38;5;21;01m.\u001b[39;00m\u001b[38;5;21;01m.\u001b[39;00m\u001b[38;5;21;01m.\u001b[39;00m\u001b[38;5;21;01mmodels\u001b[39;00m\u001b[38;5;21;01m.\u001b[39;00m\u001b[38;5;21;01msearch_response\u001b[39;00m \u001b[38;5;28;01mimport\u001b[39;00m SearchResponse\n\u001b[0;32m     39\u001b[0m fields: Dict[\u001b[38;5;28mstr\u001b[39m, Callable[[Any], \u001b[38;5;28;01mNone\u001b[39;00m]] \u001b[38;5;241m=\u001b[39m {\n\u001b[1;32m---> 40\u001b[0m     \u001b[38;5;124m\"\u001b[39m\u001b[38;5;124mvalue\u001b[39m\u001b[38;5;124m\"\u001b[39m: \u001b[38;5;28;01mlambda\u001b[39;00m n : \u001b[38;5;28msetattr\u001b[39m(\u001b[38;5;28mself\u001b[39m, \u001b[38;5;124m'\u001b[39m\u001b[38;5;124mvalue\u001b[39m\u001b[38;5;124m'\u001b[39m, n\u001b[38;5;241m.\u001b[39mget_collection_of_object_values(SearchResponse)),\n\u001b[0;32m     41\u001b[0m }\n\u001b[0;32m     42\u001b[0m super_fields \u001b[38;5;241m=\u001b[39m \u001b[38;5;28msuper\u001b[39m()\u001b[38;5;241m.\u001b[39mget_field_deserializers()\n\u001b[0;32m     43\u001b[0m fields\u001b[38;5;241m.\u001b[39mupdate(super_fields)\n",
      "File \u001b[1;32m~\\anaconda3\\envs\\espc23\\Lib\\site-packages\\kiota_serialization_json\\json_parse_node.py:160\u001b[0m, in \u001b[0;36mJsonParseNode.get_collection_of_object_values\u001b[1;34m(self, factory)\u001b[0m\n\u001b[0;32m    155\u001b[0m \u001b[38;5;250m\u001b[39m\u001b[38;5;124;03m\"\"\"Gets the collection of type U values from the json node\u001b[39;00m\n\u001b[0;32m    156\u001b[0m \u001b[38;5;124;03mReturns:\u001b[39;00m\n\u001b[0;32m    157\u001b[0m \u001b[38;5;124;03m    List[U]: The collection of model object values of the node\u001b[39;00m\n\u001b[0;32m    158\u001b[0m \u001b[38;5;124;03m\"\"\"\u001b[39;00m\n\u001b[0;32m    159\u001b[0m \u001b[38;5;28;01mif\u001b[39;00m \u001b[38;5;28misinstance\u001b[39m(\u001b[38;5;28mself\u001b[39m\u001b[38;5;241m.\u001b[39m_json_node, \u001b[38;5;28mlist\u001b[39m):\n\u001b[1;32m--> 160\u001b[0m     \u001b[38;5;28;01mreturn\u001b[39;00m \u001b[38;5;28mlist\u001b[39m(\n\u001b[0;32m    161\u001b[0m         \u001b[38;5;28mmap\u001b[39m(\n\u001b[0;32m    162\u001b[0m             \u001b[38;5;28;01mlambda\u001b[39;00m x: \u001b[38;5;28mself\u001b[39m\u001b[38;5;241m.\u001b[39m_create_new_node(x)\u001b[38;5;241m.\u001b[39mget_object_value(factory),  \u001b[38;5;66;03m# type: ignore\u001b[39;00m\n\u001b[0;32m    163\u001b[0m             \u001b[38;5;28mself\u001b[39m\u001b[38;5;241m.\u001b[39m_json_node,\n\u001b[0;32m    164\u001b[0m         )\n\u001b[0;32m    165\u001b[0m     )\n\u001b[0;32m    166\u001b[0m \u001b[38;5;28;01mreturn\u001b[39;00m []\n",
      "File \u001b[1;32m~\\anaconda3\\envs\\espc23\\Lib\\site-packages\\kiota_serialization_json\\json_parse_node.py:162\u001b[0m, in \u001b[0;36mJsonParseNode.get_collection_of_object_values.<locals>.<lambda>\u001b[1;34m(x)\u001b[0m\n\u001b[0;32m    155\u001b[0m \u001b[38;5;250m\u001b[39m\u001b[38;5;124;03m\"\"\"Gets the collection of type U values from the json node\u001b[39;00m\n\u001b[0;32m    156\u001b[0m \u001b[38;5;124;03mReturns:\u001b[39;00m\n\u001b[0;32m    157\u001b[0m \u001b[38;5;124;03m    List[U]: The collection of model object values of the node\u001b[39;00m\n\u001b[0;32m    158\u001b[0m \u001b[38;5;124;03m\"\"\"\u001b[39;00m\n\u001b[0;32m    159\u001b[0m \u001b[38;5;28;01mif\u001b[39;00m \u001b[38;5;28misinstance\u001b[39m(\u001b[38;5;28mself\u001b[39m\u001b[38;5;241m.\u001b[39m_json_node, \u001b[38;5;28mlist\u001b[39m):\n\u001b[0;32m    160\u001b[0m     \u001b[38;5;28;01mreturn\u001b[39;00m \u001b[38;5;28mlist\u001b[39m(\n\u001b[0;32m    161\u001b[0m         \u001b[38;5;28mmap\u001b[39m(\n\u001b[1;32m--> 162\u001b[0m             \u001b[38;5;28;01mlambda\u001b[39;00m x: \u001b[38;5;28mself\u001b[39m\u001b[38;5;241m.\u001b[39m_create_new_node(x)\u001b[38;5;241m.\u001b[39mget_object_value(factory),  \u001b[38;5;66;03m# type: ignore\u001b[39;00m\n\u001b[0;32m    163\u001b[0m             \u001b[38;5;28mself\u001b[39m\u001b[38;5;241m.\u001b[39m_json_node,\n\u001b[0;32m    164\u001b[0m         )\n\u001b[0;32m    165\u001b[0m     )\n\u001b[0;32m    166\u001b[0m \u001b[38;5;28;01mreturn\u001b[39;00m []\n",
      "File \u001b[1;32m~\\anaconda3\\envs\\espc23\\Lib\\site-packages\\kiota_serialization_json\\json_parse_node.py:209\u001b[0m, in \u001b[0;36mJsonParseNode.get_object_value\u001b[1;34m(self, factory)\u001b[0m\n\u001b[0;32m    207\u001b[0m \u001b[38;5;28;01mif\u001b[39;00m on_before \u001b[38;5;241m:=\u001b[39m \u001b[38;5;28mself\u001b[39m\u001b[38;5;241m.\u001b[39mon_before_assign_field_values:\n\u001b[0;32m    208\u001b[0m     on_before(result)\n\u001b[1;32m--> 209\u001b[0m \u001b[38;5;28mself\u001b[39m\u001b[38;5;241m.\u001b[39m_assign_field_values(result)\n\u001b[0;32m    210\u001b[0m \u001b[38;5;28;01mif\u001b[39;00m on_after \u001b[38;5;241m:=\u001b[39m \u001b[38;5;28mself\u001b[39m\u001b[38;5;241m.\u001b[39mon_after_assign_field_values:\n\u001b[0;32m    211\u001b[0m     on_after(result)\n",
      "File \u001b[1;32m~\\anaconda3\\envs\\espc23\\Lib\\site-packages\\kiota_serialization_json\\json_parse_node.py:278\u001b[0m, in \u001b[0;36mJsonParseNode._assign_field_values\u001b[1;34m(self, item)\u001b[0m\n\u001b[0;32m    276\u001b[0m         \u001b[38;5;28;01mcontinue\u001b[39;00m\n\u001b[0;32m    277\u001b[0m     field_deserializer \u001b[38;5;241m=\u001b[39m field_deserializers[field_name]\n\u001b[1;32m--> 278\u001b[0m     field_deserializer(JsonParseNode(field_value))\n\u001b[0;32m    279\u001b[0m \u001b[38;5;28;01melif\u001b[39;00m item_additional_data \u001b[38;5;129;01mis\u001b[39;00m \u001b[38;5;129;01mnot\u001b[39;00m \u001b[38;5;28;01mNone\u001b[39;00m:\n\u001b[0;32m    280\u001b[0m     item_additional_data[field_name] \u001b[38;5;241m=\u001b[39m \u001b[38;5;28mself\u001b[39m\u001b[38;5;241m.\u001b[39mtry_get_anything(field_value)\n",
      "File \u001b[1;32m~\\anaconda3\\envs\\espc23\\Lib\\site-packages\\msgraph\\generated\\models\\search_response.py:55\u001b[0m, in \u001b[0;36mSearchResponse.get_field_deserializers.<locals>.<lambda>\u001b[1;34m(n)\u001b[0m\n\u001b[0;32m     51\u001b[0m \u001b[38;5;28;01mfrom\u001b[39;00m \u001b[38;5;21;01m.\u001b[39;00m\u001b[38;5;21;01mresult_template_dictionary\u001b[39;00m \u001b[38;5;28;01mimport\u001b[39;00m ResultTemplateDictionary\n\u001b[0;32m     52\u001b[0m \u001b[38;5;28;01mfrom\u001b[39;00m \u001b[38;5;21;01m.\u001b[39;00m\u001b[38;5;21;01msearch_hits_container\u001b[39;00m \u001b[38;5;28;01mimport\u001b[39;00m SearchHitsContainer\n\u001b[0;32m     54\u001b[0m fields: Dict[\u001b[38;5;28mstr\u001b[39m, Callable[[Any], \u001b[38;5;28;01mNone\u001b[39;00m]] \u001b[38;5;241m=\u001b[39m {\n\u001b[1;32m---> 55\u001b[0m     \u001b[38;5;124m\"\u001b[39m\u001b[38;5;124mhitsContainers\u001b[39m\u001b[38;5;124m\"\u001b[39m: \u001b[38;5;28;01mlambda\u001b[39;00m n : \u001b[38;5;28msetattr\u001b[39m(\u001b[38;5;28mself\u001b[39m, \u001b[38;5;124m'\u001b[39m\u001b[38;5;124mhits_containers\u001b[39m\u001b[38;5;124m'\u001b[39m, n\u001b[38;5;241m.\u001b[39mget_collection_of_object_values(SearchHitsContainer)),\n\u001b[0;32m     56\u001b[0m     \u001b[38;5;124m\"\u001b[39m\u001b[38;5;124m@odata.type\u001b[39m\u001b[38;5;124m\"\u001b[39m: \u001b[38;5;28;01mlambda\u001b[39;00m n : \u001b[38;5;28msetattr\u001b[39m(\u001b[38;5;28mself\u001b[39m, \u001b[38;5;124m'\u001b[39m\u001b[38;5;124modata_type\u001b[39m\u001b[38;5;124m'\u001b[39m, n\u001b[38;5;241m.\u001b[39mget_str_value()),\n\u001b[0;32m     57\u001b[0m     \u001b[38;5;124m\"\u001b[39m\u001b[38;5;124mqueryAlterationResponse\u001b[39m\u001b[38;5;124m\"\u001b[39m: \u001b[38;5;28;01mlambda\u001b[39;00m n : \u001b[38;5;28msetattr\u001b[39m(\u001b[38;5;28mself\u001b[39m, \u001b[38;5;124m'\u001b[39m\u001b[38;5;124mquery_alteration_response\u001b[39m\u001b[38;5;124m'\u001b[39m, n\u001b[38;5;241m.\u001b[39mget_object_value(AlterationResponse)),\n\u001b[0;32m     58\u001b[0m     \u001b[38;5;124m\"\u001b[39m\u001b[38;5;124mresultTemplates\u001b[39m\u001b[38;5;124m\"\u001b[39m: \u001b[38;5;28;01mlambda\u001b[39;00m n : \u001b[38;5;28msetattr\u001b[39m(\u001b[38;5;28mself\u001b[39m, \u001b[38;5;124m'\u001b[39m\u001b[38;5;124mresult_templates\u001b[39m\u001b[38;5;124m'\u001b[39m, n\u001b[38;5;241m.\u001b[39mget_object_value(ResultTemplateDictionary)),\n\u001b[0;32m     59\u001b[0m     \u001b[38;5;124m\"\u001b[39m\u001b[38;5;124msearchTerms\u001b[39m\u001b[38;5;124m\"\u001b[39m: \u001b[38;5;28;01mlambda\u001b[39;00m n : \u001b[38;5;28msetattr\u001b[39m(\u001b[38;5;28mself\u001b[39m, \u001b[38;5;124m'\u001b[39m\u001b[38;5;124msearch_terms\u001b[39m\u001b[38;5;124m'\u001b[39m, n\u001b[38;5;241m.\u001b[39mget_collection_of_primitive_values(\u001b[38;5;28mstr\u001b[39m)),\n\u001b[0;32m     60\u001b[0m }\n\u001b[0;32m     61\u001b[0m \u001b[38;5;28;01mreturn\u001b[39;00m fields\n",
      "File \u001b[1;32m~\\anaconda3\\envs\\espc23\\Lib\\site-packages\\kiota_serialization_json\\json_parse_node.py:160\u001b[0m, in \u001b[0;36mJsonParseNode.get_collection_of_object_values\u001b[1;34m(self, factory)\u001b[0m\n\u001b[0;32m    155\u001b[0m \u001b[38;5;250m\u001b[39m\u001b[38;5;124;03m\"\"\"Gets the collection of type U values from the json node\u001b[39;00m\n\u001b[0;32m    156\u001b[0m \u001b[38;5;124;03mReturns:\u001b[39;00m\n\u001b[0;32m    157\u001b[0m \u001b[38;5;124;03m    List[U]: The collection of model object values of the node\u001b[39;00m\n\u001b[0;32m    158\u001b[0m \u001b[38;5;124;03m\"\"\"\u001b[39;00m\n\u001b[0;32m    159\u001b[0m \u001b[38;5;28;01mif\u001b[39;00m \u001b[38;5;28misinstance\u001b[39m(\u001b[38;5;28mself\u001b[39m\u001b[38;5;241m.\u001b[39m_json_node, \u001b[38;5;28mlist\u001b[39m):\n\u001b[1;32m--> 160\u001b[0m     \u001b[38;5;28;01mreturn\u001b[39;00m \u001b[38;5;28mlist\u001b[39m(\n\u001b[0;32m    161\u001b[0m         \u001b[38;5;28mmap\u001b[39m(\n\u001b[0;32m    162\u001b[0m             \u001b[38;5;28;01mlambda\u001b[39;00m x: \u001b[38;5;28mself\u001b[39m\u001b[38;5;241m.\u001b[39m_create_new_node(x)\u001b[38;5;241m.\u001b[39mget_object_value(factory),  \u001b[38;5;66;03m# type: ignore\u001b[39;00m\n\u001b[0;32m    163\u001b[0m             \u001b[38;5;28mself\u001b[39m\u001b[38;5;241m.\u001b[39m_json_node,\n\u001b[0;32m    164\u001b[0m         )\n\u001b[0;32m    165\u001b[0m     )\n\u001b[0;32m    166\u001b[0m \u001b[38;5;28;01mreturn\u001b[39;00m []\n",
      "File \u001b[1;32m~\\anaconda3\\envs\\espc23\\Lib\\site-packages\\kiota_serialization_json\\json_parse_node.py:162\u001b[0m, in \u001b[0;36mJsonParseNode.get_collection_of_object_values.<locals>.<lambda>\u001b[1;34m(x)\u001b[0m\n\u001b[0;32m    155\u001b[0m \u001b[38;5;250m\u001b[39m\u001b[38;5;124;03m\"\"\"Gets the collection of type U values from the json node\u001b[39;00m\n\u001b[0;32m    156\u001b[0m \u001b[38;5;124;03mReturns:\u001b[39;00m\n\u001b[0;32m    157\u001b[0m \u001b[38;5;124;03m    List[U]: The collection of model object values of the node\u001b[39;00m\n\u001b[0;32m    158\u001b[0m \u001b[38;5;124;03m\"\"\"\u001b[39;00m\n\u001b[0;32m    159\u001b[0m \u001b[38;5;28;01mif\u001b[39;00m \u001b[38;5;28misinstance\u001b[39m(\u001b[38;5;28mself\u001b[39m\u001b[38;5;241m.\u001b[39m_json_node, \u001b[38;5;28mlist\u001b[39m):\n\u001b[0;32m    160\u001b[0m     \u001b[38;5;28;01mreturn\u001b[39;00m \u001b[38;5;28mlist\u001b[39m(\n\u001b[0;32m    161\u001b[0m         \u001b[38;5;28mmap\u001b[39m(\n\u001b[1;32m--> 162\u001b[0m             \u001b[38;5;28;01mlambda\u001b[39;00m x: \u001b[38;5;28mself\u001b[39m\u001b[38;5;241m.\u001b[39m_create_new_node(x)\u001b[38;5;241m.\u001b[39mget_object_value(factory),  \u001b[38;5;66;03m# type: ignore\u001b[39;00m\n\u001b[0;32m    163\u001b[0m             \u001b[38;5;28mself\u001b[39m\u001b[38;5;241m.\u001b[39m_json_node,\n\u001b[0;32m    164\u001b[0m         )\n\u001b[0;32m    165\u001b[0m     )\n\u001b[0;32m    166\u001b[0m \u001b[38;5;28;01mreturn\u001b[39;00m []\n",
      "File \u001b[1;32m~\\anaconda3\\envs\\espc23\\Lib\\site-packages\\kiota_serialization_json\\json_parse_node.py:209\u001b[0m, in \u001b[0;36mJsonParseNode.get_object_value\u001b[1;34m(self, factory)\u001b[0m\n\u001b[0;32m    207\u001b[0m \u001b[38;5;28;01mif\u001b[39;00m on_before \u001b[38;5;241m:=\u001b[39m \u001b[38;5;28mself\u001b[39m\u001b[38;5;241m.\u001b[39mon_before_assign_field_values:\n\u001b[0;32m    208\u001b[0m     on_before(result)\n\u001b[1;32m--> 209\u001b[0m \u001b[38;5;28mself\u001b[39m\u001b[38;5;241m.\u001b[39m_assign_field_values(result)\n\u001b[0;32m    210\u001b[0m \u001b[38;5;28;01mif\u001b[39;00m on_after \u001b[38;5;241m:=\u001b[39m \u001b[38;5;28mself\u001b[39m\u001b[38;5;241m.\u001b[39mon_after_assign_field_values:\n\u001b[0;32m    211\u001b[0m     on_after(result)\n",
      "File \u001b[1;32m~\\anaconda3\\envs\\espc23\\Lib\\site-packages\\kiota_serialization_json\\json_parse_node.py:278\u001b[0m, in \u001b[0;36mJsonParseNode._assign_field_values\u001b[1;34m(self, item)\u001b[0m\n\u001b[0;32m    276\u001b[0m         \u001b[38;5;28;01mcontinue\u001b[39;00m\n\u001b[0;32m    277\u001b[0m     field_deserializer \u001b[38;5;241m=\u001b[39m field_deserializers[field_name]\n\u001b[1;32m--> 278\u001b[0m     field_deserializer(JsonParseNode(field_value))\n\u001b[0;32m    279\u001b[0m \u001b[38;5;28;01melif\u001b[39;00m item_additional_data \u001b[38;5;129;01mis\u001b[39;00m \u001b[38;5;129;01mnot\u001b[39;00m \u001b[38;5;28;01mNone\u001b[39;00m:\n\u001b[0;32m    280\u001b[0m     item_additional_data[field_name] \u001b[38;5;241m=\u001b[39m \u001b[38;5;28mself\u001b[39m\u001b[38;5;241m.\u001b[39mtry_get_anything(field_value)\n",
      "File \u001b[1;32m~\\anaconda3\\envs\\espc23\\Lib\\site-packages\\msgraph\\generated\\models\\search_hits_container.py:53\u001b[0m, in \u001b[0;36mSearchHitsContainer.get_field_deserializers.<locals>.<lambda>\u001b[1;34m(n)\u001b[0m\n\u001b[0;32m     48\u001b[0m \u001b[38;5;28;01mfrom\u001b[39;00m \u001b[38;5;21;01m.\u001b[39;00m\u001b[38;5;21;01msearch_aggregation\u001b[39;00m \u001b[38;5;28;01mimport\u001b[39;00m SearchAggregation\n\u001b[0;32m     49\u001b[0m \u001b[38;5;28;01mfrom\u001b[39;00m \u001b[38;5;21;01m.\u001b[39;00m\u001b[38;5;21;01msearch_hit\u001b[39;00m \u001b[38;5;28;01mimport\u001b[39;00m SearchHit\n\u001b[0;32m     51\u001b[0m fields: Dict[\u001b[38;5;28mstr\u001b[39m, Callable[[Any], \u001b[38;5;28;01mNone\u001b[39;00m]] \u001b[38;5;241m=\u001b[39m {\n\u001b[0;32m     52\u001b[0m     \u001b[38;5;124m\"\u001b[39m\u001b[38;5;124maggregations\u001b[39m\u001b[38;5;124m\"\u001b[39m: \u001b[38;5;28;01mlambda\u001b[39;00m n : \u001b[38;5;28msetattr\u001b[39m(\u001b[38;5;28mself\u001b[39m, \u001b[38;5;124m'\u001b[39m\u001b[38;5;124maggregations\u001b[39m\u001b[38;5;124m'\u001b[39m, n\u001b[38;5;241m.\u001b[39mget_collection_of_object_values(SearchAggregation)),\n\u001b[1;32m---> 53\u001b[0m     \u001b[38;5;124m\"\u001b[39m\u001b[38;5;124mhits\u001b[39m\u001b[38;5;124m\"\u001b[39m: \u001b[38;5;28;01mlambda\u001b[39;00m n : \u001b[38;5;28msetattr\u001b[39m(\u001b[38;5;28mself\u001b[39m, \u001b[38;5;124m'\u001b[39m\u001b[38;5;124mhits\u001b[39m\u001b[38;5;124m'\u001b[39m, n\u001b[38;5;241m.\u001b[39mget_collection_of_object_values(SearchHit)),\n\u001b[0;32m     54\u001b[0m     \u001b[38;5;124m\"\u001b[39m\u001b[38;5;124mmoreResultsAvailable\u001b[39m\u001b[38;5;124m\"\u001b[39m: \u001b[38;5;28;01mlambda\u001b[39;00m n : \u001b[38;5;28msetattr\u001b[39m(\u001b[38;5;28mself\u001b[39m, \u001b[38;5;124m'\u001b[39m\u001b[38;5;124mmore_results_available\u001b[39m\u001b[38;5;124m'\u001b[39m, n\u001b[38;5;241m.\u001b[39mget_bool_value()),\n\u001b[0;32m     55\u001b[0m     \u001b[38;5;124m\"\u001b[39m\u001b[38;5;124m@odata.type\u001b[39m\u001b[38;5;124m\"\u001b[39m: \u001b[38;5;28;01mlambda\u001b[39;00m n : \u001b[38;5;28msetattr\u001b[39m(\u001b[38;5;28mself\u001b[39m, \u001b[38;5;124m'\u001b[39m\u001b[38;5;124modata_type\u001b[39m\u001b[38;5;124m'\u001b[39m, n\u001b[38;5;241m.\u001b[39mget_str_value()),\n\u001b[0;32m     56\u001b[0m     \u001b[38;5;124m\"\u001b[39m\u001b[38;5;124mtotal\u001b[39m\u001b[38;5;124m\"\u001b[39m: \u001b[38;5;28;01mlambda\u001b[39;00m n : \u001b[38;5;28msetattr\u001b[39m(\u001b[38;5;28mself\u001b[39m, \u001b[38;5;124m'\u001b[39m\u001b[38;5;124mtotal\u001b[39m\u001b[38;5;124m'\u001b[39m, n\u001b[38;5;241m.\u001b[39mget_int_value()),\n\u001b[0;32m     57\u001b[0m }\n\u001b[0;32m     58\u001b[0m \u001b[38;5;28;01mreturn\u001b[39;00m fields\n",
      "File \u001b[1;32m~\\anaconda3\\envs\\espc23\\Lib\\site-packages\\kiota_serialization_json\\json_parse_node.py:160\u001b[0m, in \u001b[0;36mJsonParseNode.get_collection_of_object_values\u001b[1;34m(self, factory)\u001b[0m\n\u001b[0;32m    155\u001b[0m \u001b[38;5;250m\u001b[39m\u001b[38;5;124;03m\"\"\"Gets the collection of type U values from the json node\u001b[39;00m\n\u001b[0;32m    156\u001b[0m \u001b[38;5;124;03mReturns:\u001b[39;00m\n\u001b[0;32m    157\u001b[0m \u001b[38;5;124;03m    List[U]: The collection of model object values of the node\u001b[39;00m\n\u001b[0;32m    158\u001b[0m \u001b[38;5;124;03m\"\"\"\u001b[39;00m\n\u001b[0;32m    159\u001b[0m \u001b[38;5;28;01mif\u001b[39;00m \u001b[38;5;28misinstance\u001b[39m(\u001b[38;5;28mself\u001b[39m\u001b[38;5;241m.\u001b[39m_json_node, \u001b[38;5;28mlist\u001b[39m):\n\u001b[1;32m--> 160\u001b[0m     \u001b[38;5;28;01mreturn\u001b[39;00m \u001b[38;5;28mlist\u001b[39m(\n\u001b[0;32m    161\u001b[0m         \u001b[38;5;28mmap\u001b[39m(\n\u001b[0;32m    162\u001b[0m             \u001b[38;5;28;01mlambda\u001b[39;00m x: \u001b[38;5;28mself\u001b[39m\u001b[38;5;241m.\u001b[39m_create_new_node(x)\u001b[38;5;241m.\u001b[39mget_object_value(factory),  \u001b[38;5;66;03m# type: ignore\u001b[39;00m\n\u001b[0;32m    163\u001b[0m             \u001b[38;5;28mself\u001b[39m\u001b[38;5;241m.\u001b[39m_json_node,\n\u001b[0;32m    164\u001b[0m         )\n\u001b[0;32m    165\u001b[0m     )\n\u001b[0;32m    166\u001b[0m \u001b[38;5;28;01mreturn\u001b[39;00m []\n",
      "File \u001b[1;32m~\\anaconda3\\envs\\espc23\\Lib\\site-packages\\kiota_serialization_json\\json_parse_node.py:162\u001b[0m, in \u001b[0;36mJsonParseNode.get_collection_of_object_values.<locals>.<lambda>\u001b[1;34m(x)\u001b[0m\n\u001b[0;32m    155\u001b[0m \u001b[38;5;250m\u001b[39m\u001b[38;5;124;03m\"\"\"Gets the collection of type U values from the json node\u001b[39;00m\n\u001b[0;32m    156\u001b[0m \u001b[38;5;124;03mReturns:\u001b[39;00m\n\u001b[0;32m    157\u001b[0m \u001b[38;5;124;03m    List[U]: The collection of model object values of the node\u001b[39;00m\n\u001b[0;32m    158\u001b[0m \u001b[38;5;124;03m\"\"\"\u001b[39;00m\n\u001b[0;32m    159\u001b[0m \u001b[38;5;28;01mif\u001b[39;00m \u001b[38;5;28misinstance\u001b[39m(\u001b[38;5;28mself\u001b[39m\u001b[38;5;241m.\u001b[39m_json_node, \u001b[38;5;28mlist\u001b[39m):\n\u001b[0;32m    160\u001b[0m     \u001b[38;5;28;01mreturn\u001b[39;00m \u001b[38;5;28mlist\u001b[39m(\n\u001b[0;32m    161\u001b[0m         \u001b[38;5;28mmap\u001b[39m(\n\u001b[1;32m--> 162\u001b[0m             \u001b[38;5;28;01mlambda\u001b[39;00m x: \u001b[38;5;28mself\u001b[39m\u001b[38;5;241m.\u001b[39m_create_new_node(x)\u001b[38;5;241m.\u001b[39mget_object_value(factory),  \u001b[38;5;66;03m# type: ignore\u001b[39;00m\n\u001b[0;32m    163\u001b[0m             \u001b[38;5;28mself\u001b[39m\u001b[38;5;241m.\u001b[39m_json_node,\n\u001b[0;32m    164\u001b[0m         )\n\u001b[0;32m    165\u001b[0m     )\n\u001b[0;32m    166\u001b[0m \u001b[38;5;28;01mreturn\u001b[39;00m []\n",
      "File \u001b[1;32m~\\anaconda3\\envs\\espc23\\Lib\\site-packages\\kiota_serialization_json\\json_parse_node.py:209\u001b[0m, in \u001b[0;36mJsonParseNode.get_object_value\u001b[1;34m(self, factory)\u001b[0m\n\u001b[0;32m    207\u001b[0m \u001b[38;5;28;01mif\u001b[39;00m on_before \u001b[38;5;241m:=\u001b[39m \u001b[38;5;28mself\u001b[39m\u001b[38;5;241m.\u001b[39mon_before_assign_field_values:\n\u001b[0;32m    208\u001b[0m     on_before(result)\n\u001b[1;32m--> 209\u001b[0m \u001b[38;5;28mself\u001b[39m\u001b[38;5;241m.\u001b[39m_assign_field_values(result)\n\u001b[0;32m    210\u001b[0m \u001b[38;5;28;01mif\u001b[39;00m on_after \u001b[38;5;241m:=\u001b[39m \u001b[38;5;28mself\u001b[39m\u001b[38;5;241m.\u001b[39mon_after_assign_field_values:\n\u001b[0;32m    211\u001b[0m     on_after(result)\n",
      "File \u001b[1;32m~\\anaconda3\\envs\\espc23\\Lib\\site-packages\\kiota_serialization_json\\json_parse_node.py:278\u001b[0m, in \u001b[0;36mJsonParseNode._assign_field_values\u001b[1;34m(self, item)\u001b[0m\n\u001b[0;32m    276\u001b[0m         \u001b[38;5;28;01mcontinue\u001b[39;00m\n\u001b[0;32m    277\u001b[0m     field_deserializer \u001b[38;5;241m=\u001b[39m field_deserializers[field_name]\n\u001b[1;32m--> 278\u001b[0m     field_deserializer(JsonParseNode(field_value))\n\u001b[0;32m    279\u001b[0m \u001b[38;5;28;01melif\u001b[39;00m item_additional_data \u001b[38;5;129;01mis\u001b[39;00m \u001b[38;5;129;01mnot\u001b[39;00m \u001b[38;5;28;01mNone\u001b[39;00m:\n\u001b[0;32m    280\u001b[0m     item_additional_data[field_name] \u001b[38;5;241m=\u001b[39m \u001b[38;5;28mself\u001b[39m\u001b[38;5;241m.\u001b[39mtry_get_anything(field_value)\n",
      "File \u001b[1;32m~\\anaconda3\\envs\\espc23\\Lib\\site-packages\\msgraph\\generated\\models\\search_hit.py:60\u001b[0m, in \u001b[0;36mSearchHit.get_field_deserializers.<locals>.<lambda>\u001b[1;34m(n)\u001b[0m\n\u001b[0;32m     50\u001b[0m \u001b[38;5;28;01mfrom\u001b[39;00m \u001b[38;5;21;01m.\u001b[39;00m\u001b[38;5;21;01mentity\u001b[39;00m \u001b[38;5;28;01mimport\u001b[39;00m Entity\n\u001b[0;32m     52\u001b[0m \u001b[38;5;28;01mfrom\u001b[39;00m \u001b[38;5;21;01m.\u001b[39;00m\u001b[38;5;21;01mentity\u001b[39;00m \u001b[38;5;28;01mimport\u001b[39;00m Entity\n\u001b[0;32m     54\u001b[0m fields: Dict[\u001b[38;5;28mstr\u001b[39m, Callable[[Any], \u001b[38;5;28;01mNone\u001b[39;00m]] \u001b[38;5;241m=\u001b[39m {\n\u001b[0;32m     55\u001b[0m     \u001b[38;5;124m\"\u001b[39m\u001b[38;5;124mcontentSource\u001b[39m\u001b[38;5;124m\"\u001b[39m: \u001b[38;5;28;01mlambda\u001b[39;00m n : \u001b[38;5;28msetattr\u001b[39m(\u001b[38;5;28mself\u001b[39m, \u001b[38;5;124m'\u001b[39m\u001b[38;5;124mcontent_source\u001b[39m\u001b[38;5;124m'\u001b[39m, n\u001b[38;5;241m.\u001b[39mget_str_value()),\n\u001b[0;32m     56\u001b[0m     \u001b[38;5;124m\"\u001b[39m\u001b[38;5;124mhitId\u001b[39m\u001b[38;5;124m\"\u001b[39m: \u001b[38;5;28;01mlambda\u001b[39;00m n : \u001b[38;5;28msetattr\u001b[39m(\u001b[38;5;28mself\u001b[39m, \u001b[38;5;124m'\u001b[39m\u001b[38;5;124mhit_id\u001b[39m\u001b[38;5;124m'\u001b[39m, n\u001b[38;5;241m.\u001b[39mget_str_value()),\n\u001b[0;32m     57\u001b[0m     \u001b[38;5;124m\"\u001b[39m\u001b[38;5;124misCollapsed\u001b[39m\u001b[38;5;124m\"\u001b[39m: \u001b[38;5;28;01mlambda\u001b[39;00m n : \u001b[38;5;28msetattr\u001b[39m(\u001b[38;5;28mself\u001b[39m, \u001b[38;5;124m'\u001b[39m\u001b[38;5;124mis_collapsed\u001b[39m\u001b[38;5;124m'\u001b[39m, n\u001b[38;5;241m.\u001b[39mget_bool_value()),\n\u001b[0;32m     58\u001b[0m     \u001b[38;5;124m\"\u001b[39m\u001b[38;5;124m@odata.type\u001b[39m\u001b[38;5;124m\"\u001b[39m: \u001b[38;5;28;01mlambda\u001b[39;00m n : \u001b[38;5;28msetattr\u001b[39m(\u001b[38;5;28mself\u001b[39m, \u001b[38;5;124m'\u001b[39m\u001b[38;5;124modata_type\u001b[39m\u001b[38;5;124m'\u001b[39m, n\u001b[38;5;241m.\u001b[39mget_str_value()),\n\u001b[0;32m     59\u001b[0m     \u001b[38;5;124m\"\u001b[39m\u001b[38;5;124mrank\u001b[39m\u001b[38;5;124m\"\u001b[39m: \u001b[38;5;28;01mlambda\u001b[39;00m n : \u001b[38;5;28msetattr\u001b[39m(\u001b[38;5;28mself\u001b[39m, \u001b[38;5;124m'\u001b[39m\u001b[38;5;124mrank\u001b[39m\u001b[38;5;124m'\u001b[39m, n\u001b[38;5;241m.\u001b[39mget_int_value()),\n\u001b[1;32m---> 60\u001b[0m     \u001b[38;5;124m\"\u001b[39m\u001b[38;5;124mresource\u001b[39m\u001b[38;5;124m\"\u001b[39m: \u001b[38;5;28;01mlambda\u001b[39;00m n : \u001b[38;5;28msetattr\u001b[39m(\u001b[38;5;28mself\u001b[39m, \u001b[38;5;124m'\u001b[39m\u001b[38;5;124mresource\u001b[39m\u001b[38;5;124m'\u001b[39m, n\u001b[38;5;241m.\u001b[39mget_object_value(Entity)),\n\u001b[0;32m     61\u001b[0m     \u001b[38;5;124m\"\u001b[39m\u001b[38;5;124mresultTemplateId\u001b[39m\u001b[38;5;124m\"\u001b[39m: \u001b[38;5;28;01mlambda\u001b[39;00m n : \u001b[38;5;28msetattr\u001b[39m(\u001b[38;5;28mself\u001b[39m, \u001b[38;5;124m'\u001b[39m\u001b[38;5;124mresult_template_id\u001b[39m\u001b[38;5;124m'\u001b[39m, n\u001b[38;5;241m.\u001b[39mget_str_value()),\n\u001b[0;32m     62\u001b[0m     \u001b[38;5;124m\"\u001b[39m\u001b[38;5;124msummary\u001b[39m\u001b[38;5;124m\"\u001b[39m: \u001b[38;5;28;01mlambda\u001b[39;00m n : \u001b[38;5;28msetattr\u001b[39m(\u001b[38;5;28mself\u001b[39m, \u001b[38;5;124m'\u001b[39m\u001b[38;5;124msummary\u001b[39m\u001b[38;5;124m'\u001b[39m, n\u001b[38;5;241m.\u001b[39mget_str_value()),\n\u001b[0;32m     63\u001b[0m }\n\u001b[0;32m     64\u001b[0m \u001b[38;5;28;01mreturn\u001b[39;00m fields\n",
      "File \u001b[1;32m~\\anaconda3\\envs\\espc23\\Lib\\site-packages\\kiota_serialization_json\\json_parse_node.py:209\u001b[0m, in \u001b[0;36mJsonParseNode.get_object_value\u001b[1;34m(self, factory)\u001b[0m\n\u001b[0;32m    207\u001b[0m \u001b[38;5;28;01mif\u001b[39;00m on_before \u001b[38;5;241m:=\u001b[39m \u001b[38;5;28mself\u001b[39m\u001b[38;5;241m.\u001b[39mon_before_assign_field_values:\n\u001b[0;32m    208\u001b[0m     on_before(result)\n\u001b[1;32m--> 209\u001b[0m \u001b[38;5;28mself\u001b[39m\u001b[38;5;241m.\u001b[39m_assign_field_values(result)\n\u001b[0;32m    210\u001b[0m \u001b[38;5;28;01mif\u001b[39;00m on_after \u001b[38;5;241m:=\u001b[39m \u001b[38;5;28mself\u001b[39m\u001b[38;5;241m.\u001b[39mon_after_assign_field_values:\n\u001b[0;32m    211\u001b[0m     on_after(result)\n",
      "File \u001b[1;32m~\\anaconda3\\envs\\espc23\\Lib\\site-packages\\kiota_serialization_json\\json_parse_node.py:280\u001b[0m, in \u001b[0;36mJsonParseNode._assign_field_values\u001b[1;34m(self, item)\u001b[0m\n\u001b[0;32m    278\u001b[0m     field_deserializer(JsonParseNode(field_value))\n\u001b[0;32m    279\u001b[0m \u001b[38;5;28;01melif\u001b[39;00m item_additional_data \u001b[38;5;129;01mis\u001b[39;00m \u001b[38;5;129;01mnot\u001b[39;00m \u001b[38;5;28;01mNone\u001b[39;00m:\n\u001b[1;32m--> 280\u001b[0m     item_additional_data[field_name] \u001b[38;5;241m=\u001b[39m \u001b[38;5;28mself\u001b[39m\u001b[38;5;241m.\u001b[39mtry_get_anything(field_value)\n\u001b[0;32m    281\u001b[0m \u001b[38;5;28;01melse\u001b[39;00m:\n\u001b[0;32m    282\u001b[0m     warnings\u001b[38;5;241m.\u001b[39mwarn(\n\u001b[0;32m    283\u001b[0m         \u001b[38;5;124mf\u001b[39m\u001b[38;5;124m\"\u001b[39m\u001b[38;5;124mFound additional property \u001b[39m\u001b[38;5;132;01m{\u001b[39;00mfield_name\u001b[38;5;132;01m}\u001b[39;00m\u001b[38;5;124m to \u001b[39m\u001b[38;5;130;01m\\\u001b[39;00m\n\u001b[0;32m    284\u001b[0m \u001b[38;5;124m        deserialize but the model doesn\u001b[39m\u001b[38;5;124m'\u001b[39m\u001b[38;5;124mt support additional data\u001b[39m\u001b[38;5;124m\"\u001b[39m\n\u001b[0;32m    285\u001b[0m     )\n",
      "File \u001b[1;32m~\\anaconda3\\envs\\espc23\\Lib\\site-packages\\kiota_serialization_json\\json_parse_node.py:296\u001b[0m, in \u001b[0;36mJsonParseNode.try_get_anything\u001b[1;34m(self, value)\u001b[0m\n\u001b[0;32m    294\u001b[0m \u001b[38;5;28;01mif\u001b[39;00m \u001b[38;5;28misinstance\u001b[39m(value, \u001b[38;5;28mstr\u001b[39m):\n\u001b[0;32m    295\u001b[0m     \u001b[38;5;28;01mtry\u001b[39;00m:\n\u001b[1;32m--> 296\u001b[0m         datetime_obj \u001b[38;5;241m=\u001b[39m parser\u001b[38;5;241m.\u001b[39mparse(value)\n\u001b[0;32m    297\u001b[0m         \u001b[38;5;28;01mreturn\u001b[39;00m timedelta(\n\u001b[0;32m    298\u001b[0m             hours\u001b[38;5;241m=\u001b[39mdatetime_obj\u001b[38;5;241m.\u001b[39mhour,\n\u001b[0;32m    299\u001b[0m             minutes\u001b[38;5;241m=\u001b[39mdatetime_obj\u001b[38;5;241m.\u001b[39mminute,\n\u001b[0;32m    300\u001b[0m             seconds\u001b[38;5;241m=\u001b[39mdatetime_obj\u001b[38;5;241m.\u001b[39msecond\n\u001b[0;32m    301\u001b[0m         )\n\u001b[0;32m    302\u001b[0m     \u001b[38;5;28;01mexcept\u001b[39;00m \u001b[38;5;167;01mValueError\u001b[39;00m:\n",
      "File \u001b[1;32m~\\anaconda3\\envs\\espc23\\Lib\\site-packages\\dateutil\\parser\\_parser.py:1368\u001b[0m, in \u001b[0;36mparse\u001b[1;34m(timestr, parserinfo, **kwargs)\u001b[0m\n\u001b[0;32m   1366\u001b[0m     \u001b[38;5;28;01mreturn\u001b[39;00m parser(parserinfo)\u001b[38;5;241m.\u001b[39mparse(timestr, \u001b[38;5;241m*\u001b[39m\u001b[38;5;241m*\u001b[39mkwargs)\n\u001b[0;32m   1367\u001b[0m \u001b[38;5;28;01melse\u001b[39;00m:\n\u001b[1;32m-> 1368\u001b[0m     \u001b[38;5;28;01mreturn\u001b[39;00m DEFAULTPARSER\u001b[38;5;241m.\u001b[39mparse(timestr, \u001b[38;5;241m*\u001b[39m\u001b[38;5;241m*\u001b[39mkwargs)\n",
      "File \u001b[1;32m~\\anaconda3\\envs\\espc23\\Lib\\site-packages\\dateutil\\parser\\_parser.py:649\u001b[0m, in \u001b[0;36mparser.parse\u001b[1;34m(self, timestr, default, ignoretz, tzinfos, **kwargs)\u001b[0m\n\u001b[0;32m    646\u001b[0m     \u001b[38;5;28;01mraise\u001b[39;00m ParserError(\u001b[38;5;124m\"\u001b[39m\u001b[38;5;124mString does not contain a date: \u001b[39m\u001b[38;5;132;01m%s\u001b[39;00m\u001b[38;5;124m\"\u001b[39m, timestr)\n\u001b[0;32m    648\u001b[0m \u001b[38;5;28;01mtry\u001b[39;00m:\n\u001b[1;32m--> 649\u001b[0m     ret \u001b[38;5;241m=\u001b[39m \u001b[38;5;28mself\u001b[39m\u001b[38;5;241m.\u001b[39m_build_naive(res, default)\n\u001b[0;32m    650\u001b[0m \u001b[38;5;28;01mexcept\u001b[39;00m \u001b[38;5;167;01mValueError\u001b[39;00m \u001b[38;5;28;01mas\u001b[39;00m e:\n\u001b[0;32m    651\u001b[0m     six\u001b[38;5;241m.\u001b[39mraise_from(ParserError(\u001b[38;5;28mstr\u001b[39m(e) \u001b[38;5;241m+\u001b[39m \u001b[38;5;124m\"\u001b[39m\u001b[38;5;124m: \u001b[39m\u001b[38;5;132;01m%s\u001b[39;00m\u001b[38;5;124m\"\u001b[39m, timestr), e)\n",
      "File \u001b[1;32m~\\anaconda3\\envs\\espc23\\Lib\\site-packages\\dateutil\\parser\\_parser.py:1235\u001b[0m, in \u001b[0;36mparser._build_naive\u001b[1;34m(self, res, default)\u001b[0m\n\u001b[0;32m   1232\u001b[0m     \u001b[38;5;28;01mif\u001b[39;00m cday \u001b[38;5;241m>\u001b[39m monthrange(cyear, cmonth)[\u001b[38;5;241m1\u001b[39m]:\n\u001b[0;32m   1233\u001b[0m         repl[\u001b[38;5;124m'\u001b[39m\u001b[38;5;124mday\u001b[39m\u001b[38;5;124m'\u001b[39m] \u001b[38;5;241m=\u001b[39m monthrange(cyear, cmonth)[\u001b[38;5;241m1\u001b[39m]\n\u001b[1;32m-> 1235\u001b[0m naive \u001b[38;5;241m=\u001b[39m default\u001b[38;5;241m.\u001b[39mreplace(\u001b[38;5;241m*\u001b[39m\u001b[38;5;241m*\u001b[39mrepl)\n\u001b[0;32m   1237\u001b[0m \u001b[38;5;28;01mif\u001b[39;00m res\u001b[38;5;241m.\u001b[39mweekday \u001b[38;5;129;01mis\u001b[39;00m \u001b[38;5;129;01mnot\u001b[39;00m \u001b[38;5;28;01mNone\u001b[39;00m \u001b[38;5;129;01mand\u001b[39;00m \u001b[38;5;129;01mnot\u001b[39;00m res\u001b[38;5;241m.\u001b[39mday:\n\u001b[0;32m   1238\u001b[0m     naive \u001b[38;5;241m=\u001b[39m naive \u001b[38;5;241m+\u001b[39m relativedelta\u001b[38;5;241m.\u001b[39mrelativedelta(weekday\u001b[38;5;241m=\u001b[39mres\u001b[38;5;241m.\u001b[39mweekday)\n",
      "\u001b[1;31mOverflowError\u001b[0m: Python int too large to convert to C long"
     ]
    }
   ],
   "source": [
    "request_body = QueryPostRequestBody(\n",
    "\trequests = [\n",
    "\t\tSearchRequest(\n",
    "\t\t\tentity_types = [\n",
    "\t\t\t\tEntityType.ChatMessage\n",
    "\t\t\t],\n",
    "\t\t\tquery = SearchQuery(\n",
    "\t\t\t\tquery_string = subject,\n",
    "\t\t\t),\n",
    "\t\t),\n",
    "\t],\n",
    ")\n",
    "\n",
    "chat_result = await client.search.query.post(request_body)"
   ]
  },
  {
   "cell_type": "code",
   "execution_count": 19,
   "id": "b94f0099",
   "metadata": {},
   "outputs": [
    {
     "ename": "NameError",
     "evalue": "name 'chat_result' is not defined",
     "output_type": "error",
     "traceback": [
      "\u001b[1;31m---------------------------------------------------------------------------\u001b[0m",
      "\u001b[1;31mNameError\u001b[0m                                 Traceback (most recent call last)",
      "Cell \u001b[1;32mIn[19], line 1\u001b[0m\n\u001b[1;32m----> 1\u001b[0m chat_data \u001b[38;5;241m=\u001b[39m chat_result\u001b[38;5;241m.\u001b[39mvalue\n",
      "\u001b[1;31mNameError\u001b[0m: name 'chat_result' is not defined"
     ]
    }
   ],
   "source": [
    "chat_data = chat_result.value"
   ]
  },
  {
   "cell_type": "code",
   "execution_count": 20,
   "id": "ba4b5cee",
   "metadata": {},
   "outputs": [
    {
     "ename": "NameError",
     "evalue": "name 'chat_data' is not defined",
     "output_type": "error",
     "traceback": [
      "\u001b[1;31m---------------------------------------------------------------------------\u001b[0m",
      "\u001b[1;31mNameError\u001b[0m                                 Traceback (most recent call last)",
      "Cell \u001b[1;32mIn[20], line 2\u001b[0m\n\u001b[0;32m      1\u001b[0m \u001b[38;5;66;03m##Testing with GUID\u001b[39;00m\n\u001b[1;32m----> 2\u001b[0m search_response \u001b[38;5;241m=\u001b[39m chat_data[\u001b[38;5;241m0\u001b[39m] \n\u001b[0;32m      4\u001b[0m \u001b[38;5;66;03m# Initialize an empty list to store summaries, chat IDs, and generated GUIDs\u001b[39;00m\n\u001b[0;32m      5\u001b[0m summaries_chat_ids_and_guids \u001b[38;5;241m=\u001b[39m []\n",
      "\u001b[1;31mNameError\u001b[0m: name 'chat_data' is not defined"
     ]
    }
   ],
   "source": [
    "##Testing with GUID\n",
    "search_response = chat_data[0] \n",
    "\n",
    "# Initialize an empty list to store summaries, chat IDs, and generated GUIDs\n",
    "summaries_chat_ids_and_guids = []\n",
    "\n",
    "# Iterate over hits_containers in the SearchResponse object\n",
    "for hits_container in search_response.hits_containers:\n",
    "    # Iterate over each hit in the container\n",
    "    for hit in hits_container.hits:\n",
    "        # Extract the summary\n",
    "        summary = hit.summary\n",
    "\n",
    "        # Extract the chatId from additional_data\n",
    "        chat_id = hit.resource.additional_data.get('chatId', 'Unknown')\n",
    "\n",
    "        # Generate a unique GUID for each hit\n",
    "        guid = str(uuid.uuid4())\n",
    "\n",
    "        # Append the chatId, summary, and GUID as a tuple to the list\n",
    "        summaries_chat_ids_and_guids.append((guid, summary))\n",
    "\n",
    "# Now 'summaries_chat_ids_and_guids' contains the chatId, summary, and a unique GUID for each search hit\n",
    "for item in summaries_chat_ids_and_guids:\n",
    "    await kernel.memory.save_information_async(\"ESPC23\", id=guid, text=summary)\n",
    "    print(item)\n",
    "\n",
    "                                            "
   ]
  },
  {
   "cell_type": "code",
   "execution_count": 21,
   "id": "d9e820b8",
   "metadata": {},
   "outputs": [
    {
     "ename": "NameError",
     "evalue": "name 'summaries_chat_ids_and_guids' is not defined",
     "output_type": "error",
     "traceback": [
      "\u001b[1;31m---------------------------------------------------------------------------\u001b[0m",
      "\u001b[1;31mNameError\u001b[0m                                 Traceback (most recent call last)",
      "Cell \u001b[1;32mIn[21], line 1\u001b[0m\n\u001b[1;32m----> 1\u001b[0m \u001b[38;5;28mprint\u001b[39m(summaries_chat_ids_and_guids)\n",
      "\u001b[1;31mNameError\u001b[0m: name 'summaries_chat_ids_and_guids' is not defined"
     ]
    }
   ],
   "source": [
    "print(summaries_chat_ids_and_guids)"
   ]
  },
  {
   "cell_type": "markdown",
   "id": "fa860da3",
   "metadata": {},
   "source": [
    "## Work with Drives(Files) Search Query Endpoint"
   ]
  },
  {
   "cell_type": "code",
   "execution_count": 22,
   "id": "a2ca5097",
   "metadata": {},
   "outputs": [],
   "source": [
    "request_body = QueryPostRequestBody(\n",
    "\trequests = [\n",
    "\t\tSearchRequest(\n",
    "\t\t\tentity_types = [\n",
    "\t\t\t\tEntityType.DriveItem\n",
    "\t\t\t],\n",
    "\t\t\tquery = SearchQuery(\n",
    "\t\t\t\tquery_string = subject,\n",
    "\t\t\t),\n",
    "\t\t),\n",
    "\t],\n",
    ")\n",
    "\n",
    "drive_result = await client.search.query.post(request_body)"
   ]
  },
  {
   "cell_type": "code",
   "execution_count": 23,
   "id": "f61a7c84",
   "metadata": {},
   "outputs": [],
   "source": [
    "drive_data = drive_result.value\n",
    "#print(drive_data)"
   ]
  },
  {
   "cell_type": "code",
   "execution_count": 24,
   "id": "0fa868c5",
   "metadata": {},
   "outputs": [
    {
     "name": "stdout",
     "output_type": "stream",
     "text": [
      "('5a0916f7-383f-4752-a942-5896bfa7a5f2', 'CollabSummit2024_GabbySpeaking.docx')\n",
      "('a2b8cd58-8d6a-40d7-8187-a12431d684cd', 'Apps')\n",
      "('4ef59747-696d-45fd-82ae-a57b50d44897', 'ProjectRoundtreeStatusReport.docx')\n",
      "('29feceff-b445-4d8c-a3ba-2de9318a0cc8', 'HowToGainAccessToStudyGroup.docx')\n"
     ]
    }
   ],
   "source": [
    "try:\n",
    "    drive_search_response = drive_data[0]  # Assuming there's only one SearchResponse object in the list\n",
    "\n",
    "    # Initialize an empty list to store summaries, from information, and generated GUIDs\n",
    "    drive_summary_from_and_guids = []\n",
    "    drive_narrative = []\n",
    "\n",
    "    if drive_search_response:\n",
    "        # Iterate over hits_containers in the SearchResponse object\n",
    "        for drive_hits_container in drive_search_response.hits_containers:\n",
    "            # Iterate over each hit in the container\n",
    "            for drive_hit in drive_hits_container.hits:\n",
    "                # Extract the summary\n",
    "                drive_summary = drive_hit.summary\n",
    "\n",
    "                # Extract the 'from' information from additional_data\n",
    "                from_data = drive_hit.resource.additional_data.get('from', {}).get('emailAddress', {})\n",
    "                from_name = from_data.get('name', 'Unknown')\n",
    "                from_email = from_data.get('address', 'Unknown')\n",
    "                file_name = getattr(drive_hit.resource, 'name', 'Unknown')\n",
    "                user_email = from_data.get('email', 'Unknown')\n",
    "\n",
    "                # Generate a unique GUID for each hit\n",
    "                drive_guid = str(uuid.uuid4())\n",
    "\n",
    "                # Append the summary, 'from' information, and GUID as a tuple to the list\n",
    "                drive_summary_from_and_guids.append((drive_guid, drive_summary, from_name, from_email))\n",
    "                drive_narrative.append((drive_guid, file_name))\n",
    "except Exception as e:\n",
    "    print(f\"An error occurred: {e}\")\n",
    "\n",
    "# Now 'drive_summary_from_and_guids' contains the summary, from information, and a unique GUID for each search hit\n",
    "for item in drive_narrative:\n",
    "    await kernel.memory.save_information_async(\"ESPC23\", id=drive_guid, text=file_name)\n",
    "    print(item)\n",
    "\n"
   ]
  },
  {
   "cell_type": "code",
   "execution_count": 25,
   "id": "b6734a8b",
   "metadata": {},
   "outputs": [
    {
     "name": "stdout",
     "output_type": "stream",
     "text": [
      "[('5a0916f7-383f-4752-a942-5896bfa7a5f2', 'CollabSummit2024_GabbySpeaking.docx'), ('a2b8cd58-8d6a-40d7-8187-a12431d684cd', 'Apps'), ('4ef59747-696d-45fd-82ae-a57b50d44897', 'ProjectRoundtreeStatusReport.docx'), ('29feceff-b445-4d8c-a3ba-2de9318a0cc8', 'HowToGainAccessToStudyGroup.docx')]\n"
     ]
    }
   ],
   "source": [
    "print(drive_narrative)"
   ]
  },
  {
   "cell_type": "markdown",
   "id": "acbea2e4",
   "metadata": {},
   "source": [
    "## Work with Messages(Email) Search Query Endpoint"
   ]
  },
  {
   "cell_type": "code",
   "execution_count": 26,
   "id": "ffd8ddf6",
   "metadata": {},
   "outputs": [],
   "source": [
    "request_body = QueryPostRequestBody(\n",
    "\trequests = [\n",
    "\t\tSearchRequest(\n",
    "\t\t\tentity_types = [\n",
    "\t\t\t\tEntityType.Message\n",
    "\t\t\t],\n",
    "\t\t\tquery = SearchQuery(\n",
    "\t\t\t\tquery_string = subject,\n",
    "\t\t\t),\n",
    "\t\t),\n",
    "\t],\n",
    ")\n",
    "\n",
    "mail_result = await client.search.query.post(request_body)"
   ]
  },
  {
   "cell_type": "code",
   "execution_count": 27,
   "id": "48598f79",
   "metadata": {},
   "outputs": [],
   "source": [
    "mail_data = mail_result.value"
   ]
  },
  {
   "cell_type": "code",
   "execution_count": 28,
   "id": "1ff3a986",
   "metadata": {},
   "outputs": [
    {
     "name": "stdout",
     "output_type": "stream",
     "text": [
      "('78325efe-7169-40a9-87e8-c22975338ef7', \"Fabian Williams shared a file with you  Here's the document that Fabian Williams shared with you.   ProjectRoundtreeStatusReport   This link will work for anyone.  Open   Privacy...\", 'Unknown', 'Unknown')\n",
      "('c1b48f9c-3063-4e7d-835f-01704008a0bf', \"Fabian Williams shared a file with you   Here's the document that Fabian Williams shared with you.   HowToGainAccessToStudyGroup  1 min to read this.   This link will work for...\", 'Unknown', 'Unknown')\n",
      "('630132f0-98ed-414b-a033-95ca62ffb4ec', 'From: Microsoft <microsoft-noreply@microsoft.com> Sent: Thursday, November 9, 2023 8:15 PM To: Fabian Williams <fabian@fabster.onmicrosoft.com> Subject: Your Microsoft invoice...', 'Unknown', 'Unknown')\n",
      "('bf990692-bbe9-4ef6-b282-a18436a7eabe', 'Private to you Hi, <c0>Gabby</c0> Gabgab, Welcome to your new digest from Microsoft Viva Work smarter with Microsoft Viva Insights Explore insights on your work patterns in areas including...', 'Unknown', 'Unknown')\n",
      "('c46a3f4b-e603-41a5-8404-88828f05fea4', 'Hello Attendees in our Denmark Session!', 'Unknown', 'Unknown')\n",
      "('85f2c23a-5802-4474-bd08-54f70ac7943b', 'Hello Attendees in our Denmark Session!', 'Unknown', 'Unknown')\n",
      "('3f698315-d954-4b10-9909-5b1ebbc5580b', \"here's a HAPPY MAIL :)...\", 'Unknown', 'Unknown')\n",
      "('ebabee81-bf50-4df7-9f09-b6b3a4928602', 'Hi, I‘m not yet sure if I am happy about the session at the moment. It is hard to think about being happy, if you do not know what to expect. Thinkibg about it this makes me angry...', 'Unknown', 'Unknown')\n",
      "('c9cb5d39-c134-4aa0-bf2d-b81acc49876c', 'Hi This day will be a good day to learn new tech 😊 Best Martin...', 'Unknown', 'Unknown')\n",
      "('8af803f8-784e-4cf5-987d-9d6d8f29428c', \"Hi <c0>Gabby</c0>, Why on earth you using Anaconda?! I'm angry! Lmao! 😋 Paul Sent from Outlook for iOS ...\", 'Unknown', 'Unknown')\n",
      "('a78791be-599f-43c7-b7c9-125ffcc16085', 'I am so happy that you can see how angry I am. Sendt fra min iPhone...', 'Unknown', 'Unknown')\n",
      "('eacaeb2f-bace-4d0c-889e-148ff2b80b8d', 'But really eager to get to lunch! Best, Robert Få Outlook for Android...', 'Unknown', 'Unknown')\n",
      "('7d9325ef-ce29-4bcf-90af-80c4c4a2b257', 'Hi <c0>Gabby</c0>, Thank you for delivering an awesome session! Out of interest why Anaconda? Paul Sent from Outlook for iOS ...', 'Unknown', 'Unknown')\n",
      "('e97121c7-63d9-4736-a99e-264e391abd8c', 'Hello Attendees in our Denmark Session!', 'Unknown', 'Unknown')\n",
      "('2a772779-819e-476d-8d14-544a4fd00997', 'Hello Attendees in our Denmark Session!', 'Unknown', 'Unknown')\n",
      "('6f44b87b-8031-45ba-a462-a7a94aa14f35', 'Ok, So make sure you know your lines, study your answers to the questions. Get your demo ready to go. MOST IMPORTANT: do all the sacrifices to the demo gods!!! Dad.', 'Unknown', 'Unknown')\n"
     ]
    }
   ],
   "source": [
    "try:\n",
    "    mail_search_response = mail_data[0]  # Assuming there's only one SearchResponse object in the list\n",
    "\n",
    "    # Initialize an empty list to store summaries, from information, and generated GUIDs\n",
    "    mail_summary_from_and_guids = []\n",
    "\n",
    "    if mail_search_response:\n",
    "        # Iterate over hits_containers in the SearchResponse object\n",
    "        for mail_hits_container in mail_search_response.hits_containers:\n",
    "            # Iterate over each hit in the container\n",
    "            for mail_hit in mail_hits_container.hits:\n",
    "                # Extract the summary\n",
    "                mail_summary = mail_hit.summary\n",
    "\n",
    "                # Extract the 'from' information from additional_data\n",
    "                from_data = mail_hit.resource.additional_data.get('from', {}).get('emailAddress', {})\n",
    "                from_name = from_data.get('name', 'Unknown')\n",
    "                from_email = from_data.get('address', 'Unknown')\n",
    "\n",
    "                # Generate a unique GUID for each hit\n",
    "                guid = str(uuid.uuid4())\n",
    "\n",
    "                # Append the summary, 'from' information, and GUID as a tuple to the list\n",
    "                mail_summary_from_and_guids.append((guid, mail_summary, from_name, from_email))\n",
    "                mailconstruct = mail_summary + \" from \" + from_name\n",
    "except Exception as e:\n",
    "    print(f\"An error occurred: {e}\")\n",
    "\n",
    "# Now 'mail_summary_from_and_guids' contains the summary, from information, and a unique GUID for each search hit\n",
    "for item in mail_summary_from_and_guids:\n",
    "    await kernel.memory.save_information_async(\"ESPC23\", id=guid, text=mailconstruct)\n",
    "    print(item)"
   ]
  },
  {
   "cell_type": "markdown",
   "id": "b127c4a3",
   "metadata": {},
   "source": [
    "## Query and Read All 3 Payloads from Semantic Memory ONLY"
   ]
  },
  {
   "cell_type": "code",
   "execution_count": 29,
   "id": "37def4d2",
   "metadata": {},
   "outputs": [],
   "source": [
    "async def search_memory_examples(kernel: sk.Kernel) -> None:\n",
    "    questions = [\n",
    "        \"What did I accomplish this weekend with Gabby in Antwerp regarding our ESPC demo?\",\n",
    "        \"What ESPC23 artifacts do I have?\",\n",
    "    ]\n",
    "\n",
    "    for question in questions:\n",
    "        results = await kernel.memory.search_async(\"ESPC23\", question, limit=3)\n",
    "        for result in results:\n",
    "            print(f\"Question: {question}\")\n",
    "            print(f\"Answer: {result.text}\\nRelevance: {result.relevance}\\n\")"
   ]
  },
  {
   "cell_type": "code",
   "execution_count": 30,
   "id": "db001692",
   "metadata": {},
   "outputs": [
    {
     "name": "stdout",
     "output_type": "stream",
     "text": [
      "Question: What did I accomplish this weekend with Gabby in Antwerp regarding our ESPC demo?\n",
      "Answer: Ok, So make sure you know your lines, study your answers to the questions. Get your demo ready to go. MOST IMPORTANT: do all the sacrifices to the demo gods!!! Dad. from Unknown\n",
      "Relevance: 0.7582602447035458\n",
      "\n",
      "Question: What did I accomplish this weekend with Gabby in Antwerp regarding our ESPC demo?\n",
      "Answer: HowToGainAccessToStudyGroup.docx\n",
      "Relevance: 0.7546709696624034\n",
      "\n",
      "Question: What ESPC23 artifacts do I have?\n",
      "Answer: HowToGainAccessToStudyGroup.docx\n",
      "Relevance: 0.7296164736930804\n",
      "\n",
      "Question: What ESPC23 artifacts do I have?\n",
      "Answer: Ok, So make sure you know your lines, study your answers to the questions. Get your demo ready to go. MOST IMPORTANT: do all the sacrifices to the demo gods!!! Dad. from Unknown\n",
      "Relevance: 0.7186311721156557\n",
      "\n"
     ]
    }
   ],
   "source": [
    "await search_memory_examples(kernel)"
   ]
  },
  {
   "cell_type": "markdown",
   "id": "ef9ae5bd",
   "metadata": {},
   "source": [
    "## Setup RAG Function"
   ]
  },
  {
   "cell_type": "code",
   "execution_count": 31,
   "id": "7cefb0db",
   "metadata": {},
   "outputs": [
    {
     "name": "stdout",
     "output_type": "stream",
     "text": [
      "ESPC23\n"
     ]
    }
   ],
   "source": [
    "print(COLLECTION)"
   ]
  },
  {
   "cell_type": "code",
   "execution_count": 33,
   "id": "9790255c",
   "metadata": {},
   "outputs": [],
   "source": [
    "async def setup_RAG(kernel: sk.Kernel) -> Tuple[sk.SKFunctionBase, sk.SKContext]:\n",
    "    sk_prompt = \"\"\"\n",
    "    You are a friendly and very talkative ChatBot. \n",
    "    \n",
    "    {{$history}}\n",
    "    Answer the {{$user_input}}. You may use information provided in {{$retreived_context}} it may be useful. \n",
    "    Use information only from {{$retreived_context}} otherwise say 'Nothing came back from Microsoft Graph'. \n",
    "    Do not start off the response with I'm sorry\n",
    "    ChatBot:\"\"\".strip()\n",
    "\n",
    "    rag_func = kernel.create_semantic_function(sk_prompt, max_tokens=2000, temperature=0.1)\n",
    "\n",
    "    context = kernel.create_new_context()\n",
    "\n",
    "    return rag_func, context"
   ]
  },
  {
   "cell_type": "code",
   "execution_count": 35,
   "id": "3760b96d",
   "metadata": {},
   "outputs": [],
   "source": [
    "async def RAG(kernel: sk.Kernel, rag_func: sk.SKFunctionBase, context: sk.SKContext) -> bool:\n",
    "\n",
    "    user_input = input(\"User:> \")\n",
    "    context[\"user_input\"] = user_input\n",
    "    #Retrieve\n",
    "    result = await kernel.memory.search_async(COLLECTION,context[\"user_input\"])\n",
    "\n",
    "    \n",
    "    if result[0].text:\n",
    "        context[\"retreived_context\"] = result[0].text\n",
    "    \n",
    "    #Then generate\n",
    "    answer = await kernel.run_async(rag_func, input_vars=context.variables)\n",
    "\n",
    "    print(f\"\\n\\u001b[34mChatBot:> {answer}\\u001b[0m \\n\\n\\033[1;32m Source: {context['retreived_context']}\\n Relevance: {result[0].relevance}\\u001b[0m \\n\")\n",
    "    return False"
   ]
  },
  {
   "cell_type": "code",
   "execution_count": 36,
   "id": "515e3ff8",
   "metadata": {},
   "outputs": [
    {
     "name": "stdout",
     "output_type": "stream",
     "text": [
      "Simulate Chat experience with SK and RAG\n"
     ]
    }
   ],
   "source": [
    "print(\"Simulate Chat experience with SK and RAG\")\n",
    "rag_func, context = await setup_RAG(kernel)"
   ]
  },
  {
   "cell_type": "code",
   "execution_count": 37,
   "id": "7bdf24e1",
   "metadata": {},
   "outputs": [
    {
     "name": "stdout",
     "output_type": "stream",
     "text": [
      "Ask a question (type 'exit' to exit):\n",
      "\n",
      "User:> What do I need to do to prepare for my ESPC demo\n",
      "\n",
      "\u001b[34mChatBot:> To prepare for your ESPC demo, you should first ensure that you are well-versed with your lines. This means understanding the content you are going to present and being able to deliver it confidently. \n",
      "\n",
      "Next, you should study your answers to the questions. This could mean anticipating what questions might be asked and preparing your responses. It's always good to be prepared for any potential questions that may come your way during the demo.\n",
      "\n",
      "Then, get your demo ready to go. This could involve setting up any necessary equipment, ensuring your presentation slides are in order, and making sure all technical aspects are functioning correctly.\n",
      "\n",
      "Lastly, and most importantly, don't forget to do all the sacrifices to the demo gods! This is a humorous way of saying that you should do everything you can to ensure your demo goes smoothly. This could involve double-checking everything, doing a practice run, and staying positive.\n",
      "\n",
      "Remember, preparation is key to a successful demo. Good luck!\u001b[0m \n",
      "\n",
      "\u001b[1;32m Source: Ok, So make sure you know your lines, study your answers to the questions. Get your demo ready to go. MOST IMPORTANT: do all the sacrifices to the demo gods!!! Dad. from Unknown\n",
      " Relevance: 0.803757765985616\u001b[0m \n",
      "\n"
     ]
    }
   ],
   "source": [
    "print(\"Ask a question (type 'exit' to exit):\\n\")\n",
    "answer = await RAG(kernel, rag_func, context)"
   ]
  },
  {
   "cell_type": "markdown",
   "id": "362a133b",
   "metadata": {},
   "source": [
    "### User Prompts that work"
   ]
  },
  {
   "cell_type": "code",
   "execution_count": 38,
   "id": "d7520ead",
   "metadata": {},
   "outputs": [],
   "source": [
    "# GREAT\n",
    "# What do I need to do to prepare for my ESPC demo\n",
    "# GOOD\n",
    "# What did I accomplish this weekend with Gabby in Antwerp regarding our ESPC demo?\n",
    "# Where did I go this weekend and what did I do\n",
    "# \n",
    "#"
   ]
  },
  {
   "cell_type": "code",
   "execution_count": null,
   "id": "df49276d",
   "metadata": {},
   "outputs": [],
   "source": []
  }
 ],
 "metadata": {
  "kernelspec": {
   "display_name": "espc23",
   "language": "python",
   "name": "espc23"
  },
  "language_info": {
   "codemirror_mode": {
    "name": "ipython",
    "version": 3
   },
   "file_extension": ".py",
   "mimetype": "text/x-python",
   "name": "python",
   "nbconvert_exporter": "python",
   "pygments_lexer": "ipython3",
   "version": "3.11.5"
  }
 },
 "nbformat": 4,
 "nbformat_minor": 5
}
