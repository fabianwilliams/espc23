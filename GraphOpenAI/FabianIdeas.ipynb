{
 "cells": [
  {
   "cell_type": "code",
   "execution_count": 15,
   "id": "ddb4d38a-f275-4050-ac51-673f2ddd86f1",
   "metadata": {},
   "outputs": [],
   "source": [
    "import json\n",
    "from dotenv import load_dotenv \n",
    "import time"
   ]
  },
  {
   "cell_type": "markdown",
   "id": "f0f4f87e-9d73-45cf-b6a0-fcae172cd5dc",
   "metadata": {},
   "source": [
    "load_dotenv()"
   ]
  },
  {
   "cell_type": "code",
   "execution_count": 2,
   "id": "5694caaf-9ce2-4488-9d9e-ad295e9213a0",
   "metadata": {},
   "outputs": [
    {
     "name": "stdout",
     "output_type": "stream",
     "text": [
      "Version: 1.3.5\n"
     ]
    }
   ],
   "source": [
    "!pip show openai | grep Version"
   ]
  },
  {
   "cell_type": "code",
   "execution_count": 4,
   "id": "a323feac-b103-4761-992b-439972bb6891",
   "metadata": {},
   "outputs": [],
   "source": [
    "def show_json(obj):\n",
    "    display(json.loads(obj.model_dump_json()))"
   ]
  },
  {
   "cell_type": "code",
   "execution_count": 10,
   "id": "ee292f14-9f2d-4dfd-86cf-85a48778e648",
   "metadata": {},
   "outputs": [],
   "source": [
    "from openai import OpenAI\n",
    "\n",
    "client = OpenAI()"
   ]
  },
  {
   "cell_type": "markdown",
   "id": "e8c97d2c-f4a2-40c4-b0e4-5ecee3993fb4",
   "metadata": {},
   "source": [
    "## Create the OpenAI Assistant"
   ]
  },
  {
   "cell_type": "code",
   "execution_count": 11,
   "id": "26746369-ff48-460a-a4e4-2d06f80a475a",
   "metadata": {},
   "outputs": [
    {
     "data": {
      "text/plain": [
       "{'id': 'asst_bZNdoacKlcfEQy1lk58C1Lyk',\n",
       " 'created_at': 1701088677,\n",
       " 'description': None,\n",
       " 'file_ids': [],\n",
       " 'instructions': 'You are a personal math tutor. Answer questions briefly, in a sentence or less.',\n",
       " 'metadata': {},\n",
       " 'model': 'gpt-4-1106-preview',\n",
       " 'name': 'Math Tutor',\n",
       " 'object': 'assistant',\n",
       " 'tools': []}"
      ]
     },
     "metadata": {},
     "output_type": "display_data"
    }
   ],
   "source": [
    "assistantone = client.beta.assistants.create(\n",
    "    name=\"Math Tutor\",\n",
    "    instructions=\"You are a personal math tutor. Answer questions briefly, in a sentence or less.\",\n",
    "    model=\"gpt-4-1106-preview\",\n",
    ")\n",
    "show_json(assistantone)"
   ]
  },
  {
   "cell_type": "markdown",
   "id": "58ff8a64-ace6-4d81-a0c6-ee9be2aff938",
   "metadata": {},
   "source": [
    "## Create an instance of an OpenAI tread for a single user interaction"
   ]
  },
  {
   "cell_type": "code",
   "execution_count": 12,
   "id": "cd4ac736-29e8-4025-bd84-f0e480e63233",
   "metadata": {},
   "outputs": [
    {
     "data": {
      "text/plain": [
       "{'id': 'thread_nEUYAGd8qBQNhyysyeH36325',\n",
       " 'created_at': 1701088809,\n",
       " 'metadata': {},\n",
       " 'object': 'thread'}"
      ]
     },
     "metadata": {},
     "output_type": "display_data"
    }
   ],
   "source": [
    "threadone = client.beta.threads.create()\n",
    "show_json(threadone)"
   ]
  },
  {
   "cell_type": "markdown",
   "id": "a448a084-459e-428a-ade3-c9cc2eacaba1",
   "metadata": {},
   "source": [
    "## Add a new message from the user to ThreadOne"
   ]
  },
  {
   "cell_type": "code",
   "execution_count": 13,
   "id": "19117280-b4af-4ff3-af3e-6d6962e60fe9",
   "metadata": {},
   "outputs": [
    {
     "data": {
      "text/plain": [
       "{'id': 'msg_XhAZJd7dv4fYTOerdIfP0gpL',\n",
       " 'assistant_id': None,\n",
       " 'content': [{'text': {'annotations': [],\n",
       "    'value': 'I need to solve the equation `3x + 11 = 14`. Can you help me?'},\n",
       "   'type': 'text'}],\n",
       " 'created_at': 1701088941,\n",
       " 'file_ids': [],\n",
       " 'metadata': {},\n",
       " 'object': 'thread.message',\n",
       " 'role': 'user',\n",
       " 'run_id': None,\n",
       " 'thread_id': 'thread_nEUYAGd8qBQNhyysyeH36325'}"
      ]
     },
     "metadata": {},
     "output_type": "display_data"
    }
   ],
   "source": [
    "message = client.beta.threads.messages.create(\n",
    "    thread_id=threadone.id,\n",
    "    role=\"user\",\n",
    "    content=\"I need to solve the equation `3x + 11 = 14`. Can you help me?\",\n",
    ")\n",
    "show_json(message)"
   ]
  },
  {
   "cell_type": "markdown",
   "id": "55aacc9d-080d-49f9-ae1b-179a09f61f27",
   "metadata": {},
   "source": [
    "## Create a Run to have the AssistantOne respond to the message in ThreadOne"
   ]
  },
  {
   "cell_type": "code",
   "execution_count": 14,
   "id": "616c035c-3de0-4e02-9798-86ebbd76b1f0",
   "metadata": {},
   "outputs": [
    {
     "data": {
      "text/plain": [
       "{'id': 'run_Ob8wHDmfkuHbHPj5j3Mthp9j',\n",
       " 'assistant_id': 'asst_bZNdoacKlcfEQy1lk58C1Lyk',\n",
       " 'cancelled_at': None,\n",
       " 'completed_at': None,\n",
       " 'created_at': 1701089071,\n",
       " 'expires_at': 1701089671,\n",
       " 'failed_at': None,\n",
       " 'file_ids': [],\n",
       " 'instructions': 'You are a personal math tutor. Answer questions briefly, in a sentence or less.',\n",
       " 'last_error': None,\n",
       " 'metadata': {},\n",
       " 'model': 'gpt-4-1106-preview',\n",
       " 'object': 'thread.run',\n",
       " 'required_action': None,\n",
       " 'started_at': None,\n",
       " 'status': 'queued',\n",
       " 'thread_id': 'thread_nEUYAGd8qBQNhyysyeH36325',\n",
       " 'tools': []}"
      ]
     },
     "metadata": {},
     "output_type": "display_data"
    }
   ],
   "source": [
    "runone = client.beta.threads.runs.create(\n",
    "    thread_id=threadone.id,\n",
    "    assistant_id=assistantone.id,\n",
    ")\n",
    "show_json(runone)"
   ]
  },
  {
   "cell_type": "markdown",
   "id": "919e4b34-705c-41fa-820e-839fac0867fb",
   "metadata": {},
   "source": [
    "## Poll the Status of the Run which is Async"
   ]
  },
  {
   "cell_type": "code",
   "execution_count": 16,
   "id": "40d8e23c-6c73-4031-8d32-4ddff37b4c8c",
   "metadata": {},
   "outputs": [],
   "source": [
    "def wait_on_run(run, thread):\n",
    "    while run.status == \"queued\" or run.status == \"in_progress\":\n",
    "        run = client.beta.threads.runs.retrieve(\n",
    "            thread_id=thread.id,\n",
    "            run_id=run.id,\n",
    "        )\n",
    "        time.sleep(0.5)\n",
    "    return run"
   ]
  },
  {
   "cell_type": "code",
   "execution_count": 17,
   "id": "05de3c0d-a8a8-41ba-a461-e715ed57161f",
   "metadata": {},
   "outputs": [
    {
     "data": {
      "text/plain": [
       "{'id': 'run_Ob8wHDmfkuHbHPj5j3Mthp9j',\n",
       " 'assistant_id': 'asst_bZNdoacKlcfEQy1lk58C1Lyk',\n",
       " 'cancelled_at': None,\n",
       " 'completed_at': 1701089074,\n",
       " 'created_at': 1701089071,\n",
       " 'expires_at': None,\n",
       " 'failed_at': None,\n",
       " 'file_ids': [],\n",
       " 'instructions': 'You are a personal math tutor. Answer questions briefly, in a sentence or less.',\n",
       " 'last_error': None,\n",
       " 'metadata': {},\n",
       " 'model': 'gpt-4-1106-preview',\n",
       " 'object': 'thread.run',\n",
       " 'required_action': None,\n",
       " 'started_at': 1701089072,\n",
       " 'status': 'completed',\n",
       " 'thread_id': 'thread_nEUYAGd8qBQNhyysyeH36325',\n",
       " 'tools': []}"
      ]
     },
     "metadata": {},
     "output_type": "display_data"
    }
   ],
   "source": [
    "runone = wait_on_run(runone, threadone)\n",
    "show_json(runone)"
   ]
  },
  {
   "cell_type": "markdown",
   "id": "fa5738b7-abb0-4a5d-a131-a762dc3a7162",
   "metadata": {},
   "source": [
    "## Return the message from the Assistant to the users Question"
   ]
  },
  {
   "cell_type": "code",
   "execution_count": 18,
   "id": "c4adc27c-7349-47c9-9c3c-38b8d4e800f7",
   "metadata": {},
   "outputs": [
    {
     "data": {
      "text/plain": [
       "{'data': [{'id': 'msg_1CyplGdwE8k7GCHpubMJI2zS',\n",
       "   'assistant_id': 'asst_bZNdoacKlcfEQy1lk58C1Lyk',\n",
       "   'content': [{'text': {'annotations': [],\n",
       "      'value': 'Yes. To solve for x, subtract 11 from both sides to get `3x = 3`, and then divide both sides by 3 to find `x = 1`.'},\n",
       "     'type': 'text'}],\n",
       "   'created_at': 1701089073,\n",
       "   'file_ids': [],\n",
       "   'metadata': {},\n",
       "   'object': 'thread.message',\n",
       "   'role': 'assistant',\n",
       "   'run_id': 'run_Ob8wHDmfkuHbHPj5j3Mthp9j',\n",
       "   'thread_id': 'thread_nEUYAGd8qBQNhyysyeH36325'},\n",
       "  {'id': 'msg_XhAZJd7dv4fYTOerdIfP0gpL',\n",
       "   'assistant_id': None,\n",
       "   'content': [{'text': {'annotations': [],\n",
       "      'value': 'I need to solve the equation `3x + 11 = 14`. Can you help me?'},\n",
       "     'type': 'text'}],\n",
       "   'created_at': 1701088941,\n",
       "   'file_ids': [],\n",
       "   'metadata': {},\n",
       "   'object': 'thread.message',\n",
       "   'role': 'user',\n",
       "   'run_id': None,\n",
       "   'thread_id': 'thread_nEUYAGd8qBQNhyysyeH36325'}],\n",
       " 'object': 'list',\n",
       " 'first_id': 'msg_1CyplGdwE8k7GCHpubMJI2zS',\n",
       " 'last_id': 'msg_XhAZJd7dv4fYTOerdIfP0gpL',\n",
       " 'has_more': False}"
      ]
     },
     "metadata": {},
     "output_type": "display_data"
    }
   ],
   "source": [
    "curr_onemessages = client.beta.threads.messages.list(thread_id=threadone.id)\n",
    "show_json(curr_onemessages)"
   ]
  },
  {
   "cell_type": "code",
   "execution_count": null,
   "id": "4680b6bd-4194-4bd0-8548-4739f29e8295",
   "metadata": {},
   "outputs": [],
   "source": []
  }
 ],
 "metadata": {
  "kernelspec": {
   "display_name": "aimusings",
   "language": "python",
   "name": "aimusings"
  },
  "language_info": {
   "codemirror_mode": {
    "name": "ipython",
    "version": 3
   },
   "file_extension": ".py",
   "mimetype": "text/x-python",
   "name": "python",
   "nbconvert_exporter": "python",
   "pygments_lexer": "ipython3",
   "version": "3.12.0"
  }
 },
 "nbformat": 4,
 "nbformat_minor": 5
}
